{
 "cells": [
  {
   "cell_type": "code",
   "execution_count": 1,
   "metadata": {},
   "outputs": [],
   "source": [
    "from os import rename\n",
    "from os import listdir\n",
    "\n",
    "servers = ['na1', 'euw1', 'eun1', 'jp1']\n",
    "capital = ['NA1', 'EUW1', 'EUN1', 'JP1']\n",
    "for server, cap in zip(servers, capital):\n",
    "    for file in listdir(f'./{server}/'):\n",
    "        old_name = f'./{server}/{file}'\n",
    "        new_name = f'./{server}/{cap}{file[4:]}'\n",
    "\n",
    "        rename(old_name, new_name)"
   ]
  }
 ],
 "metadata": {
  "interpreter": {
   "hash": "916dbcbb3f70747c44a77c7bcd40155683ae19c65e1c03b4aa3499c5328201f1"
  },
  "kernelspec": {
   "display_name": "Python 3.8.10 64-bit",
   "language": "python",
   "name": "python3"
  },
  "language_info": {
   "codemirror_mode": {
    "name": "ipython",
    "version": 3
   },
   "file_extension": ".py",
   "mimetype": "text/x-python",
   "name": "python",
   "nbconvert_exporter": "python",
   "pygments_lexer": "ipython3",
   "version": "3.8.10"
  },
  "orig_nbformat": 4
 },
 "nbformat": 4,
 "nbformat_minor": 2
}
