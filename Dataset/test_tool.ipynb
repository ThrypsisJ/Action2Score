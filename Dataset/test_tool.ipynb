{
 "cells": [
  {
   "cell_type": "code",
   "execution_count": 1,
   "metadata": {},
   "outputs": [],
   "source": [
    "import csv\n",
    "\n",
    "features = (\n",
    "    # basic info\n",
    "    'time', 'player',\n",
    "    # champion\n",
    "    'mage', 'fighter', 'support', 'tank', 'assassin', 'marksman',\n",
    "    # player role\n",
    "    'TOP', 'MIDDLE', 'BOTTOM', 'UTILITY', 'JUNGLE',\n",
    "    # position\n",
    "    'x_position', 'y_posision', 'distance',\n",
    "    # event\n",
    "    'ITEM_PURCHASED', 'ITEM_SOLD', 'ITEM_DESTROYED', 'SKILL_LEVEL_UP', 'LEVEL_UP', 'WARD_PLACED',\n",
    "    'WARD_KILL', 'CHAMPION_KILL', 'CHAMPION_KILL_ASSIST', 'CHAMPION_KILL_VICTIM', 'BUILDING_KILL',\n",
    "    'BUILDING_KILL_ASSIST', 'ELITE_MONSTER_KILL', 'ELITE_MONSTER_KILL_ASSIST', 'event_weight',\n",
    "    # other info\n",
    "    'player_level', 'skill_level', 'tower_diff', 'is_valid'\n",
    ")\n",
    "\n",
    "with open('./timeline_features.csv', 'w', encoding='utf-8', newline='') as file:\n",
    "    writer = csv.writer(file)\n",
    "    for feature in features: writer.writerow([feature])"
   ]
  },
  {
   "cell_type": "code",
   "execution_count": null,
   "metadata": {},
   "outputs": [],
   "source": []
  }
 ],
 "metadata": {
  "interpreter": {
   "hash": "916dbcbb3f70747c44a77c7bcd40155683ae19c65e1c03b4aa3499c5328201f1"
  },
  "kernelspec": {
   "display_name": "Python 3.8.10 64-bit",
   "language": "python",
   "name": "python3"
  },
  "language_info": {
   "codemirror_mode": {
    "name": "ipython",
    "version": 3
   },
   "file_extension": ".py",
   "mimetype": "text/x-python",
   "name": "python",
   "nbconvert_exporter": "python",
   "pygments_lexer": "ipython3",
   "version": "3.8.10"
  },
  "orig_nbformat": 4
 },
 "nbformat": 4,
 "nbformat_minor": 2
}
