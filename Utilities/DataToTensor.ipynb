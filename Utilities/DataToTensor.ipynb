{
 "cells": [
  {
   "cell_type": "markdown",
   "metadata": {},
   "source": [
    "# 훈련 시간정순 피쳐 텐서화"
   ]
  },
  {
   "cell_type": "code",
   "execution_count": 2,
   "metadata": {},
   "outputs": [
    {
     "name": "stdout",
     "output_type": "stream",
     "text": [
      "Processing normal train features...\n"
     ]
    },
    {
     "name": "stderr",
     "output_type": "stream",
     "text": [
      "100%|██████████| 200000/200000 [27:06<00:00, 122.97it/s]"
     ]
    },
    {
     "name": "stdout",
     "output_type": "stream",
     "text": [
      "\n"
     ]
    },
    {
     "name": "stderr",
     "output_type": "stream",
     "text": [
      "\n"
     ]
    }
   ],
   "source": [
    "import pandas as pd\n",
    "import os\n",
    "from tqdm import tqdm\n",
    "from time import sleep\n",
    "from torch import tensor, zeros\n",
    "\n",
    "pickle_route = \"../../../Dataset/League_of_Legends/features_tensor/\"\n",
    "\n",
    "print(\"Processing normal train features...\")\n",
    "sleep(0.5)\n",
    "ftr_route = \"../../../Dataset/League_of_Legends/features_ftr_train/\"\n",
    "feat_list = os.listdir(ftr_route)\n",
    "\n",
    "for file_name in tqdm(feat_list):\n",
    "    f_file = pd.read_feather(f\"{ftr_route}{file_name}\")\n",
    "    f_file = f_file.loc[:,\"time\":\"event_weight\"]\n",
    "    players = []\n",
    "    for idx in range(0, 10):\n",
    "        player = f_file[f_file[\"player\"] == idx+1].drop(columns=[\"player\"])\n",
    "        temp_feature = tensor([player.values]) if len(player) != 0 else zeros([1, 1, 30])\n",
    "        players.append(temp_feature)\n",
    "    pd.to_pickle(players, f\"{pickle_route}Normal_Train/{file_name[0:-4]}.pkl\")\n",
    "print(\"\")"
   ]
  },
  {
   "cell_type": "markdown",
   "metadata": {},
   "source": [
    "# 테스트 시간정순 피쳐 텐서화"
   ]
  },
  {
   "cell_type": "code",
   "execution_count": 3,
   "metadata": {},
   "outputs": [
    {
     "name": "stdout",
     "output_type": "stream",
     "text": [
      "Processing normal test features...\n"
     ]
    },
    {
     "name": "stderr",
     "output_type": "stream",
     "text": [
      "100%|██████████| 45575/45575 [06:10<00:00, 123.06it/s]"
     ]
    },
    {
     "name": "stdout",
     "output_type": "stream",
     "text": [
      "\n"
     ]
    },
    {
     "name": "stderr",
     "output_type": "stream",
     "text": [
      "\n"
     ]
    }
   ],
   "source": [
    "import pandas as pd\n",
    "import os\n",
    "from tqdm import tqdm\n",
    "from time import sleep\n",
    "from torch import tensor, zeros\n",
    "\n",
    "pickle_route = \"../../../Dataset/League_of_Legends/features_tensor/\"\n",
    "\n",
    "print(\"Processing normal test features...\")\n",
    "sleep(0.5)\n",
    "ftr_route = \"../../../Dataset/League_of_Legends/features_ftr_test/\"\n",
    "feat_list = os.listdir(ftr_route)\n",
    "\n",
    "for file_name in tqdm(feat_list):\n",
    "    f_file = pd.read_feather(f\"{ftr_route}{file_name}\")\n",
    "    f_file = f_file.loc[:,\"time\":\"event_weight\"]\n",
    "    players = []\n",
    "    for idx in range(0, 10):\n",
    "        player = f_file[f_file[\"player\"] == idx+1].drop(columns=[\"player\"])\n",
    "        temp_feature = tensor([player.values]) if len(player) != 0 else zeros([1, 1, 30])\n",
    "        players.append(temp_feature)\n",
    "    pd.to_pickle(players, f\"{pickle_route}Normal_Test/{file_name[0:-4]}.pkl\")\n",
    "print(\"\")"
   ]
  },
  {
   "cell_type": "markdown",
   "metadata": {},
   "source": [
    "# 훈련 시간역순 피쳐 텐서화"
   ]
  },
  {
   "cell_type": "code",
   "execution_count": null,
   "metadata": {},
   "outputs": [],
   "source": [
    "import pandas as pd\n",
    "import os\n",
    "from tqdm import tqdm\n",
    "from time import sleep\n",
    "from torch import tensor, zeros\n",
    "\n",
    "ftr_route = \"f:/Dataset/League_of_Legends/features_ftr_train/\"\n",
    "pickle_route = f\"f:/Dataset/League_of_Legends/features_tensor/Flipped_Train/\"\n",
    "\n",
    "print(\"Processing flipped train features...\")\n",
    "sleep(0.5)\n",
    "feat_list = os.listdir(ftr_route)\n",
    "\n",
    "if not os.path.exists(pickle_route): os.mkdir(pickle_route)\n",
    "\n",
    "for file_name in tqdm(feat_list):\n",
    "    f_file = pd.read_feather(f\"{ftr_route}{file_name}\")\n",
    "    f_file = f_file.loc[:,\"time\":\"event_weight\"]\n",
    "    players = []\n",
    "    for idx in range(0, 10):\n",
    "        player = f_file[f_file[\"player\"] == idx+1].drop(columns=[\"player\"])\n",
    "        temp_feature = tensor([player.values]) if len(player) != 0 else zeros([1, 1, 30])\n",
    "        if temp_feature.size()[1] > 1: temp_feature = temp_feature.flip(1)\n",
    "        players.append(temp_feature)\n",
    "    pd.to_pickle(players, f\"{pickle_route}{file_name[0:-4]}.pkl\")\n",
    "print(\"\")"
   ]
  },
  {
   "cell_type": "markdown",
   "metadata": {},
   "source": [
    "# 테스트 시간역순 피쳐 텐서화"
   ]
  },
  {
   "cell_type": "code",
   "execution_count": null,
   "metadata": {},
   "outputs": [],
   "source": [
    "import pandas as pd\n",
    "import os\n",
    "from tqdm import tqdm\n",
    "from time import sleep\n",
    "from torch import tensor, zeros\n",
    "\n",
    "ftr_route = \"f:/Dataset/League_of_Legends/features_ftr_test/\"\n",
    "pickle_route = f\"f:/Dataset/League_of_Legends/features_tensor/Flipped_Test/\"\n",
    "feat_list = os.listdir(ftr_route)\n",
    "\n",
    "print(\"Processing flipped test features...\")\n",
    "sleep(0.5)\n",
    "\n",
    "if not os.path.exists(pickle_route): os.mkdir(pickle_route)\n",
    "\n",
    "for file_name in tqdm(feat_list):\n",
    "    f_file = pd.read_feather(f\"{ftr_route}{file_name}\")\n",
    "    f_file = f_file.loc[:,\"time\":\"event_weight\"]\n",
    "    players = []\n",
    "    for idx in range(0, 10):\n",
    "        player = f_file[f_file[\"player\"] == idx+1].drop(columns=[\"player\"])\n",
    "        temp_feature = tensor([player.values]) if len(player) != 0 else zeros([1, 1, 30])\n",
    "        if temp_feature.size()[1] > 1: temp_feature = temp_feature.flip(1)\n",
    "        players.append(temp_feature)\n",
    "    pd.to_pickle(players, f\"{pickle_route}{file_name[0:-4]}.pkl\")\n",
    "print(\"\")"
   ]
  },
  {
   "cell_type": "markdown",
   "metadata": {},
   "source": [
    "# Separate by team (time-reversed)"
   ]
  },
  {
   "cell_type": "code",
   "execution_count": 2,
   "metadata": {},
   "outputs": [
    {
     "name": "stdout",
     "output_type": "stream",
     "text": [
      "Processing flipped test features...\n"
     ]
    },
    {
     "name": "stderr",
     "output_type": "stream",
     "text": [
      "  0%|          | 0/200000 [00:00<?, ?it/s]\n"
     ]
    },
    {
     "ename": "NameError",
     "evalue": "name 'players' is not defined",
     "output_type": "error",
     "traceback": [
      "\u001b[0;31m---------------------------------------------------------------------------\u001b[0m",
      "\u001b[0;31mNameError\u001b[0m                                 Traceback (most recent call last)",
      "\u001b[0;32m/tmp/ipykernel_27657/2449024623.py\u001b[0m in \u001b[0;36m<module>\u001b[0;34m\u001b[0m\n\u001b[1;32m     28\u001b[0m \u001b[0;34m\u001b[0m\u001b[0m\n\u001b[1;32m     29\u001b[0m     \u001b[0mfeatures\u001b[0m \u001b[0;34m=\u001b[0m \u001b[0;34m[\u001b[0m\u001b[0mblue_features\u001b[0m\u001b[0;34m,\u001b[0m \u001b[0mred_features\u001b[0m\u001b[0;34m]\u001b[0m\u001b[0;34m\u001b[0m\u001b[0;34m\u001b[0m\u001b[0m\n\u001b[0;32m---> 30\u001b[0;31m     \u001b[0mpd\u001b[0m\u001b[0;34m.\u001b[0m\u001b[0mto_pickle\u001b[0m\u001b[0;34m(\u001b[0m\u001b[0mplayers\u001b[0m\u001b[0;34m,\u001b[0m \u001b[0;34mf\"{pickle_route}{file_name[0:-4]}.pkl\"\u001b[0m\u001b[0;34m)\u001b[0m\u001b[0;34m\u001b[0m\u001b[0;34m\u001b[0m\u001b[0m\n\u001b[0m\u001b[1;32m     31\u001b[0m \u001b[0mprint\u001b[0m\u001b[0;34m(\u001b[0m\u001b[0;34m\"\"\u001b[0m\u001b[0;34m)\u001b[0m\u001b[0;34m\u001b[0m\u001b[0;34m\u001b[0m\u001b[0m\n",
      "\u001b[0;31mNameError\u001b[0m: name 'players' is not defined"
     ]
    }
   ],
   "source": [
    "import pandas as pd\n",
    "import os\n",
    "from tqdm import tqdm\n",
    "from time import sleep\n",
    "from torch import tensor, zeros\n",
    "\n",
    "ftr_route = \"../../../Dataset/League_of_Legends/features_ftr_train/\"\n",
    "pickle_route = \"../../../Dataset/League_of_Legends/features_tensor/by_team_train/\"\n",
    "feat_list = os.listdir(ftr_route)\n",
    "\n",
    "print(\"Processing flipped test features...\")\n",
    "sleep(0.5)\n",
    "\n",
    "if not os.path.exists(pickle_route): os.mkdir(pickle_route)\n",
    "\n",
    "for file_name in tqdm(feat_list):\n",
    "    f_file = pd.read_feather(f\"{ftr_route}{file_name}\")\n",
    "    f_file = f_file.loc[:,\"time\":\"event_weight\"]\n",
    "\n",
    "    blue = f_file[f_file['player'] < 5].drop(columns=['player'])\n",
    "    red = f_file[f_file['player'] >= 5].drop(columns=['player'])\n",
    "\n",
    "    blue_features = tensor([blue.values]) if len(blue) != 0 else zeros([1, 1, 30])\n",
    "    if blue_features.shape[1] > 1: blue_features = blue_features.flip(1)\n",
    "\n",
    "    red_features = tensor([red.values]) if len(red) != 0 else zeros([1, 1, 30])\n",
    "    if red_features.shape[1] > 1: red_features = red_features.flip(1)\n",
    "\n",
    "    features = [blue_features, red_features]\n",
    "    pd.to_pickle(features, f\"{pickle_route}{file_name[0:-4]}.pkl\")\n",
    "print(\"\")"
   ]
  },
  {
   "cell_type": "markdown",
   "metadata": {},
   "source": [
    "# Separate by team (Chronological)"
   ]
  },
  {
   "cell_type": "code",
   "execution_count": 3,
   "metadata": {},
   "outputs": [
    {
     "name": "stdout",
     "output_type": "stream",
     "text": [
      "Processing flipped train features...\n"
     ]
    },
    {
     "name": "stderr",
     "output_type": "stream",
     "text": [
      "100%|██████████| 200000/200000 [15:34<00:00, 213.92it/s]\n"
     ]
    }
   ],
   "source": [
    "import pandas as pd\n",
    "import os\n",
    "from tqdm import tqdm\n",
    "from time import sleep\n",
    "from torch import tensor, zeros\n",
    "\n",
    "ftr_route = \"../../../Dataset/League_of_Legends/features_ftr_train/\"\n",
    "pickle_route = \"../../../Dataset/League_of_Legends/features_tensor/by_team_train_ch/\"\n",
    "feat_list = os.listdir(ftr_route)\n",
    "\n",
    "print(\"Processing flipped train features...\")\n",
    "sleep(0.5)\n",
    " \n",
    "if not os.path.exists(pickle_route): os.mkdir(pickle_route)\n",
    "\n",
    "for file_name in tqdm(feat_list):\n",
    "    f_file = pd.read_feather(f\"{ftr_route}{file_name}\")\n",
    "    f_file = f_file.loc[:,\"time\":\"event_weight\"]\n",
    "\n",
    "    blue = f_file[f_file['player'] < 5].drop(columns=['player'])\n",
    "    red = f_file[f_file['player'] >= 5].drop(columns=['player'])\n",
    "\n",
    "    blue_features = tensor([blue.values]) if len(blue) != 0 else zeros([1, 1, 30])\n",
    "    red_features = tensor([red.values]) if len(red) != 0 else zeros([1, 1, 30])\n",
    "\n",
    "    features = [blue_features, red_features]\n",
    "    pd.to_pickle(features, f\"{pickle_route}{file_name[0:-4]}.pkl\")"
   ]
  },
  {
   "cell_type": "code",
   "execution_count": null,
   "metadata": {},
   "outputs": [],
   "source": []
  }
 ],
 "metadata": {
  "interpreter": {
   "hash": "916dbcbb3f70747c44a77c7bcd40155683ae19c65e1c03b4aa3499c5328201f1"
  },
  "kernelspec": {
   "display_name": "Python 3 (ipykernel)",
   "language": "python",
   "name": "python3"
  },
  "language_info": {
   "codemirror_mode": {
    "name": "ipython",
    "version": 3
   },
   "file_extension": ".py",
   "mimetype": "text/x-python",
   "name": "python",
   "nbconvert_exporter": "python",
   "pygments_lexer": "ipython3",
   "version": "3.8.10"
  }
 },
 "nbformat": 4,
 "nbformat_minor": 4
}
