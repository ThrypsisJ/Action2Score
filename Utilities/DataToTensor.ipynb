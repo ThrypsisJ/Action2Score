{
 "cells": [
  {
   "cell_type": "markdown",
   "metadata": {},
   "source": [
    "# 훈련 시간정순 피쳐 텐서화"
   ]
  },
  {
   "cell_type": "code",
   "execution_count": 2,
   "metadata": {},
   "outputs": [
    {
     "name": "stdout",
     "output_type": "stream",
     "text": [
      "Processing normal train features...\n"
     ]
    },
    {
     "name": "stderr",
     "output_type": "stream",
     "text": [
      "100%|██████████| 200000/200000 [27:06<00:00, 122.97it/s]"
     ]
    },
    {
     "name": "stdout",
     "output_type": "stream",
     "text": [
      "\n"
     ]
    },
    {
     "name": "stderr",
     "output_type": "stream",
     "text": [
      "\n"
     ]
    }
   ],
   "source": [
    "import pandas as pd\n",
    "import os\n",
    "from tqdm import tqdm\n",
    "from time import sleep\n",
    "from torch import tensor, zeros\n",
    "\n",
    "pickle_route = \"../../../Dataset/League_of_Legends/features_tensor/\"\n",
    "\n",
    "print(\"Processing normal train features...\")\n",
    "sleep(0.5)\n",
    "ftr_route = \"../../../Dataset/League_of_Legends/features_ftr_train/\"\n",
    "feat_list = os.listdir(ftr_route)\n",
    "\n",
    "for file_name in tqdm(feat_list):\n",
    "    f_file = pd.read_feather(f\"{ftr_route}{file_name}\")\n",
    "    f_file = f_file.loc[:,\"time\":\"event_weight\"]\n",
    "    players = []\n",
    "    for idx in range(0, 10):\n",
    "        player = f_file[f_file[\"player\"] == idx+1].drop(columns=[\"player\"])\n",
    "        temp_feature = tensor([player.values]) if len(player) != 0 else zeros([1, 1, 30])\n",
    "        players.append(temp_feature)\n",
    "    pd.to_pickle(players, f\"{pickle_route}Normal_Train/{file_name[0:-4]}.pkl\")\n",
    "print(\"\")"
   ]
  },
  {
   "cell_type": "markdown",
   "metadata": {},
   "source": [
    "# 테스트 시간정순 피쳐 텐서화"
   ]
  },
  {
   "cell_type": "code",
   "execution_count": 3,
   "metadata": {},
   "outputs": [
    {
     "name": "stdout",
     "output_type": "stream",
     "text": [
      "Processing normal test features...\n"
     ]
    },
    {
     "name": "stderr",
     "output_type": "stream",
     "text": [
      "100%|██████████| 45575/45575 [06:10<00:00, 123.06it/s]"
     ]
    },
    {
     "name": "stdout",
     "output_type": "stream",
     "text": [
      "\n"
     ]
    },
    {
     "name": "stderr",
     "output_type": "stream",
     "text": [
      "\n"
     ]
    }
   ],
   "source": [
    "import pandas as pd\n",
    "import os\n",
    "from tqdm import tqdm\n",
    "from time import sleep\n",
    "from torch import tensor, zeros\n",
    "\n",
    "pickle_route = \"../../../Dataset/League_of_Legends/features_tensor/\"\n",
    "\n",
    "print(\"Processing normal test features...\")\n",
    "sleep(0.5)\n",
    "ftr_route = \"../../../Dataset/League_of_Legends/features_ftr_test/\"\n",
    "feat_list = os.listdir(ftr_route)\n",
    "\n",
    "for file_name in tqdm(feat_list):\n",
    "    f_file = pd.read_feather(f\"{ftr_route}{file_name}\")\n",
    "    f_file = f_file.loc[:,\"time\":\"event_weight\"]\n",
    "    players = []\n",
    "    for idx in range(0, 10):\n",
    "        player = f_file[f_file[\"player\"] == idx+1].drop(columns=[\"player\"])\n",
    "        temp_feature = tensor([player.values]) if len(player) != 0 else zeros([1, 1, 30])\n",
    "        players.append(temp_feature)\n",
    "    pd.to_pickle(players, f\"{pickle_route}Normal_Test/{file_name[0:-4]}.pkl\")\n",
    "print(\"\")"
   ]
  },
  {
   "cell_type": "markdown",
   "metadata": {},
   "source": [
    "# 훈련 시간역순 피쳐 텐서화"
   ]
  },
  {
   "cell_type": "code",
   "execution_count": null,
   "metadata": {},
   "outputs": [],
   "source": [
    "import pandas as pd\n",
    "import os\n",
    "from tqdm import tqdm\n",
    "from time import sleep\n",
    "from torch import tensor, zeros\n",
    "\n",
    "ftr_route = \"f:/Dataset/League_of_Legends/features_ftr_train/\"\n",
    "pickle_route = f\"f:/Dataset/League_of_Legends/features_tensor/Flipped_Train/\"\n",
    "\n",
    "print(\"Processing flipped train features...\")\n",
    "sleep(0.5)\n",
    "feat_list = os.listdir(ftr_route)\n",
    "\n",
    "if not os.path.exists(pickle_route): os.mkdir(pickle_route)\n",
    "\n",
    "for file_name in tqdm(feat_list):\n",
    "    f_file = pd.read_feather(f\"{ftr_route}{file_name}\")\n",
    "    f_file = f_file.loc[:,\"time\":\"event_weight\"]\n",
    "    players = []\n",
    "    for idx in range(0, 10):\n",
    "        player = f_file[f_file[\"player\"] == idx+1].drop(columns=[\"player\"])\n",
    "        temp_feature = tensor([player.values]) if len(player) != 0 else zeros([1, 1, 30])\n",
    "        if temp_feature.size()[1] > 1: temp_feature = temp_feature.flip(1)\n",
    "        players.append(temp_feature)\n",
    "    pd.to_pickle(players, f\"{pickle_route}{file_name[0:-4]}.pkl\")\n",
    "print(\"\")"
   ]
  },
  {
   "cell_type": "markdown",
   "metadata": {},
   "source": [
    "# 테스트 시간역순 피쳐 텐서화"
   ]
  },
  {
   "cell_type": "code",
   "execution_count": null,
   "metadata": {},
   "outputs": [],
   "source": [
    "import pandas as pd\n",
    "import os\n",
    "from tqdm import tqdm\n",
    "from time import sleep\n",
    "from torch import tensor, zeros\n",
    "\n",
    "ftr_route = \"f:/Dataset/League_of_Legends/features_ftr_test/\"\n",
    "pickle_route = f\"f:/Dataset/League_of_Legends/features_tensor/Flipped_Test/\"\n",
    "feat_list = os.listdir(ftr_route)\n",
    "\n",
    "print(\"Processing flipped test features...\")\n",
    "sleep(0.5)\n",
    "\n",
    "if not os.path.exists(pickle_route): os.mkdir(pickle_route)\n",
    "\n",
    "for file_name in tqdm(feat_list):\n",
    "    f_file = pd.read_feather(f\"{ftr_route}{file_name}\")\n",
    "    f_file = f_file.loc[:,\"time\":\"event_weight\"]\n",
    "    players = []\n",
    "    for idx in range(0, 10):\n",
    "        player = f_file[f_file[\"player\"] == idx+1].drop(columns=[\"player\"])\n",
    "        temp_feature = tensor([player.values]) if len(player) != 0 else zeros([1, 1, 30])\n",
    "        if temp_feature.size()[1] > 1: temp_feature = temp_feature.flip(1)\n",
    "        players.append(temp_feature)\n",
    "    pd.to_pickle(players, f\"{pickle_route}{file_name[0:-4]}.pkl\")\n",
    "print(\"\")"
   ]
  },
  {
   "cell_type": "markdown",
   "metadata": {},
   "source": [
    "# 게임시간 5분 미만의 피쳐만 텐서화"
   ]
  },
  {
   "cell_type": "code",
   "execution_count": 2,
   "metadata": {
    "execution": {
     "iopub.execute_input": "2021-08-16T12:34:51.479012Z",
     "iopub.status.busy": "2021-08-16T12:34:51.478801Z",
     "iopub.status.idle": "2021-08-16T12:39:23.406032Z",
     "shell.execute_reply": "2021-08-16T12:39:23.405787Z",
     "shell.execute_reply.started": "2021-08-16T12:34:51.478987Z"
    },
    "tags": []
   },
   "outputs": [
    {
     "name": "stdout",
     "output_type": "stream",
     "text": [
      "Processing test features under 300000...\n"
     ]
    },
    {
     "name": "stderr",
     "output_type": "stream",
     "text": [
      "100%|██████████| 45575/45575 [04:31<00:00, 167.93it/s]"
     ]
    },
    {
     "name": "stdout",
     "output_type": "stream",
     "text": [
      "\n"
     ]
    },
    {
     "name": "stderr",
     "output_type": "stream",
     "text": [
      "\n"
     ]
    }
   ],
   "source": [
    "import pandas as pd\n",
    "import os\n",
    "from tqdm import tqdm\n",
    "from time import sleep\n",
    "from torch import tensor, zeros\n",
    "\n",
    "limit_time = 300000\n",
    "print(f\"Processing test features under {limit_time}...\")\n",
    "sleep(0.5)\n",
    "\n",
    "ftr_route = \"../../../Dataset/League_of_Legends/features_ftr_test/\"\n",
    "test_match_result_ftr = pd.read_feather(\"../processed_ftr/match_result_test.ftr\")\n",
    "pickle_route = f\"../../../Dataset/League_of_Legends/features_tensor/Flipped_Under_{limit_time}_Test/\"\n",
    "\n",
    "if not os.path.exists(pickle_route): os.mkdir(pickle_route)\n",
    "\n",
    "for idx, row in tqdm(test_match_result_ftr.iterrows(), total=test_match_result_ftr.shape[0]):\n",
    "    match_id = row[\"match_no\"]\n",
    "    duration = row[\"duration\"]\n",
    "    f_file = pd.read_feather(f\"{ftr_route}{match_id}.ftr\")\n",
    "    if duration < limit_time: continue\n",
    "    else:\n",
    "        border = limit_time / duration\n",
    "        f_file = f_file[f_file[\"time\"] <= border]\n",
    "        f_file = f_file.loc[:,\"time\":\"event_weight\"]\n",
    "        players = []\n",
    "        for idx in range(0, 10):\n",
    "            player = f_file[f_file[\"player\"] == idx+1].drop(columns=[\"player\"])\n",
    "            temp_feature = tensor([player.values]) if len(player) != 0 else zeros([1, 1, 30])\n",
    "            if temp_feature.size()[1] > 1: temp_feature = temp_feature.flip(1) # 시간정순 텐서 만들 시 주석처리\n",
    "            players.append(temp_feature)\n",
    "        pd.to_pickle(players, f\"{pickle_route}{match_id}.pkl\")\n",
    "print(\"\")"
   ]
  },
  {
   "cell_type": "markdown",
   "metadata": {},
   "source": [
    "# 게임시간 10분 미만의 피쳐만 텐서화"
   ]
  },
  {
   "cell_type": "code",
   "execution_count": 3,
   "metadata": {
    "execution": {
     "iopub.execute_input": "2021-08-16T12:39:23.406623Z",
     "iopub.status.busy": "2021-08-16T12:39:23.406519Z",
     "iopub.status.idle": "2021-08-16T12:44:06.480289Z",
     "shell.execute_reply": "2021-08-16T12:44:06.480007Z",
     "shell.execute_reply.started": "2021-08-16T12:39:23.406613Z"
    }
   },
   "outputs": [
    {
     "name": "stdout",
     "output_type": "stream",
     "text": [
      "Processing test features under 600000...\n"
     ]
    },
    {
     "name": "stderr",
     "output_type": "stream",
     "text": [
      "100%|██████████| 45575/45575 [04:42<00:00, 161.30it/s]"
     ]
    },
    {
     "name": "stdout",
     "output_type": "stream",
     "text": [
      "\n"
     ]
    },
    {
     "name": "stderr",
     "output_type": "stream",
     "text": [
      "\n"
     ]
    }
   ],
   "source": [
    "import pandas as pd\n",
    "import os\n",
    "from tqdm import tqdm\n",
    "from time import sleep\n",
    "from torch import tensor, zeros\n",
    "\n",
    "limit_time = 600000\n",
    "print(f\"Processing test features under {limit_time}...\")\n",
    "sleep(0.5)\n",
    "\n",
    "ftr_route = \"../../../Dataset/League_of_Legends/features_ftr_test/\"\n",
    "test_match_result_ftr = pd.read_feather(\"../processed_ftr/match_result_test.ftr\")\n",
    "pickle_route = f\"../../../Dataset/League_of_Legends/features_tensor/Flipped_Under_{limit_time}_Test/\"\n",
    "\n",
    "if not os.path.exists(pickle_route): os.mkdir(pickle_route)\n",
    "\n",
    "for idx, row in tqdm(test_match_result_ftr.iterrows(), total=test_match_result_ftr.shape[0]):\n",
    "    match_id = row[\"match_no\"]\n",
    "    duration = row[\"duration\"]\n",
    "    f_file = pd.read_feather(f\"{ftr_route}{match_id}.ftr\")\n",
    "    if duration < limit_time: continue\n",
    "    else:\n",
    "        border = limit_time / duration\n",
    "        f_file = f_file[f_file[\"time\"] <= border]\n",
    "        f_file = f_file.loc[:,\"time\":\"event_weight\"]\n",
    "        players = []\n",
    "        for idx in range(0, 10):\n",
    "            player = f_file[f_file[\"player\"] == idx+1].drop(columns=[\"player\"])\n",
    "            temp_feature = tensor([player.values]) if len(player) != 0 else zeros([1, 1, 30])\n",
    "            if temp_feature.size()[1] > 1: temp_feature = temp_feature.flip(1) # 시간정순 텐서 만들 시 주석처리\n",
    "            players.append(temp_feature)\n",
    "        pd.to_pickle(players, f\"{pickle_route}{match_id}.pkl\")\n",
    "print(\"\")"
   ]
  },
  {
   "cell_type": "markdown",
   "metadata": {},
   "source": [
    "# 게임시간 15분 미만의 피쳐만 텐서화"
   ]
  },
  {
   "cell_type": "code",
   "execution_count": 9,
   "metadata": {
    "execution": {
     "iopub.execute_input": "2021-08-16T13:02:28.533205Z",
     "iopub.status.busy": "2021-08-16T13:02:28.533025Z",
     "iopub.status.idle": "2021-08-16T13:07:09.957746Z",
     "shell.execute_reply": "2021-08-16T13:07:09.957513Z",
     "shell.execute_reply.started": "2021-08-16T13:02:28.533193Z"
    },
    "tags": []
   },
   "outputs": [
    {
     "name": "stdout",
     "output_type": "stream",
     "text": [
      "Processing test features under 900000...\n"
     ]
    },
    {
     "name": "stderr",
     "output_type": "stream",
     "text": [
      "100%|██████████| 45575/45575 [04:40<00:00, 162.24it/s]"
     ]
    },
    {
     "name": "stdout",
     "output_type": "stream",
     "text": [
      "\n"
     ]
    },
    {
     "name": "stderr",
     "output_type": "stream",
     "text": [
      "\n"
     ]
    }
   ],
   "source": [
    "import pandas as pd\n",
    "import os\n",
    "from tqdm import tqdm\n",
    "from time import sleep\n",
    "from torch import tensor, zeros\n",
    "\n",
    "limit_time = 900000\n",
    "print(f\"Processing test features under {limit_time}...\")\n",
    "sleep(0.5)\n",
    "\n",
    "ftr_route = \"../../../Dataset/League_of_Legends/features_ftr_test/\"\n",
    "test_match_result_ftr = pd.read_feather(\"../processed_ftr/match_result_test.ftr\")\n",
    "pickle_route = f\"../../../Dataset/League_of_Legends/features_tensor/Normal_Under_{limit_time}_Test/\"\n",
    "\n",
    "if not os.path.exists(pickle_route): os.mkdir(pickle_route)\n",
    "\n",
    "for idx, row in tqdm(test_match_result_ftr.iterrows(), total=test_match_result_ftr.shape[0]):\n",
    "    match_id = row[\"match_no\"]\n",
    "    duration = row[\"duration\"]\n",
    "    f_file = pd.read_feather(f\"{ftr_route}{match_id}.ftr\")\n",
    "    if duration < limit_time: continue\n",
    "    else:\n",
    "        border = limit_time / duration\n",
    "        f_file = f_file[f_file[\"time\"] <= border]\n",
    "        f_file = f_file.loc[:,\"time\":\"event_weight\"]\n",
    "        players = []\n",
    "        for idx in range(0, 10):\n",
    "            player = f_file[f_file[\"player\"] == idx+1].drop(columns=[\"player\"])\n",
    "            temp_feature = tensor([player.values]) if len(player) != 0 else zeros([1, 1, 30])\n",
    "            # if temp_feature.size()[1] > 1: temp_feature = temp_feature.flip(1) # 시간정순 텐서 만들 시 주석처리\n",
    "            players.append(temp_feature)\n",
    "        pd.to_pickle(players, f\"{pickle_route}{match_id}.pkl\")\n",
    "print(\"\")"
   ]
  },
  {
   "cell_type": "markdown",
   "metadata": {},
   "source": [
    "# 게임시간 20분 미만의 피쳐만 텐서화"
   ]
  },
  {
   "cell_type": "code",
   "execution_count": 10,
   "metadata": {
    "execution": {
     "iopub.execute_input": "2021-08-16T13:07:09.958188Z",
     "iopub.status.busy": "2021-08-16T13:07:09.958111Z",
     "iopub.status.idle": "2021-08-16T13:11:42.767020Z",
     "shell.execute_reply": "2021-08-16T13:11:42.766778Z",
     "shell.execute_reply.started": "2021-08-16T13:07:09.958178Z"
    },
    "tags": []
   },
   "outputs": [
    {
     "name": "stdout",
     "output_type": "stream",
     "text": [
      "Processing test features under 1200000...\n"
     ]
    },
    {
     "name": "stderr",
     "output_type": "stream",
     "text": [
      "100%|██████████| 45575/45575 [04:32<00:00, 167.38it/s]"
     ]
    },
    {
     "name": "stdout",
     "output_type": "stream",
     "text": [
      "\n"
     ]
    },
    {
     "name": "stderr",
     "output_type": "stream",
     "text": [
      "\n"
     ]
    }
   ],
   "source": [
    "import pandas as pd\n",
    "import os\n",
    "from tqdm import tqdm\n",
    "from time import sleep\n",
    "from torch import tensor, zeros\n",
    "\n",
    "limit_time = 1200000\n",
    "print(f\"Processing test features under {limit_time}...\")\n",
    "sleep(0.5)\n",
    "\n",
    "ftr_route = \"../../../Dataset/League_of_Legends/features_ftr_test/\"\n",
    "test_match_result_ftr = pd.read_feather(\"../processed_ftr/match_result_test.ftr\")\n",
    "pickle_route = f\"../../../Dataset/League_of_Legends/features_tensor/Normal_Under_{limit_time}_Test/\"\n",
    "\n",
    "if not os.path.exists(pickle_route): os.mkdir(pickle_route)\n",
    "\n",
    "for idx, row in tqdm(test_match_result_ftr.iterrows(), total=test_match_result_ftr.shape[0]):\n",
    "    match_id = row[\"match_no\"]\n",
    "    duration = row[\"duration\"]\n",
    "    f_file = pd.read_feather(f\"{ftr_route}{match_id}.ftr\")\n",
    "    if duration < limit_time: continue\n",
    "    else:\n",
    "        border = limit_time / duration\n",
    "        f_file = f_file[f_file[\"time\"] <= border]\n",
    "        f_file = f_file.loc[:,\"time\":\"event_weight\"]\n",
    "        players = []\n",
    "        for idx in range(0, 10):\n",
    "            player = f_file[f_file[\"player\"] == idx+1].drop(columns=[\"player\"])\n",
    "            temp_feature = tensor([player.values]) if len(player) != 0 else zeros([1, 1, 30])\n",
    "            # if temp_feature.size()[1] > 1: temp_feature = temp_feature.flip(1) # 시간정순 텐서 만들 시 주석처리\n",
    "            players.append(temp_feature)\n",
    "        pd.to_pickle(players, f\"{pickle_route}{match_id}.pkl\")\n",
    "print(\"\")"
   ]
  },
  {
   "cell_type": "markdown",
   "metadata": {},
   "source": [
    "# 게임시간 25분 미만의 피쳐만 텐서화"
   ]
  },
  {
   "cell_type": "code",
   "execution_count": 11,
   "metadata": {
    "execution": {
     "iopub.execute_input": "2021-08-16T13:11:42.767661Z",
     "iopub.status.busy": "2021-08-16T13:11:42.767560Z",
     "iopub.status.idle": "2021-08-16T13:15:33.630178Z",
     "shell.execute_reply": "2021-08-16T13:15:33.629942Z",
     "shell.execute_reply.started": "2021-08-16T13:11:42.767650Z"
    },
    "tags": []
   },
   "outputs": [
    {
     "name": "stdout",
     "output_type": "stream",
     "text": [
      "Processing test features under 1500000...\n"
     ]
    },
    {
     "name": "stderr",
     "output_type": "stream",
     "text": [
      "100%|██████████| 45575/45575 [03:50<00:00, 197.86it/s]"
     ]
    },
    {
     "name": "stdout",
     "output_type": "stream",
     "text": [
      "\n"
     ]
    },
    {
     "name": "stderr",
     "output_type": "stream",
     "text": [
      "\n"
     ]
    }
   ],
   "source": [
    "import pandas as pd\n",
    "import os\n",
    "from tqdm import tqdm\n",
    "from time import sleep\n",
    "from torch import tensor, zeros\n",
    "\n",
    "limit_time = 1500000\n",
    "print(f\"Processing test features under {limit_time}...\")\n",
    "sleep(0.5)\n",
    "\n",
    "ftr_route = \"../../../Dataset/League_of_Legends/features_ftr_test/\"\n",
    "test_match_result_ftr = pd.read_feather(\"../processed_ftr/match_result_test.ftr\")\n",
    "pickle_route = f\"../../../Dataset/League_of_Legends/features_tensor/Normal_Under_{limit_time}_Test/\"\n",
    "\n",
    "if not os.path.exists(pickle_route): os.mkdir(pickle_route)\n",
    "\n",
    "for idx, row in tqdm(test_match_result_ftr.iterrows(), total=test_match_result_ftr.shape[0]):\n",
    "    match_id = row[\"match_no\"]\n",
    "    duration = row[\"duration\"]\n",
    "    f_file = pd.read_feather(f\"{ftr_route}{match_id}.ftr\")\n",
    "    if duration < limit_time: continue\n",
    "    else:\n",
    "        border = limit_time / duration\n",
    "        f_file = f_file[f_file[\"time\"] <= border]\n",
    "        f_file = f_file.loc[:,\"time\":\"event_weight\"]\n",
    "        players = []\n",
    "        for idx in range(0, 10):\n",
    "            player = f_file[f_file[\"player\"] == idx+1].drop(columns=[\"player\"])\n",
    "            temp_feature = tensor([player.values]) if len(player) != 0 else zeros([1, 1, 30])\n",
    "            # if temp_feature.size()[1] > 1: temp_feature = temp_feature.flip(1) # 시간정순 텐서 만들 시 주석처리\n",
    "            players.append(temp_feature)\n",
    "        pd.to_pickle(players, f\"{pickle_route}{match_id}.pkl\")\n",
    "print(\"\")"
   ]
  },
  {
   "cell_type": "markdown",
   "metadata": {},
   "source": [
    "# 게임시간 30분 미만의 피쳐만 텐서화"
   ]
  },
  {
   "cell_type": "code",
   "execution_count": 12,
   "metadata": {
    "execution": {
     "iopub.execute_input": "2021-08-16T13:15:33.630634Z",
     "iopub.status.busy": "2021-08-16T13:15:33.630521Z",
     "iopub.status.idle": "2021-08-16T13:18:17.939426Z",
     "shell.execute_reply": "2021-08-16T13:18:17.939158Z",
     "shell.execute_reply.started": "2021-08-16T13:15:33.630625Z"
    },
    "tags": []
   },
   "outputs": [
    {
     "name": "stdout",
     "output_type": "stream",
     "text": [
      "Processing test features under 1800000...\n"
     ]
    },
    {
     "name": "stderr",
     "output_type": "stream",
     "text": [
      "100%|██████████| 45575/45575 [02:43<00:00, 278.25it/s]"
     ]
    },
    {
     "name": "stdout",
     "output_type": "stream",
     "text": [
      "\n"
     ]
    },
    {
     "name": "stderr",
     "output_type": "stream",
     "text": [
      "\n"
     ]
    }
   ],
   "source": [
    "import pandas as pd\n",
    "import os\n",
    "from tqdm import tqdm\n",
    "from time import sleep\n",
    "from torch import tensor, zeros\n",
    "\n",
    "limit_time = 1800000\n",
    "print(f\"Processing test features under {limit_time}...\")\n",
    "sleep(0.5)\n",
    "\n",
    "ftr_route = \"../../../Dataset/League_of_Legends/features_ftr_test/\"\n",
    "test_match_result_ftr = pd.read_feather(\"../processed_ftr/match_result_test.ftr\")\n",
    "pickle_route = f\"../../../Dataset/League_of_Legends/features_tensor/Normal_Under_{limit_time}_Test/\"\n",
    "\n",
    "if not os.path.exists(pickle_route): os.mkdir(pickle_route)\n",
    "\n",
    "for idx, row in tqdm(test_match_result_ftr.iterrows(), total=test_match_result_ftr.shape[0]):\n",
    "    match_id = row[\"match_no\"]\n",
    "    duration = row[\"duration\"]\n",
    "    f_file = pd.read_feather(f\"{ftr_route}{match_id}.ftr\")\n",
    "    if duration < limit_time: continue\n",
    "    else:\n",
    "        border = limit_time / duration\n",
    "        f_file = f_file[f_file[\"time\"] <= border]\n",
    "        f_file = f_file.loc[:,\"time\":\"event_weight\"]\n",
    "        players = []\n",
    "        for idx in range(0, 10):\n",
    "            player = f_file[f_file[\"player\"] == idx+1].drop(columns=[\"player\"])\n",
    "            temp_feature = tensor([player.values]) if len(player) != 0 else zeros([1, 1, 30])\n",
    "            # if temp_feature.size()[1] > 1: temp_feature = temp_feature.flip(1) # 시간정순 텐서 만들 시 주석처리\n",
    "            players.append(temp_feature)\n",
    "        pd.to_pickle(players, f\"{pickle_route}{match_id}.pkl\")\n",
    "print(\"\")"
   ]
  },
  {
   "cell_type": "markdown",
   "metadata": {},
   "source": [
    "# 게임시간 35분 미만의 피쳐만 텐서화"
   ]
  },
  {
   "cell_type": "code",
   "execution_count": 13,
   "metadata": {
    "execution": {
     "iopub.execute_input": "2021-08-16T13:18:17.939943Z",
     "iopub.status.busy": "2021-08-16T13:18:17.939836Z",
     "iopub.status.idle": "2021-08-16T13:19:55.347777Z",
     "shell.execute_reply": "2021-08-16T13:19:55.347487Z",
     "shell.execute_reply.started": "2021-08-16T13:18:17.939932Z"
    },
    "tags": []
   },
   "outputs": [
    {
     "name": "stdout",
     "output_type": "stream",
     "text": [
      "Processing test features under 2100000...\n"
     ]
    },
    {
     "name": "stderr",
     "output_type": "stream",
     "text": [
      "100%|██████████| 45575/45575 [01:36<00:00, 470.38it/s]"
     ]
    },
    {
     "name": "stdout",
     "output_type": "stream",
     "text": [
      "\n"
     ]
    },
    {
     "name": "stderr",
     "output_type": "stream",
     "text": [
      "\n"
     ]
    }
   ],
   "source": [
    "import pandas as pd\n",
    "import os\n",
    "from tqdm import tqdm\n",
    "from time import sleep\n",
    "from torch import tensor, zeros\n",
    "\n",
    "limit_time = 2100000\n",
    "print(f\"Processing test features under {limit_time}...\")\n",
    "sleep(0.5)\n",
    "\n",
    "ftr_route = \"../../../Dataset/League_of_Legends/features_ftr_test/\"\n",
    "test_match_result_ftr = pd.read_feather(\"../processed_ftr/match_result_test.ftr\")\n",
    "pickle_route = f\"../../../Dataset/League_of_Legends/features_tensor/Normal_Under_{limit_time}_Test/\"\n",
    "\n",
    "if not os.path.exists(pickle_route): os.mkdir(pickle_route)\n",
    "\n",
    "for idx, row in tqdm(test_match_result_ftr.iterrows(), total=test_match_result_ftr.shape[0]):\n",
    "    match_id = row[\"match_no\"]\n",
    "    duration = row[\"duration\"]\n",
    "    f_file = pd.read_feather(f\"{ftr_route}{match_id}.ftr\")\n",
    "    if duration < limit_time: continue\n",
    "    else:\n",
    "        border = limit_time / duration\n",
    "        f_file = f_file[f_file[\"time\"] <= border]\n",
    "        f_file = f_file.loc[:,\"time\":\"event_weight\"]\n",
    "        players = []\n",
    "        for idx in range(0, 10):\n",
    "            player = f_file[f_file[\"player\"] == idx+1].drop(columns=[\"player\"])\n",
    "            temp_feature = tensor([player.values]) if len(player) != 0 else zeros([1, 1, 30])\n",
    "            # if temp_feature.size()[1] > 1: temp_feature = temp_feature.flip(1) # 시간정순 텐서 만들 시 주석처리\n",
    "            players.append(temp_feature)\n",
    "        pd.to_pickle(players, f\"{pickle_route}{match_id}.pkl\")\n",
    "print(\"\")"
   ]
  }
 ],
 "metadata": {
  "interpreter": {
   "hash": "916dbcbb3f70747c44a77c7bcd40155683ae19c65e1c03b4aa3499c5328201f1"
  },
  "kernelspec": {
   "display_name": "Python 3 (ipykernel)",
   "language": "python",
   "name": "python3"
  },
  "language_info": {
   "codemirror_mode": {
    "name": "ipython",
    "version": 3
   },
   "file_extension": ".py",
   "mimetype": "text/x-python",
   "name": "python",
   "nbconvert_exporter": "python",
   "pygments_lexer": "ipython3",
   "version": "3.8.10"
  }
 },
 "nbformat": 4,
 "nbformat_minor": 4
}
