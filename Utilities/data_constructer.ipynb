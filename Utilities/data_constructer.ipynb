{
 "cells": [
  {
   "cell_type": "code",
   "execution_count": 2,
   "source": [
    "import pandas as pd\n",
    "data = pd.read_feather('../processed_ftr/match_result_test.ftr')\n",
    "data"
   ],
   "outputs": [
    {
     "output_type": "execute_result",
     "data": {
      "text/plain": [
       "                     match_no   win  duration\n",
       "0      210510_eun1_2825473081  blue   1562890\n",
       "1      210510_eun1_2825473100  blue   1302671\n",
       "2      210510_eun1_2825473113   red   1859164\n",
       "3      210510_eun1_2825473127   red   2162142\n",
       "4      210510_eun1_2825473135   red   1818489\n",
       "...                       ...   ...       ...\n",
       "45570   210510_na1_3897027455  blue   1757880\n",
       "45571   210510_na1_3897027469   red   1267061\n",
       "45572   210510_na1_3897027481   red    911847\n",
       "45573   210510_na1_3897027495   red   1423878\n",
       "45574   210510_na1_3897027508   red   1620437\n",
       "\n",
       "[45575 rows x 3 columns]"
      ],
      "text/html": [
       "<div>\n",
       "<style scoped>\n",
       "    .dataframe tbody tr th:only-of-type {\n",
       "        vertical-align: middle;\n",
       "    }\n",
       "\n",
       "    .dataframe tbody tr th {\n",
       "        vertical-align: top;\n",
       "    }\n",
       "\n",
       "    .dataframe thead th {\n",
       "        text-align: right;\n",
       "    }\n",
       "</style>\n",
       "<table border=\"1\" class=\"dataframe\">\n",
       "  <thead>\n",
       "    <tr style=\"text-align: right;\">\n",
       "      <th></th>\n",
       "      <th>match_no</th>\n",
       "      <th>win</th>\n",
       "      <th>duration</th>\n",
       "    </tr>\n",
       "  </thead>\n",
       "  <tbody>\n",
       "    <tr>\n",
       "      <th>0</th>\n",
       "      <td>210510_eun1_2825473081</td>\n",
       "      <td>blue</td>\n",
       "      <td>1562890</td>\n",
       "    </tr>\n",
       "    <tr>\n",
       "      <th>1</th>\n",
       "      <td>210510_eun1_2825473100</td>\n",
       "      <td>blue</td>\n",
       "      <td>1302671</td>\n",
       "    </tr>\n",
       "    <tr>\n",
       "      <th>2</th>\n",
       "      <td>210510_eun1_2825473113</td>\n",
       "      <td>red</td>\n",
       "      <td>1859164</td>\n",
       "    </tr>\n",
       "    <tr>\n",
       "      <th>3</th>\n",
       "      <td>210510_eun1_2825473127</td>\n",
       "      <td>red</td>\n",
       "      <td>2162142</td>\n",
       "    </tr>\n",
       "    <tr>\n",
       "      <th>4</th>\n",
       "      <td>210510_eun1_2825473135</td>\n",
       "      <td>red</td>\n",
       "      <td>1818489</td>\n",
       "    </tr>\n",
       "    <tr>\n",
       "      <th>...</th>\n",
       "      <td>...</td>\n",
       "      <td>...</td>\n",
       "      <td>...</td>\n",
       "    </tr>\n",
       "    <tr>\n",
       "      <th>45570</th>\n",
       "      <td>210510_na1_3897027455</td>\n",
       "      <td>blue</td>\n",
       "      <td>1757880</td>\n",
       "    </tr>\n",
       "    <tr>\n",
       "      <th>45571</th>\n",
       "      <td>210510_na1_3897027469</td>\n",
       "      <td>red</td>\n",
       "      <td>1267061</td>\n",
       "    </tr>\n",
       "    <tr>\n",
       "      <th>45572</th>\n",
       "      <td>210510_na1_3897027481</td>\n",
       "      <td>red</td>\n",
       "      <td>911847</td>\n",
       "    </tr>\n",
       "    <tr>\n",
       "      <th>45573</th>\n",
       "      <td>210510_na1_3897027495</td>\n",
       "      <td>red</td>\n",
       "      <td>1423878</td>\n",
       "    </tr>\n",
       "    <tr>\n",
       "      <th>45574</th>\n",
       "      <td>210510_na1_3897027508</td>\n",
       "      <td>red</td>\n",
       "      <td>1620437</td>\n",
       "    </tr>\n",
       "  </tbody>\n",
       "</table>\n",
       "<p>45575 rows × 3 columns</p>\n",
       "</div>"
      ]
     },
     "metadata": {},
     "execution_count": 2
    }
   ],
   "metadata": {
    "execution": {
     "iopub.execute_input": "2021-08-18T15:41:40.056151Z",
     "iopub.status.busy": "2021-08-18T15:41:40.055766Z",
     "iopub.status.idle": "2021-08-18T15:41:43.754848Z",
     "shell.execute_reply": "2021-08-18T15:41:43.754503Z",
     "shell.execute_reply.started": "2021-08-18T15:41:40.056126Z"
    },
    "tags": []
   }
  },
  {
   "cell_type": "code",
   "execution_count": null,
   "source": [],
   "outputs": [],
   "metadata": {}
  }
 ],
 "metadata": {
  "interpreter": {
   "hash": "916dbcbb3f70747c44a77c7bcd40155683ae19c65e1c03b4aa3499c5328201f1"
  },
  "kernelspec": {
   "name": "python3",
   "display_name": "Python 3.8.10 64-bit"
  },
  "language_info": {
   "codemirror_mode": {
    "name": "ipython",
    "version": 3
   },
   "file_extension": ".py",
   "mimetype": "text/x-python",
   "name": "python",
   "nbconvert_exporter": "python",
   "pygments_lexer": "ipython3",
   "version": "3.8.10"
  },
  "metadata": {
   "interpreter": {
    "hash": "ac59ebe37160ed0dfa835113d9b8498d9f09ceb179beaac4002f036b9467c963"
   }
  }
 },
 "nbformat": 4,
 "nbformat_minor": 4
}