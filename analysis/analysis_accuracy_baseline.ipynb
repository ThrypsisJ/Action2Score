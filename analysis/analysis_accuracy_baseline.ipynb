{
 "cells": [
  {
   "cell_type": "code",
   "execution_count": 1,
   "metadata": {},
   "outputs": [],
   "source": [
    "import pickle, json\n",
    "import pandas as pd\n",
    "from pathlib import Path\n",
    "from tqdm import tqdm\n",
    "\n",
    "mat_result = pd.read_csv('./Dataset/results.csv', index_col=0)\n",
    "\n",
    "mat_file = Path('./Dataset/match_list.pkl')\n",
    "with mat_file.open('rb') as file: mat_list = pickle.load(file)\n",
    "\n",
    "mat_list = mat_list[200000:]"
   ]
  },
  {
   "cell_type": "markdown",
   "metadata": {},
   "source": [
    "# KDA"
   ]
  },
  {
   "cell_type": "code",
   "execution_count": 2,
   "metadata": {},
   "outputs": [
    {
     "name": "stderr",
     "output_type": "stream",
     "text": [
      "100%|██████████| 45575/45575 [00:13<00:00, 3311.64it/s]"
     ]
    },
    {
     "name": "stdout",
     "output_type": "stream",
     "text": [
      "ACC:  0.9320899616017554\n",
      "PRE:  0.9323989402615162\n",
      "REC:  0.9351562165173788\n",
      "F1:     0.9337755429549588\n"
     ]
    },
    {
     "name": "stderr",
     "output_type": "stream",
     "text": [
      "\n"
     ]
    }
   ],
   "source": [
    "tp, fn, tn, fp = 0, 0, 0, 0\n",
    "\n",
    "for mat in tqdm(mat_list):\n",
    "    meta = Path(f'./Dataset/matches_raw/meta/{mat[:-4]}.json')\n",
    "    with meta.open('r') as json_file: meta = json.load(json_file)['info']\n",
    "\n",
    "    blue_kills = sum([p['kills'] for p in meta['participants'][:5]])\n",
    "    blue_deaths = sum([p['deaths'] for p in meta['participants'][:5]])\n",
    "    blue_assists = sum([p['assists'] for p in meta['participants'][:5]])\n",
    "    blue_kda = (blue_kills + blue_assists) / blue_deaths if blue_deaths != 0 else (blue_kills + blue_assists) * 1.2\n",
    "\n",
    "    red_kills = sum([p['kills'] for p in meta['participants'][5:]])\n",
    "    red_deaths = sum([p['deaths'] for p in meta['participants'][5:]])\n",
    "    red_assists = sum([p['assists'] for p in meta['participants'][5:]])\n",
    "    red_kda = (red_kills + red_assists) / red_deaths if red_deaths != 0 else (red_kills + red_assists) * 1.2\n",
    "\n",
    "    winner = 'blue' if blue_kda >= red_kda else 'red'\n",
    "    truth = mat_result.loc[mat[:-4], 'win']\n",
    "\n",
    "    if winner == 'blue' and truth == 'blue': tp += 1\n",
    "    if winner == 'blue' and truth == 'red' : fp += 1\n",
    "    if winner == 'red' and truth == 'blue' : fn += 1\n",
    "    if winner == 'red' and truth == 'red'  : tn += 1\n",
    "\n",
    "acc = (tp + tn) / (tp + fp + fn + tn)\n",
    "pre = tp / (tp + fp) if (tp + fp) != 0 else 0.\n",
    "rec = tp / (tp + fn) if (tp + fn) != 0 else 0.\n",
    "f1 = 2 * pre * rec / (pre + rec) if (pre + rec) != 0 else 0.\n",
    "\n",
    "print('ACC: ', acc)\n",
    "print('PRE: ', pre)\n",
    "print('REC: ', rec)\n",
    "print('F1:    ', f1)"
   ]
  },
  {
   "cell_type": "markdown",
   "metadata": {},
   "source": [
    "# Gold"
   ]
  },
  {
   "cell_type": "code",
   "execution_count": 3,
   "metadata": {},
   "outputs": [
    {
     "name": "stderr",
     "output_type": "stream",
     "text": [
      "100%|██████████| 45575/45575 [00:13<00:00, 3295.13it/s]"
     ]
    },
    {
     "name": "stdout",
     "output_type": "stream",
     "text": [
      "ACC:  0.9459791552386176\n",
      "PRE:  0.9516554858255789\n",
      "REC:  0.9423563193759911\n",
      "F1:     0.9469830742064689\n"
     ]
    },
    {
     "name": "stderr",
     "output_type": "stream",
     "text": [
      "\n"
     ]
    }
   ],
   "source": [
    "tp, fn, tn, fp = 0, 0, 0, 0\n",
    "\n",
    "for mat in tqdm(mat_list):\n",
    "    meta = Path(f'./Dataset/matches_raw/meta/{mat[:-4]}.json')\n",
    "    with meta.open('r') as json_file: meta = json.load(json_file)['info']\n",
    "\n",
    "    blue_gold = sum([p['goldEarned']+p['goldSpent'] for p in meta['participants'][:5]])\n",
    "    red_gold = sum([p['goldEarned']+p['goldSpent'] for p in meta['participants'][5:]])\n",
    "\n",
    "    winner = 'blue' if blue_gold >= red_gold else 'red'\n",
    "    truth = mat_result.loc[mat[:-4], 'win']\n",
    "\n",
    "    if winner == 'blue' and truth == 'blue': tp += 1\n",
    "    if winner == 'blue' and truth == 'red' : fp += 1\n",
    "    if winner == 'red' and truth == 'blue' : fn += 1\n",
    "    if winner == 'red' and truth == 'red'  : tn += 1\n",
    "\n",
    "acc = (tp + tn) / (tp + fp + fn + tn)\n",
    "pre = tp / (tp + fp) if (tp + fp) != 0 else 0.\n",
    "rec = tp / (tp + fn) if (tp + fn) != 0 else 0.\n",
    "f1 = 2 * pre * rec / (pre + rec) if (pre + rec) != 0 else 0.\n",
    "\n",
    "print('ACC: ', acc)\n",
    "print('PRE: ', pre)\n",
    "print('REC: ', rec)\n",
    "print('F1:    ', f1)"
   ]
  },
  {
   "cell_type": "markdown",
   "metadata": {},
   "source": [
    "# Creep score"
   ]
  },
  {
   "cell_type": "code",
   "execution_count": 4,
   "metadata": {},
   "outputs": [
    {
     "name": "stderr",
     "output_type": "stream",
     "text": [
      "100%|██████████| 45575/45575 [00:13<00:00, 3313.78it/s]"
     ]
    },
    {
     "name": "stdout",
     "output_type": "stream",
     "text": [
      "ACC:  0.6553812397147559\n",
      "PRE:  0.6719729425028185\n",
      "REC:  0.6386234089058415\n",
      "F1:     0.6548738683308429\n"
     ]
    },
    {
     "name": "stderr",
     "output_type": "stream",
     "text": [
      "\n"
     ]
    }
   ],
   "source": [
    "tp, fn, tn, fp = 0, 0, 0, 0\n",
    "\n",
    "for mat in tqdm(mat_list):\n",
    "    meta = Path(f'./Dataset/matches_raw/meta/{mat[:-4]}.json')\n",
    "    with meta.open('r') as json_file: meta = json.load(json_file)['info']\n",
    "\n",
    "    blue_gold = sum([p['totalMinionsKilled'] for p in meta['participants'][:5]])\n",
    "    red_gold = sum([p['totalMinionsKilled'] for p in meta['participants'][5:]])\n",
    "\n",
    "    winner = 'blue' if blue_gold >= red_gold else 'red'\n",
    "    truth = mat_result.loc[mat[:-4], 'win']\n",
    "\n",
    "    if winner == 'blue' and truth == 'blue': tp += 1\n",
    "    if winner == 'blue' and truth == 'red' : fp += 1\n",
    "    if winner == 'red' and truth == 'blue' : fn += 1\n",
    "    if winner == 'red' and truth == 'red'  : tn += 1\n",
    "\n",
    "acc = (tp + tn) / (tp + fp + fn + tn)\n",
    "pre = tp / (tp + fp) if (tp + fp) != 0 else 0.\n",
    "rec = tp / (tp + fn) if (tp + fn) != 0 else 0.\n",
    "f1 = 2 * pre * rec / (pre + rec) if (pre + rec) != 0 else 0.\n",
    "\n",
    "print('ACC: ', acc)\n",
    "print('PRE: ', pre)\n",
    "print('REC: ', rec)\n",
    "print('F1:    ', f1)"
   ]
  }
 ],
 "metadata": {
  "interpreter": {
   "hash": "31f2aee4e71d21fbe5cf8b01ff0e069b9275f58929596ceb00d14d90e3e16cd6"
  },
  "kernelspec": {
   "display_name": "Python 3.8.10 64-bit",
   "language": "python",
   "name": "python3"
  },
  "language_info": {
   "codemirror_mode": {
    "name": "ipython",
    "version": 3
   },
   "file_extension": ".py",
   "mimetype": "text/x-python",
   "name": "python",
   "nbconvert_exporter": "python",
   "pygments_lexer": "ipython3",
   "version": "3.8.10"
  },
  "orig_nbformat": 4
 },
 "nbformat": 4,
 "nbformat_minor": 2
}
