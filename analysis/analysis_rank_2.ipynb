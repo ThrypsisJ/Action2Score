{
 "cells": [
  {
   "cell_type": "code",
   "execution_count": null,
   "metadata": {},
   "outputs": [],
   "source": [
    "import pandas as pd\n",
    "import pickle\n",
    "from random import choice\n",
    "from pathlib import Path\n",
    "\n",
    "df = pd.read_feather('./experiment/analysis_result.ftr')"
   ]
  },
  {
   "cell_type": "markdown",
   "metadata": {},
   "source": [
    "# AVG 순위와 Model 순위가 7 이상 차이나는 매치/플레이어"
   ]
  },
  {
   "cell_type": "code",
   "execution_count": null,
   "metadata": {},
   "outputs": [],
   "source": [
    "models, matches = [], []\n",
    "for i in range(3):\n",
    "    models.append(df[((df['avg']-df[f'score_model{i+1}'])**2 >= 49)][['match', 'player']])\n",
    "    matches.append(set(models[i]['match'].to_list()))\n",
    "co_matches = list(matches[0].intersection(matches[1].intersection(matches[2])))"
   ]
  },
  {
   "cell_type": "markdown",
   "metadata": {},
   "source": [
    "## 해당 매치 중 하나 불러와서 분석"
   ]
  },
  {
   "cell_type": "code",
   "execution_count": null,
   "metadata": {},
   "outputs": [],
   "source": [
    "match = choice(co_matches)\n",
    "path = Path('./experiment/scores_with_matdata')\n",
    "data = pd.read_feather(path / 'norm' / f'{match}.ftr')\n",
    "data"
   ]
  },
  {
   "cell_type": "markdown",
   "metadata": {},
   "source": [
    "# AVG_nocreep 순위와 Model 순위가 7 이상 차이나는 매치/플레이어"
   ]
  },
  {
   "cell_type": "code",
   "execution_count": null,
   "metadata": {},
   "outputs": [],
   "source": [
    "models, matches = [], []\n",
    "for i in range(3):\n",
    "    models.append(df[((df['avg_nocreep']-df[f'score_model{i+1}'])**2 >= 49)][['match', 'player']])\n",
    "    matches.append(set(models[i]['match'].to_list()))\n",
    "co_matches = list(matches[0].intersection(matches[1].intersection(matches[2])))\n",
    "match = choice(co_matches)"
   ]
  },
  {
   "cell_type": "code",
   "execution_count": 2,
   "metadata": {},
   "outputs": [
    {
     "data": {
      "text/plain": [
       "Index(['time', 'player', 'mage', 'fighter', 'support', 'tank', 'assassin',\n",
       "       'marksman', 'TOP', 'MIDDLE', 'BOTTOM', 'UTILITY', 'JUNGLE',\n",
       "       'x_location', 'y_location', 'distance', 'ITEM_PURCHASED', 'ITEM_SOLD',\n",
       "       'ITEM_DESTROYED', 'SKILL_LEVEL_UP', 'LEVEL_UP', 'WARD_PLACED',\n",
       "       'WARD_KILL', 'CHAMPION_KILL', 'CHAMPION_KILL_ASSIST',\n",
       "       'CHAMPION_KILL_VICTIM', 'BUILDING_KILL', 'BUILDING_KILL_ASSIST',\n",
       "       'ELITE_MONSTER_KILL', 'ELITE_MONSTER_KILL_ASSIST', 'event_weight',\n",
       "       'player_level', 'skill_level', 'tower_diff', 'is_valid'],\n",
       "      dtype='object')"
      ]
     },
     "execution_count": 2,
     "metadata": {},
     "output_type": "execute_result"
    }
   ],
   "source": [
    "import pandas as pd\n",
    "from pathlib import Path\n",
    "from random import choice\n",
    "\n",
    "path = Path('./Dataset/matches_csv/')\n",
    "mat_list = path.glob('*')\n",
    "match = choice(list(mat_list))\n",
    "data = pd.read_csv(match)\n",
    "data.columns"
   ]
  }
 ],
 "metadata": {
  "interpreter": {
   "hash": "31f2aee4e71d21fbe5cf8b01ff0e069b9275f58929596ceb00d14d90e3e16cd6"
  },
  "kernelspec": {
   "display_name": "Python 3.8.10 64-bit",
   "language": "python",
   "name": "python3"
  },
  "language_info": {
   "codemirror_mode": {
    "name": "ipython",
    "version": 3
   },
   "file_extension": ".py",
   "mimetype": "text/x-python",
   "name": "python",
   "nbconvert_exporter": "python",
   "pygments_lexer": "ipython3",
   "version": "3.8.10"
  },
  "orig_nbformat": 4
 },
 "nbformat": 4,
 "nbformat_minor": 2
}
