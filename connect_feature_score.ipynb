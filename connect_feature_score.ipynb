{
 "cells": [
  {
   "cell_type": "markdown",
   "metadata": {},
   "source": [
    "# Feature 데이터에 모델 점수를 연결"
   ]
  },
  {
   "cell_type": "code",
   "execution_count": null,
   "metadata": {},
   "outputs": [],
   "source": [
    "import pandas as pd\n",
    "import numpy as np\n",
    "import pickle\n",
    "from pathlib import Path\n",
    "from tqdm import tqdm\n",
    "\n",
    "base_path = Path('./experiment/matches_scores')\n",
    "csv_path = Path('./Dataset/matches_csv')\n",
    "save_path = Path('./experiment/feature_scores.csv')\n",
    "models = [model.name for model in list(base_path.glob('*'))]\n",
    "match_list = [match.name[:-4] for match in list((base_path / models[0]).glob('*'))]\n",
    "\n",
    "first = True\n",
    "for match in tqdm(match_list):\n",
    "    features = pd.read_csv((csv_path / f'{match}.csv'))\n",
    "    features.sort_values(['player', 'time'], ascending=[True, False]).reset_index(drop=True)\n",
    "    features.drop(['player_level', 'skill_level', 'tower_diff', 'is_valid'], axis='columns', inplace=True)\n",
    "    features.insert(0, 'match_no', match)\n",
    "    for model in models:\n",
    "        features[model] = np.nan\n",
    "        reverse = True if 'reverse' in model else False\n",
    "        score_file = base_path / model / f'{match}.pkl'\n",
    "        with score_file.open('rb') as file: scores = pickle.load(file)\n",
    "        for player, p_scores in enumerate(scores):\n",
    "            p_scores = p_scores.squeeze().tolist()\n",
    "            if reverse and isinstance(p_scores, list): p_scores.reverse()\n",
    "            features.loc[features['player']==(player+1), model] = p_scores\n",
    "    if first:\n",
    "        features.to_csv(save_path, header=True, index=False, mode='w')\n",
    "        first = False\n",
    "    else: features.to_csv(save_path, header=False, index=False, mode='a')"
   ]
  }
 ],
 "metadata": {
  "interpreter": {
   "hash": "31f2aee4e71d21fbe5cf8b01ff0e069b9275f58929596ceb00d14d90e3e16cd6"
  },
  "kernelspec": {
   "display_name": "Python 3.8.10 64-bit",
   "language": "python",
   "name": "python3"
  },
  "language_info": {
   "codemirror_mode": {
    "name": "ipython",
    "version": 3
   },
   "file_extension": ".py",
   "mimetype": "text/x-python",
   "name": "python",
   "nbconvert_exporter": "python",
   "pygments_lexer": "ipython3",
   "version": "3.8.10"
  },
  "orig_nbformat": 4
 },
 "nbformat": 4,
 "nbformat_minor": 2
}
