{
 "cells": [
  {
   "cell_type": "code",
   "execution_count": 1,
   "metadata": {},
   "outputs": [],
   "source": [
    "import pandas as pd\n",
    "import pickle\n",
    "import numpy as np\n",
    "from pathlib import Path\n",
    "\n",
    "mat_path = Path('./Dataset/matches_csv')\n",
    "\n",
    "score_path = Path('./experiment/matches_scores')\n",
    "models = [model.name for model in list(score_path.glob('*'))]\n",
    "\n",
    "save_path = Path('./experiment/scores_with_matdata')"
   ]
  },
  {
   "cell_type": "code",
   "execution_count": 2,
   "metadata": {},
   "outputs": [],
   "source": [
    "def connect(match_list, model):\n",
    "    for idx, match in enumerate(match_list):\n",
    "        endstr = '\\n' if idx == len(match_list)-1 else '\\r'\n",
    "        print(f'[{model} results] ({idx+1:5d}/{len(match_list)}) {(idx+1)/len(match_list)*100:3.1f}% progressing...', end=endstr)\n",
    "        mat_csv = mat_path / f'{match.name[:-4]}.csv'\n",
    "\n",
    "        mat_csv = pd.read_csv(mat_csv)\n",
    "        mat_csv.insert(len(mat_csv.columns), 'score', np.nan)\n",
    "\n",
    "        with match.open('rb') as file: mat_sco = pickle.load(file)\n",
    "\n",
    "        for player in range(10):\n",
    "            if (player+1) not in list(mat_csv.player): continue\n",
    "            scos = mat_sco[player].squeeze().tolist()\n",
    "            if isinstance(scos, list): scos.reverse()\n",
    "            mat_csv.loc[(mat_csv.player==player+1), 'score'] = scos\n",
    "\n",
    "        save_path = Path('./experiment/scores_with_matdata') / model\n",
    "        if not save_path.exists(): save_path.mkdir(parents=True)\n",
    "        mat_csv.to_feather(save_path / f'{match.name[:-4]}.ftr')"
   ]
  },
  {
   "cell_type": "code",
   "execution_count": 3,
   "metadata": {},
   "outputs": [
    {
     "name": "stdout",
     "output_type": "stream",
     "text": [
      "[normal results] (45575/45575) 100.0% progressing...\n",
      "[normal_bce results] (45575/45575) 100.0% progressing...\n",
      "[mlp_bce results] (45575/45575) 100.0% progressing...\n",
      "[zero_h0_bce results] (45575/45575) 100.0% progressing...\n",
      "[zero_h0_reverse results] (45575/45575) 100.0% progressing...\n",
      "[zero_h0 results] (45575/45575) 100.0% progressing...\n",
      "[mlp results] (45575/45575) 100.0% progressing...\n"
     ]
    }
   ],
   "source": [
    "for model in models:\n",
    "    path = score_path / model\n",
    "    connect(list(path.glob('*')), model)"
   ]
  }
 ],
 "metadata": {
  "interpreter": {
   "hash": "916dbcbb3f70747c44a77c7bcd40155683ae19c65e1c03b4aa3499c5328201f1"
  },
  "kernelspec": {
   "display_name": "Python 3.8.10 64-bit",
   "language": "python",
   "name": "python3"
  },
  "language_info": {
   "codemirror_mode": {
    "name": "ipython",
    "version": 3
   },
   "file_extension": ".py",
   "mimetype": "text/x-python",
   "name": "python",
   "nbconvert_exporter": "python",
   "pygments_lexer": "ipython3",
   "version": "3.8.10"
  },
  "orig_nbformat": 4
 },
 "nbformat": 4,
 "nbformat_minor": 2
}
