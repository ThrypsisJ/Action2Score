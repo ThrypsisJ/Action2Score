{
 "cells": [
  {
   "cell_type": "code",
   "execution_count": null,
   "metadata": {},
   "outputs": [],
   "source": [
    "import pandas as pd\n",
    "import pickle\n",
    "import numpy as np\n",
    "from pathlib import Path\n",
    "\n",
    "score_path = Path('./experiment/matches_scores')\n",
    "norm_score = score_path / 'normal'\n",
    "zero_score = score_path / 'zero_h0'\n",
    "mat_path = Path('./Dataset/matches_csv')\n",
    "save_norm = Path('./experiment/scores_with_matdata/norm')\n",
    "save_zero = Path('./experiment/scores_with_matdata/zero_h0')\n",
    "if not save_norm.exists(): save_norm.mkdir(parents=True)\n",
    "if not save_zero.exists(): save_zero.mkdir(parents=True)"
   ]
  },
  {
   "cell_type": "code",
   "execution_count": null,
   "metadata": {},
   "outputs": [],
   "source": [
    "matches_norm = list(norm_score.glob('*'))\n",
    "for idx, match in enumerate(matches_norm):\n",
    "    print(f'[Normal results] ({idx:5d}/{len(matches_norm)}) {idx/len(matches_norm)*100:3.1f}% progressing...', end='\\r')\n",
    "    mat_csv = mat_path / f'{match.name[:-4]}.csv'\n",
    "\n",
    "    mat_csv = pd.read_csv(mat_csv)\n",
    "    mat_csv.insert(len(mat_csv.columns), 'score', np.nan)\n",
    "\n",
    "    with match.open('rb') as file:\n",
    "        mat_sco = pickle.load(file)\n",
    "\n",
    "    for player in range(10):\n",
    "        if (player+1) not in list(mat_csv.player): continue\n",
    "        scos = mat_sco[player].squeeze().tolist()\n",
    "        if isinstance(scos, list): scos.reverse()\n",
    "        mat_csv.loc[(mat_csv.player==player+1), 'score'] = scos\n",
    "    mat_csv.to_feather(save_norm / f'{match.name[:-4]}.ftr')"
   ]
  },
  {
   "cell_type": "code",
   "execution_count": null,
   "metadata": {},
   "outputs": [],
   "source": [
    "matches_zero = list(zero_score.glob('*'))\n",
    "for idx, match in enumerate(matches_zero):\n",
    "    print(f'[Zero_h0 results] ({idx:5d}/{len(matches_zero)}) {idx/len(matches_zero)*100:3.1f}% progressing...', end='\\r')\n",
    "    mat_csv = mat_path / f'{match.name[:-4]}.csv'\n",
    "\n",
    "    mat_csv = pd.read_csv(mat_csv)\n",
    "    mat_csv.insert(len(mat_csv.columns), 'score', np.nan)\n",
    "\n",
    "    with match.open('rb') as file:\n",
    "        mat_sco = pickle.load(file)\n",
    "\n",
    "    for player in range(10):\n",
    "        if (player+1) not in list(mat_csv.player): continue\n",
    "        scos = mat_sco[player].squeeze().tolist()\n",
    "        if isinstance(scos, list): scos.reverse()\n",
    "        mat_csv.loc[(mat_csv.player==player+1), 'score'] = scos\n",
    "    mat_csv.to_feather(save_zero / f'{match.name[:-4]}.ftr')"
   ]
  }
 ],
 "metadata": {
  "language_info": {
   "name": "python"
  },
  "orig_nbformat": 4
 },
 "nbformat": 4,
 "nbformat_minor": 2
}
