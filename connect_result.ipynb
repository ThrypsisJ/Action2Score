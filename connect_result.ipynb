{
 "cells": [
  {
   "cell_type": "code",
   "execution_count": 4,
   "metadata": {},
   "outputs": [],
   "source": [
    "import pandas as pd\n",
    "import pickle\n",
    "import numpy as np\n",
    "from pathlib import Path\n",
    "\n",
    "score_path = Path('./experiment/matches_scores')\n",
    "norm_score = score_path / 'normal'\n",
    "zero_score = score_path / 'zero_h0'\n",
    "mlp_score = score_path / 'mlp'\n",
    "mat_path = Path('./Dataset/matches_csv')\n",
    "save_norm = Path('./experiment/scores_with_matdata/norm')\n",
    "save_zero = Path('./experiment/scores_with_matdata/zero_h0')\n",
    "save_mlp = Path('./experiment/scores_with_matdata/mlp')\n",
    "if not save_norm.exists(): save_norm.mkdir(parents=True)\n",
    "if not save_zero.exists(): save_zero.mkdir(parents=True)\n",
    "if not save_mlp.exists(): save_mlp.mkdir(parents=True)"
   ]
  },
  {
   "cell_type": "code",
   "execution_count": 2,
   "metadata": {},
   "outputs": [
    {
     "name": "stdout",
     "output_type": "stream",
     "text": [
      "[Normal results] (45574/45575) 100.0% progressing...\r"
     ]
    }
   ],
   "source": [
    "matches_norm = list(norm_score.glob('*'))\n",
    "for idx, match in enumerate(matches_norm):\n",
    "    print(f'[Normal results] ({idx:5d}/{len(matches_norm)}) {idx/len(matches_norm)*100:3.1f}% progressing...', end='\\r')\n",
    "    mat_csv = mat_path / f'{match.name[:-4]}.csv'\n",
    "\n",
    "    mat_csv = pd.read_csv(mat_csv)\n",
    "    mat_csv.insert(len(mat_csv.columns), 'score', np.nan)\n",
    "\n",
    "    with match.open('rb') as file:\n",
    "        mat_sco = pickle.load(file)\n",
    "\n",
    "    for player in range(10):\n",
    "        if (player+1) not in list(mat_csv.player): continue\n",
    "        scos = mat_sco[player].squeeze().tolist()\n",
    "        if isinstance(scos, list): scos.reverse()\n",
    "        mat_csv.loc[(mat_csv.player==player+1), 'score'] = scos\n",
    "    mat_csv.to_feather(save_norm / f'{match.name[:-4]}.ftr')"
   ]
  },
  {
   "cell_type": "code",
   "execution_count": 3,
   "metadata": {},
   "outputs": [
    {
     "name": "stdout",
     "output_type": "stream",
     "text": [
      "[Zero_h0 results] (45574/45575) 100.0% progressing...\r"
     ]
    }
   ],
   "source": [
    "matches_zero = list(zero_score.glob('*'))\n",
    "for idx, match in enumerate(matches_zero):\n",
    "    print(f'[Zero_h0 results] ({idx:5d}/{len(matches_zero)}) {idx/len(matches_zero)*100:3.1f}% progressing...', end='\\r')\n",
    "    mat_csv = mat_path / f'{match.name[:-4]}.csv'\n",
    "\n",
    "    mat_csv = pd.read_csv(mat_csv)\n",
    "    mat_csv.insert(len(mat_csv.columns), 'score', np.nan)\n",
    "\n",
    "    with match.open('rb') as file:\n",
    "        mat_sco = pickle.load(file)\n",
    "\n",
    "    for player in range(10):\n",
    "        if (player+1) not in list(mat_csv.player): continue\n",
    "        scos = mat_sco[player].squeeze().tolist()\n",
    "        if isinstance(scos, list): scos.reverse()\n",
    "        mat_csv.loc[(mat_csv.player==player+1), 'score'] = scos\n",
    "    mat_csv.to_feather(save_zero / f'{match.name[:-4]}.ftr')"
   ]
  },
  {
   "cell_type": "code",
   "execution_count": 5,
   "metadata": {},
   "outputs": [
    {
     "name": "stdout",
     "output_type": "stream",
     "text": [
      "[mlp results] (45574/45575) 100.0% progressing...\r"
     ]
    }
   ],
   "source": [
    "matches_mlp = list(mlp_score.glob('*'))\n",
    "for idx, match in enumerate(matches_mlp):\n",
    "    print(f'[mlp results] ({idx:5d}/{len(matches_mlp)}) {idx/len(matches_mlp)*100:3.1f}% progressing...', end='\\r')\n",
    "    mat_csv = mat_path / f'{match.name[:-4]}.csv'\n",
    "\n",
    "    mat_csv = pd.read_csv(mat_csv)\n",
    "    mat_csv.insert(len(mat_csv.columns), 'score', np.nan)\n",
    "\n",
    "    with match.open('rb') as file:\n",
    "        mat_sco = pickle.load(file)\n",
    "\n",
    "    for player in range(10):\n",
    "        if (player+1) not in list(mat_csv.player): continue\n",
    "        scos = mat_sco[player].squeeze().tolist()\n",
    "        if isinstance(scos, list): scos.reverse()\n",
    "        mat_csv.loc[(mat_csv.player==player+1), 'score'] = scos\n",
    "    mat_csv.to_feather(save_mlp / f'{match.name[:-4]}.ftr')"
   ]
  }
 ],
 "metadata": {
  "interpreter": {
   "hash": "916dbcbb3f70747c44a77c7bcd40155683ae19c65e1c03b4aa3499c5328201f1"
  },
  "kernelspec": {
   "display_name": "Python 3.8.10 64-bit",
   "language": "python",
   "name": "python3"
  },
  "language_info": {
   "codemirror_mode": {
    "name": "ipython",
    "version": 3
   },
   "file_extension": ".py",
   "mimetype": "text/x-python",
   "name": "python",
   "nbconvert_exporter": "python",
   "pygments_lexer": "ipython3",
   "version": "3.8.10"
  },
  "orig_nbformat": 4
 },
 "nbformat": 4,
 "nbformat_minor": 2
}
