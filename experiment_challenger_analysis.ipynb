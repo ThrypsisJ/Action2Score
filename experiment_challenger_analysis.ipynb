{
 "cells": [
  {
   "cell_type": "markdown",
   "metadata": {},
   "source": [
    "# Downloads raw data"
   ]
  },
  {
   "cell_type": "code",
   "execution_count": 6,
   "metadata": {},
   "outputs": [
    {
     "name": "stdout",
     "output_type": "stream",
     "text": [
      "Got match data with match id=EUN1_2960023848 successfuly.\n",
      "Got timeline data with match id=EUN1_2960023848 successfuly.\n"
     ]
    }
   ],
   "source": [
    "import API.send_request as req\n",
    "import json\n",
    "\n",
    "# match information\n",
    "match_id = 'EUN1_2960023848'\n",
    "server = 'europe'\n",
    "save_path = '../../Dataset/League_of_Legends/challenger_raw/'\n",
    "\n",
    "sender = req.match_req_sender(server)\n",
    "meta = sender.req_match(match_id)\n",
    "timeline = sender.req_timeline(match_id)\n",
    "\n",
    "if (meta != None and timeline != None):\n",
    "    meta = meta.json()\n",
    "    timeline = timeline.json()\n",
    "\n",
    "    # save json file\n",
    "    with open(save_path+f\"{match_id}.json\", \"w\") as file_match:\n",
    "        json.dump(meta, file_match, indent=4)\n",
    "\n",
    "    with open(save_path+f\"{match_id}_timeline.json\", \"w\") as file_timeline:\n",
    "        json.dump(timeline, file_timeline, indent=4)"
   ]
  },
  {
   "cell_type": "markdown",
   "metadata": {},
   "source": [
    "# Extract features"
   ]
  },
  {
   "cell_type": "code",
   "execution_count": 25,
   "metadata": {},
   "outputs": [
    {
     "name": "stdout",
     "output_type": "stream",
     "text": [
      "Processing flipped train features...\n"
     ]
    },
    {
     "name": "stderr",
     "output_type": "stream",
     "text": [
      "100%|██████████| 12/12 [00:00<00:00, 59.27it/s]"
     ]
    },
    {
     "name": "stdout",
     "output_type": "stream",
     "text": [
      "\n"
     ]
    },
    {
     "name": "stderr",
     "output_type": "stream",
     "text": [
      "\n"
     ]
    }
   ],
   "source": [
    "import pandas as pd\n",
    "from os import listdir\n",
    "from tqdm import tqdm\n",
    "from torch import tensor, zeros\n",
    "\n",
    "pickle_route = \"../../Dataset/League_of_Legends/features_tensor/challenger/\"\n",
    "\n",
    "print(\"Processing flipped train features...\")\n",
    "csv_route = \"../../Dataset/League_of_Legends/challenger_csv/\"\n",
    "feat_list = listdir(csv_route)\n",
    "\n",
    "for file_name in tqdm(feat_list):\n",
    "    file = pd.read_csv(f\"{csv_route}{file_name}\")\n",
    "    file = file.sort_values(by='time', ascending=False, axis=0, ignore_index=True)\n",
    "    file = file[file['is_valid'] == True]\n",
    "    file = file.loc[:,\"time\":\"event_weight\"]\n",
    "    players = []\n",
    "    for idx in range(0, 10):\n",
    "        player = file[file[\"player\"] == idx+1].drop(columns=[\"player\"])\n",
    "        temp_feature = tensor([player.values]) if len(player) != 0 else zeros([1, 1, 30])\n",
    "        # if temp_feature.size()[1] > 1: temp_feature = temp_feature.flip(1)\n",
    "        players.append(temp_feature)\n",
    "    pd.to_pickle(players, f\"{pickle_route}{file_name[0:-4]}.pkl\")\n",
    "print(\"\")"
   ]
  },
  {
   "cell_type": "markdown",
   "metadata": {},
   "source": [
    "# Test\n"
   ]
  },
  {
   "cell_type": "code",
   "execution_count": 26,
   "metadata": {
    "execution": {
     "iopub.execute_input": "2021-10-29T09:50:00.343647Z",
     "iopub.status.busy": "2021-10-29T09:50:00.343401Z",
     "iopub.status.idle": "2021-10-29T09:50:03.771552Z",
     "shell.execute_reply": "2021-10-29T09:50:03.771322Z",
     "shell.execute_reply.started": "2021-10-29T09:50:00.343575Z"
    }
   },
   "outputs": [
    {
     "name": "stdout",
     "output_type": "stream",
     "text": [
      "--test start--\n"
     ]
    },
    {
     "name": "stderr",
     "output_type": "stream",
     "text": [
      "100%|█████████████| 12/12 [00:00<00:00, 66.59it/s]"
     ]
    },
    {
     "name": "stdout",
     "output_type": "stream",
     "text": [
      "TN: 8 / FP: 0 / FN: 0 / TP: 4 / "
     ]
    },
    {
     "name": "stderr",
     "output_type": "stream",
     "text": [
      "\n"
     ]
    }
   ],
   "source": [
    "import pasta_spaghettini as spa\n",
    "from tqdm import tqdm\n",
    "import pandas as pd\n",
    "\n",
    "hp = {\"epochs\": 1, \"learning_rate\": 0.01, \"num_layers\": 1, \"hidden_size\": 8, \"input_size\": 30}\n",
    "PASTA = spa.PASTA(hp[\"input_size\"], hp[\"hidden_size\"], hp[\"num_layers\"], hp[\"learning_rate\"])\n",
    "\n",
    "route = \"../../Dataset/League_of_Legends/features_tensor/challenger/\"\n",
    "\n",
    "test_match_result_ftr = pd.read_csv(\"./processed_csvs/challenger_result.csv\")\n",
    "total_rows = test_match_result_ftr.shape[0]\n",
    "\n",
    "PASTA.load_parameter(postfix=\"_spaghettini\")\n",
    "confusion_matrix, c_label = [0, 0, 0, 0], [\"TN\", \"FP\", \"FN\", \"TP\"]\n",
    "\n",
    "print(\"--test start--\")\n",
    "for idx, row in tqdm(test_match_result_ftr.iterrows(), ncols=50, total=total_rows):\n",
    "    match_id, win = row[\"match_no\"], row[\"win\"]\n",
    "    features = pd.read_pickle(f\"{route}{match_id}.pkl\")\n",
    "    winner, predict = PASTA.test(features, win, match_id, postfix=\"challenger\")\n",
    "    correct = 2*winner + predict\n",
    "    confusion_matrix[correct] += 1\n",
    "\n",
    "for idx in range(0, 4):\n",
    "    print(f\"{c_label[idx]}: {confusion_matrix[idx]} / \", end=\"\")"
   ]
  },
  {
   "cell_type": "markdown",
   "metadata": {},
   "source": [
    "# Score analysis"
   ]
  },
  {
   "cell_type": "code",
   "execution_count": null,
   "metadata": {},
   "outputs": [],
   "source": [
    "import experiment_vis_leaderboard as lb\n",
    "\n",
    "match_id = '210510_eun1_2825546524'\n",
    "# match_id = '210510_euw1_5253755356' # too many WARD_PLACED\n",
    "# match_id = '210510_kr_5179842525'\n",
    "\n",
    "data = lb.load_leaderboard(match_id)\n",
    "data.drop(labels='sum of ranks', axis='columns', inplace=True)\n",
    "data"
   ]
  }
 ],
 "metadata": {
  "interpreter": {
   "hash": "31f2aee4e71d21fbe5cf8b01ff0e069b9275f58929596ceb00d14d90e3e16cd6"
  },
  "kernelspec": {
   "display_name": "Python 3 (ipykernel)",
   "language": "python",
   "name": "python3"
  },
  "language_info": {
   "codemirror_mode": {
    "name": "ipython",
    "version": 3
   },
   "file_extension": ".py",
   "mimetype": "text/x-python",
   "name": "python",
   "nbconvert_exporter": "python",
   "pygments_lexer": "ipython3",
   "version": "3.8.10"
  }
 },
 "nbformat": 4,
 "nbformat_minor": 4
}
