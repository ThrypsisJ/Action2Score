{
 "cells": [
  {
   "cell_type": "markdown",
   "metadata": {
    "tags": []
   },
   "source": [
    "# Lasagna - Garnish v.2\n",
    "* Prediction at 5 min"
   ]
  },
  {
   "cell_type": "code",
   "execution_count": 1,
   "metadata": {
    "execution": {
     "iopub.execute_input": "2021-08-16T14:07:45.062096Z",
     "iopub.status.busy": "2021-08-16T14:07:45.061845Z",
     "iopub.status.idle": "2021-08-16T14:11:05.777739Z",
     "shell.execute_reply": "2021-08-16T14:11:05.777492Z",
     "shell.execute_reply.started": "2021-08-16T14:07:45.062034Z"
    },
    "tags": []
   },
   "outputs": [
    {
     "name": "stdout",
     "output_type": "stream",
     "text": [
      "--test start--\n"
     ]
    },
    {
     "name": "stderr",
     "output_type": "stream",
     "text": [
      "100%|██████| 45575/45575 [03:18<00:00, 229.59it/s]"
     ]
    },
    {
     "name": "stdout",
     "output_type": "stream",
     "text": [
      "TN: 12487 / FP: 9435 / FN: 10042 / TP: 12833 / "
     ]
    },
    {
     "name": "stderr",
     "output_type": "stream",
     "text": [
      "\n"
     ]
    }
   ],
   "source": [
    "import pasta_lasagna_g2 as las\n",
    "from tqdm import tqdm\n",
    "import pandas as pd\n",
    "from os.path import exists\n",
    "\n",
    "hp = {\"epochs\": 1, \"learning_rate\": 0.001, \"input_size\": 30}\n",
    "predict_time = 300000\n",
    "\n",
    "PASTA = las.PASTA(hp[\"input_size\"], hp[\"learning_rate\"])\n",
    "\n",
    "route = \"../../Dataset/League_of_Legends/features_tensor/\"\n",
    "\n",
    "test_match_result_ftr = pd.read_feather(\"./processed_ftr/match_result_test.ftr\")\n",
    "total_rows = test_match_result_ftr.shape[0]\n",
    "\n",
    "PASTA.load_parameter(postfix=\"_lasagna_g2\")\n",
    "confusion_matrix, c_label = [0, 0, 0, 0], [\"TN\", \"FP\", \"FN\", \"TP\"]\n",
    "\n",
    "print(\"--test start--\")\n",
    "for idx, row in tqdm(test_match_result_ftr.iterrows(), ncols=50, total=total_rows):\n",
    "    match_id, win = row[\"match_no\"], row[\"win\"]\n",
    "    if not exists(f\"{route}Normal_Under_{predict_time}_Test/{match_id}.pkl\"):\n",
    "        continue\n",
    "    features = pd.read_pickle(f\"{route}Normal_Under_{predict_time}_Test/{match_id}.pkl\")\n",
    "    winner, predict = PASTA.test(features, win, match_id, postfix=f\"lasagna_g2_{predict_time}\")\n",
    "    correct = 2*winner + predict\n",
    "    confusion_matrix[correct] += 1\n",
    "\n",
    "for idx in range(0, 4):\n",
    "    print(f\"{c_label[idx]}: {confusion_matrix[idx]} / \", end=\"\")"
   ]
  },
  {
   "cell_type": "markdown",
   "metadata": {},
   "source": [
    "# Lasagna - Garnish v.2\n",
    "* Prediction at 10 min"
   ]
  },
  {
   "cell_type": "code",
   "execution_count": 2,
   "metadata": {
    "execution": {
     "iopub.execute_input": "2021-08-16T14:11:05.778214Z",
     "iopub.status.busy": "2021-08-16T14:11:05.778135Z",
     "iopub.status.idle": "2021-08-16T14:15:14.843344Z",
     "shell.execute_reply": "2021-08-16T14:15:14.843093Z",
     "shell.execute_reply.started": "2021-08-16T14:11:05.778205Z"
    },
    "tags": []
   },
   "outputs": [
    {
     "name": "stdout",
     "output_type": "stream",
     "text": [
      "--test start--\n"
     ]
    },
    {
     "name": "stderr",
     "output_type": "stream",
     "text": [
      "100%|██████| 45575/45575 [04:09<00:00, 183.00it/s]"
     ]
    },
    {
     "name": "stdout",
     "output_type": "stream",
     "text": [
      "TN: 13304 / FP: 8615 / FN: 8552 / TP: 14323 / "
     ]
    },
    {
     "name": "stderr",
     "output_type": "stream",
     "text": [
      "\n"
     ]
    }
   ],
   "source": [
    "import pasta_lasagna_g2 as las\n",
    "from tqdm import tqdm\n",
    "import pandas as pd\n",
    "from os.path import exists\n",
    "\n",
    "hp = {\"epochs\": 1, \"learning_rate\": 0.001, \"input_size\": 30}\n",
    "predict_time = 600000\n",
    "\n",
    "PASTA = las.PASTA(hp[\"input_size\"], hp[\"learning_rate\"])\n",
    "\n",
    "route = \"../../Dataset/League_of_Legends/features_tensor/\"\n",
    "\n",
    "test_match_result_ftr = pd.read_feather(\"./processed_ftr/match_result_test.ftr\")\n",
    "total_rows = test_match_result_ftr.shape[0]\n",
    "\n",
    "PASTA.load_parameter(postfix=\"_lasagna_g2\")\n",
    "confusion_matrix, c_label = [0, 0, 0, 0], [\"TN\", \"FP\", \"FN\", \"TP\"]\n",
    "\n",
    "print(\"--test start--\")\n",
    "for idx, row in tqdm(test_match_result_ftr.iterrows(), ncols=50, total=total_rows):\n",
    "    match_id, win = row[\"match_no\"], row[\"win\"]\n",
    "    if not exists(f\"{route}Normal_Under_{predict_time}_Test/{match_id}.pkl\"):\n",
    "        continue\n",
    "    features = pd.read_pickle(f\"{route}Normal_Under_{predict_time}_Test/{match_id}.pkl\")\n",
    "    winner, predict = PASTA.test(features, win, match_id, postfix=f\"lasagna_g2_{predict_time}\")\n",
    "    correct = 2*winner + predict\n",
    "    confusion_matrix[correct] += 1\n",
    "\n",
    "for idx in range(0, 4):\n",
    "    print(f\"{c_label[idx]}: {confusion_matrix[idx]} / \", end=\"\")"
   ]
  },
  {
   "cell_type": "markdown",
   "metadata": {},
   "source": [
    "# Lasagna - Garnish v.2\n",
    "* Prediction at 15 min"
   ]
  },
  {
   "cell_type": "code",
   "execution_count": 3,
   "metadata": {
    "execution": {
     "iopub.execute_input": "2021-08-16T14:15:14.843823Z",
     "iopub.status.busy": "2021-08-16T14:15:14.843744Z",
     "iopub.status.idle": "2021-08-16T14:20:06.661935Z",
     "shell.execute_reply": "2021-08-16T14:20:06.661701Z",
     "shell.execute_reply.started": "2021-08-16T14:15:14.843813Z"
    }
   },
   "outputs": [
    {
     "name": "stdout",
     "output_type": "stream",
     "text": [
      "--test start--\n"
     ]
    },
    {
     "name": "stderr",
     "output_type": "stream",
     "text": [
      "100%|██████| 45575/45575 [04:51<00:00, 156.19it/s]"
     ]
    },
    {
     "name": "stdout",
     "output_type": "stream",
     "text": [
      "TN: 14495 / FP: 7211 / FN: 7132 / TP: 15497 / "
     ]
    },
    {
     "name": "stderr",
     "output_type": "stream",
     "text": [
      "\n"
     ]
    }
   ],
   "source": [
    "import pasta_lasagna_g2 as las\n",
    "from tqdm import tqdm\n",
    "import pandas as pd\n",
    "from os.path import exists\n",
    "\n",
    "hp = {\"epochs\": 1, \"learning_rate\": 0.001, \"input_size\": 30}\n",
    "predict_time = 900000\n",
    "\n",
    "PASTA = las.PASTA(hp[\"input_size\"], hp[\"learning_rate\"])\n",
    "\n",
    "route = \"../../Dataset/League_of_Legends/features_tensor/\"\n",
    "\n",
    "test_match_result_ftr = pd.read_feather(\"./processed_ftr/match_result_test.ftr\")\n",
    "total_rows = test_match_result_ftr.shape[0]\n",
    "\n",
    "PASTA.load_parameter(postfix=\"_lasagna_g2\")\n",
    "confusion_matrix, c_label = [0, 0, 0, 0], [\"TN\", \"FP\", \"FN\", \"TP\"]\n",
    "\n",
    "print(\"--test start--\")\n",
    "for idx, row in tqdm(test_match_result_ftr.iterrows(), ncols=50, total=total_rows):\n",
    "    match_id, win = row[\"match_no\"], row[\"win\"]\n",
    "    if not exists(f\"{route}Normal_Under_{predict_time}_Test/{match_id}.pkl\"):\n",
    "        continue\n",
    "    features = pd.read_pickle(f\"{route}Normal_Under_{predict_time}_Test/{match_id}.pkl\")\n",
    "    winner, predict = PASTA.test(features, win, match_id, postfix=f\"lasagna_g2_{predict_time}\")\n",
    "    correct = 2*winner + predict\n",
    "    confusion_matrix[correct] += 1\n",
    "\n",
    "for idx in range(0, 4):\n",
    "    print(f\"{c_label[idx]}: {confusion_matrix[idx]} / \", end=\"\")"
   ]
  },
  {
   "cell_type": "markdown",
   "metadata": {},
   "source": [
    "# Lasagna - Garnish v.2\n",
    "* Prediction at 20 min"
   ]
  },
  {
   "cell_type": "code",
   "execution_count": 4,
   "metadata": {
    "execution": {
     "iopub.execute_input": "2021-08-16T14:20:06.662635Z",
     "iopub.status.busy": "2021-08-16T14:20:06.662555Z",
     "iopub.status.idle": "2021-08-16T14:25:16.317027Z",
     "shell.execute_reply": "2021-08-16T14:25:16.316784Z",
     "shell.execute_reply.started": "2021-08-16T14:20:06.662625Z"
    }
   },
   "outputs": [
    {
     "name": "stdout",
     "output_type": "stream",
     "text": [
      "--test start--\n"
     ]
    },
    {
     "name": "stderr",
     "output_type": "stream",
     "text": [
      "100%|██████| 45575/45575 [05:09<00:00, 147.19it/s]"
     ]
    },
    {
     "name": "stdout",
     "output_type": "stream",
     "text": [
      "TN: 14647 / FP: 5483 / FN: 5046 / TP: 15690 / "
     ]
    },
    {
     "name": "stderr",
     "output_type": "stream",
     "text": [
      "\n"
     ]
    }
   ],
   "source": [
    "import pasta_lasagna_g2 as las\n",
    "from tqdm import tqdm\n",
    "import pandas as pd\n",
    "from os.path import exists\n",
    "\n",
    "hp = {\"epochs\": 1, \"learning_rate\": 0.001, \"input_size\": 30}\n",
    "predict_time = 1200000\n",
    "\n",
    "PASTA = las.PASTA(hp[\"input_size\"], hp[\"learning_rate\"])\n",
    "\n",
    "route = \"../../Dataset/League_of_Legends/features_tensor/\"\n",
    "\n",
    "test_match_result_ftr = pd.read_feather(\"./processed_ftr/match_result_test.ftr\")\n",
    "total_rows = test_match_result_ftr.shape[0]\n",
    "\n",
    "PASTA.load_parameter(postfix=\"_lasagna_g2\")\n",
    "confusion_matrix, c_label = [0, 0, 0, 0], [\"TN\", \"FP\", \"FN\", \"TP\"]\n",
    "\n",
    "print(\"--test start--\")\n",
    "for idx, row in tqdm(test_match_result_ftr.iterrows(), ncols=50, total=total_rows):\n",
    "    match_id, win = row[\"match_no\"], row[\"win\"]\n",
    "    if not exists(f\"{route}Normal_Under_{predict_time}_Test/{match_id}.pkl\"):\n",
    "        continue\n",
    "    features = pd.read_pickle(f\"{route}Normal_Under_{predict_time}_Test/{match_id}.pkl\")\n",
    "    winner, predict = PASTA.test(features, win, match_id, postfix=f\"lasagna_g2_{predict_time}\")\n",
    "    correct = 2*winner + predict\n",
    "    confusion_matrix[correct] += 1\n",
    "\n",
    "for idx in range(0, 4):\n",
    "    print(f\"{c_label[idx]}: {confusion_matrix[idx]} / \", end=\"\")"
   ]
  },
  {
   "cell_type": "markdown",
   "metadata": {},
   "source": [
    "# Lasagna - Garnish v.2\n",
    "* Prediction at 25 min"
   ]
  },
  {
   "cell_type": "code",
   "execution_count": 5,
   "metadata": {
    "execution": {
     "iopub.execute_input": "2021-08-16T14:25:16.317558Z",
     "iopub.status.busy": "2021-08-16T14:25:16.317420Z",
     "iopub.status.idle": "2021-08-16T14:29:48.568502Z",
     "shell.execute_reply": "2021-08-16T14:29:48.568260Z",
     "shell.execute_reply.started": "2021-08-16T14:25:16.317547Z"
    },
    "tags": []
   },
   "outputs": [
    {
     "name": "stdout",
     "output_type": "stream",
     "text": [
      "--test start--\n"
     ]
    },
    {
     "name": "stderr",
     "output_type": "stream",
     "text": [
      "100%|██████| 45575/45575 [04:32<00:00, 167.42it/s]"
     ]
    },
    {
     "name": "stdout",
     "output_type": "stream",
     "text": [
      "TN: 11871 / FP: 3789 / FN: 3397 / TP: 12536 / "
     ]
    },
    {
     "name": "stderr",
     "output_type": "stream",
     "text": [
      "\n"
     ]
    }
   ],
   "source": [
    "import pasta_lasagna_g2 as las\n",
    "from tqdm import tqdm\n",
    "import pandas as pd\n",
    "from os.path import exists\n",
    "\n",
    "hp = {\"epochs\": 1, \"learning_rate\": 0.001, \"input_size\": 30}\n",
    "predict_time = 1500000\n",
    "\n",
    "PASTA = las.PASTA(hp[\"input_size\"], hp[\"learning_rate\"])\n",
    "\n",
    "route = \"../../Dataset/League_of_Legends/features_tensor/\"\n",
    "\n",
    "test_match_result_ftr = pd.read_feather(\"./processed_ftr/match_result_test.ftr\")\n",
    "total_rows = test_match_result_ftr.shape[0]\n",
    "\n",
    "PASTA.load_parameter(postfix=\"_lasagna_g2\")\n",
    "confusion_matrix, c_label = [0, 0, 0, 0], [\"TN\", \"FP\", \"FN\", \"TP\"]\n",
    "\n",
    "print(\"--test start--\")\n",
    "for idx, row in tqdm(test_match_result_ftr.iterrows(), ncols=50, total=total_rows):\n",
    "    match_id, win = row[\"match_no\"], row[\"win\"]\n",
    "    if not exists(f\"{route}Normal_Under_{predict_time}_Test/{match_id}.pkl\"):\n",
    "        continue\n",
    "    features = pd.read_pickle(f\"{route}Normal_Under_{predict_time}_Test/{match_id}.pkl\")\n",
    "    winner, predict = PASTA.test(features, win, match_id, postfix=f\"lasagna_g2_{predict_time}\")\n",
    "    correct = 2*winner + predict\n",
    "    confusion_matrix[correct] += 1\n",
    "\n",
    "for idx in range(0, 4):\n",
    "    print(f\"{c_label[idx]}: {confusion_matrix[idx]} / \", end=\"\")"
   ]
  },
  {
   "cell_type": "markdown",
   "metadata": {},
   "source": [
    "# Lasagna - Garnish v.2\n",
    "* Prediction at 30 min"
   ]
  },
  {
   "cell_type": "code",
   "execution_count": 6,
   "metadata": {
    "execution": {
     "iopub.execute_input": "2021-08-16T14:29:48.568971Z",
     "iopub.status.busy": "2021-08-16T14:29:48.568892Z",
     "iopub.status.idle": "2021-08-16T14:32:53.631914Z",
     "shell.execute_reply": "2021-08-16T14:32:53.631651Z",
     "shell.execute_reply.started": "2021-08-16T14:29:48.568962Z"
    }
   },
   "outputs": [
    {
     "name": "stdout",
     "output_type": "stream",
     "text": [
      "--test start--\n"
     ]
    },
    {
     "name": "stderr",
     "output_type": "stream",
     "text": [
      "100%|██████| 45575/45575 [03:05<00:00, 246.30it/s]"
     ]
    },
    {
     "name": "stdout",
     "output_type": "stream",
     "text": [
      "TN: 7318 / FP: 2325 / FN: 2121 / TP: 7437 / "
     ]
    },
    {
     "name": "stderr",
     "output_type": "stream",
     "text": [
      "\n"
     ]
    }
   ],
   "source": [
    "import pasta_lasagna_g2 as las\n",
    "from tqdm import tqdm\n",
    "import pandas as pd\n",
    "from os.path import exists\n",
    "\n",
    "hp = {\"epochs\": 1, \"learning_rate\": 0.001, \"input_size\": 30}\n",
    "predict_time = 1800000\n",
    "\n",
    "PASTA = las.PASTA(hp[\"input_size\"], hp[\"learning_rate\"])\n",
    "\n",
    "route = \"../../Dataset/League_of_Legends/features_tensor/\"\n",
    "\n",
    "test_match_result_ftr = pd.read_feather(\"./processed_ftr/match_result_test.ftr\")\n",
    "total_rows = test_match_result_ftr.shape[0]\n",
    "\n",
    "PASTA.load_parameter(postfix=\"_lasagna_g2\")\n",
    "confusion_matrix, c_label = [0, 0, 0, 0], [\"TN\", \"FP\", \"FN\", \"TP\"]\n",
    "\n",
    "print(\"--test start--\")\n",
    "for idx, row in tqdm(test_match_result_ftr.iterrows(), ncols=50, total=total_rows):\n",
    "    match_id, win = row[\"match_no\"], row[\"win\"]\n",
    "    if not exists(f\"{route}Normal_Under_{predict_time}_Test/{match_id}.pkl\"):\n",
    "        continue\n",
    "    features = pd.read_pickle(f\"{route}Normal_Under_{predict_time}_Test/{match_id}.pkl\")\n",
    "    winner, predict = PASTA.test(features, win, match_id, postfix=f\"lasagna_g2_{predict_time}\")\n",
    "    correct = 2*winner + predict\n",
    "    confusion_matrix[correct] += 1\n",
    "\n",
    "for idx in range(0, 4):\n",
    "    print(f\"{c_label[idx]}: {confusion_matrix[idx]} / \", end=\"\")"
   ]
  },
  {
   "cell_type": "markdown",
   "metadata": {},
   "source": [
    "# Lasagna - Garnish v.2\n",
    "* Prediction at 35 min"
   ]
  },
  {
   "cell_type": "code",
   "execution_count": 7,
   "metadata": {
    "execution": {
     "iopub.execute_input": "2021-08-16T14:32:53.632459Z",
     "iopub.status.busy": "2021-08-16T14:32:53.632342Z",
     "iopub.status.idle": "2021-08-16T14:34:22.392919Z",
     "shell.execute_reply": "2021-08-16T14:34:22.392685Z",
     "shell.execute_reply.started": "2021-08-16T14:32:53.632447Z"
    }
   },
   "outputs": [
    {
     "name": "stdout",
     "output_type": "stream",
     "text": [
      "--test start--\n"
     ]
    },
    {
     "name": "stderr",
     "output_type": "stream",
     "text": [
      "100%|██████| 45575/45575 [01:28<00:00, 513.60it/s]"
     ]
    },
    {
     "name": "stdout",
     "output_type": "stream",
     "text": [
      "TN: 3017 / FP: 1150 / FN: 1058 / TP: 3056 / "
     ]
    },
    {
     "name": "stderr",
     "output_type": "stream",
     "text": [
      "\n"
     ]
    }
   ],
   "source": [
    "import pasta_lasagna_g2 as las\n",
    "from tqdm import tqdm\n",
    "import pandas as pd\n",
    "from os.path import exists\n",
    "\n",
    "hp = {\"epochs\": 1, \"learning_rate\": 0.001, \"input_size\": 30}\n",
    "predict_time = 2100000\n",
    "\n",
    "PASTA = las.PASTA(hp[\"input_size\"], hp[\"learning_rate\"])\n",
    "\n",
    "route = \"../../Dataset/League_of_Legends/features_tensor/\"\n",
    "\n",
    "test_match_result_ftr = pd.read_feather(\"./processed_ftr/match_result_test.ftr\")\n",
    "total_rows = test_match_result_ftr.shape[0]\n",
    "\n",
    "PASTA.load_parameter(postfix=\"_lasagna_g2\")\n",
    "confusion_matrix, c_label = [0, 0, 0, 0], [\"TN\", \"FP\", \"FN\", \"TP\"]\n",
    "\n",
    "print(\"--test start--\")\n",
    "for idx, row in tqdm(test_match_result_ftr.iterrows(), ncols=50, total=total_rows):\n",
    "    match_id, win = row[\"match_no\"], row[\"win\"]\n",
    "    if not exists(f\"{route}Normal_Under_{predict_time}_Test/{match_id}.pkl\"):\n",
    "        continue\n",
    "    features = pd.read_pickle(f\"{route}Normal_Under_{predict_time}_Test/{match_id}.pkl\")\n",
    "    winner, predict = PASTA.test(features, win, match_id, postfix=f\"lasagna_g2_{predict_time}\")\n",
    "    correct = 2*winner + predict\n",
    "    confusion_matrix[correct] += 1\n",
    "\n",
    "for idx in range(0, 4):\n",
    "    print(f\"{c_label[idx]}: {confusion_matrix[idx]} / \", end=\"\")"
   ]
  }
 ],
 "metadata": {
  "interpreter": {
   "hash": "916dbcbb3f70747c44a77c7bcd40155683ae19c65e1c03b4aa3499c5328201f1"
  },
  "kernelspec": {
   "display_name": "Python 3 (ipykernel)",
   "language": "python",
   "name": "python3"
  },
  "language_info": {
   "codemirror_mode": {
    "name": "ipython",
    "version": 3
   },
   "file_extension": ".py",
   "mimetype": "text/x-python",
   "name": "python",
   "nbconvert_exporter": "python",
   "pygments_lexer": "ipython3",
   "version": "3.8.10"
  }
 },
 "nbformat": 4,
 "nbformat_minor": 4
}
