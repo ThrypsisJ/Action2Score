{
 "cells": [
  {
   "cell_type": "markdown",
   "metadata": {},
   "source": [
    "# Spaghettini\n",
    "* Prediction at 5 min"
   ]
  },
  {
   "cell_type": "code",
   "execution_count": 3,
   "metadata": {
    "execution": {
     "iopub.execute_input": "2021-08-16T13:30:27.810694Z",
     "iopub.status.busy": "2021-08-16T13:30:27.810480Z",
     "iopub.status.idle": "2021-08-16T13:34:00.818411Z",
     "shell.execute_reply": "2021-08-16T13:34:00.818170Z",
     "shell.execute_reply.started": "2021-08-16T13:30:27.810668Z"
    },
    "tags": []
   },
   "outputs": [
    {
     "name": "stdout",
     "output_type": "stream",
     "text": [
      "--test start--\n"
     ]
    },
    {
     "name": "stderr",
     "output_type": "stream",
     "text": [
      "100%|██████| 45575/45575 [03:32<00:00, 214.01it/s]"
     ]
    },
    {
     "name": "stdout",
     "output_type": "stream",
     "text": [
      "TN: 13928 / FP: 7994 / FN: 10241 / TP: 12634 / "
     ]
    },
    {
     "name": "stderr",
     "output_type": "stream",
     "text": [
      "\n"
     ]
    }
   ],
   "source": [
    "import pasta_spaghettini as spa\n",
    "from tqdm import tqdm\n",
    "import pandas as pd\n",
    "from os.path import exists\n",
    "\n",
    "hp = {\"epochs\": 1, \"learning_rate\": 0.01, \"num_layers\": 1, \"hidden_size\": 8, \"input_size\": 30}\n",
    "predict_time = 300000\n",
    "\n",
    "PASTA = spa.PASTA(hp[\"input_size\"], hp[\"hidden_size\"], hp[\"num_layers\"], hp[\"learning_rate\"])\n",
    "\n",
    "route = \"../../Dataset/League_of_Legends/features_tensor/\"\n",
    "\n",
    "test_match_result_ftr = pd.read_feather(\"./processed_ftr/match_result_test.ftr\")\n",
    "total_rows = test_match_result_ftr.shape[0]\n",
    "\n",
    "PASTA.load_parameter(postfix=\"_spaghettini\")\n",
    "confusion_matrix, c_label = [0, 0, 0, 0], [\"TN\", \"FP\", \"FN\", \"TP\"]\n",
    "\n",
    "print(\"--test start--\")\n",
    "for idx, row in tqdm(test_match_result_ftr.iterrows(), ncols=50, total=total_rows):\n",
    "    match_id, win = row[\"match_no\"], row[\"win\"]\n",
    "    if not exists(f\"{route}Flipped_Under_{predict_time}_Test/{match_id}.pkl\"):\n",
    "        continue\n",
    "    features = pd.read_pickle(f\"{route}Flipped_Under_{predict_time}_Test/{match_id}.pkl\")\n",
    "    winner, predict = PASTA.test(features, win, match_id, postfix=f\"spaghettini_{predict_time}\")\n",
    "    correct = 2*winner + predict\n",
    "    confusion_matrix[correct] += 1\n",
    "\n",
    "for idx in range(0, 4):\n",
    "    print(f\"{c_label[idx]}: {confusion_matrix[idx]} / \", end=\"\")"
   ]
  },
  {
   "cell_type": "markdown",
   "metadata": {},
   "source": [
    "# Spaghettini\n",
    "* Prediction at 10 min"
   ]
  },
  {
   "cell_type": "code",
   "execution_count": 4,
   "metadata": {
    "execution": {
     "iopub.execute_input": "2021-08-16T13:34:00.818986Z",
     "iopub.status.busy": "2021-08-16T13:34:00.818911Z",
     "iopub.status.idle": "2021-08-16T13:39:07.454707Z",
     "shell.execute_reply": "2021-08-16T13:39:07.454465Z",
     "shell.execute_reply.started": "2021-08-16T13:34:00.818977Z"
    },
    "tags": []
   },
   "outputs": [
    {
     "name": "stdout",
     "output_type": "stream",
     "text": [
      "--test start--\n"
     ]
    },
    {
     "name": "stderr",
     "output_type": "stream",
     "text": [
      "100%|██████| 45575/45575 [05:06<00:00, 148.64it/s]"
     ]
    },
    {
     "name": "stdout",
     "output_type": "stream",
     "text": [
      "TN: 14988 / FP: 6931 / FN: 7996 / TP: 14879 / "
     ]
    },
    {
     "name": "stderr",
     "output_type": "stream",
     "text": [
      "\n"
     ]
    }
   ],
   "source": [
    "import pasta_spaghettini as spa\n",
    "from tqdm import tqdm\n",
    "import pandas as pd\n",
    "from os.path import exists\n",
    "\n",
    "hp = {\"epochs\": 1, \"learning_rate\": 0.01, \"num_layers\": 1, \"hidden_size\": 8, \"input_size\": 30}\n",
    "predict_time = 600000\n",
    "\n",
    "PASTA = spa.PASTA(hp[\"input_size\"], hp[\"hidden_size\"], hp[\"num_layers\"], hp[\"learning_rate\"])\n",
    "\n",
    "route = \"../../Dataset/League_of_Legends/features_tensor/\"\n",
    "\n",
    "test_match_result_ftr = pd.read_feather(\"./processed_ftr/match_result_test.ftr\")\n",
    "total_rows = test_match_result_ftr.shape[0]\n",
    "\n",
    "PASTA.load_parameter(postfix=\"_spaghettini\")\n",
    "confusion_matrix, c_label = [0, 0, 0, 0], [\"TN\", \"FP\", \"FN\", \"TP\"]\n",
    "\n",
    "print(\"--test start--\")\n",
    "for idx, row in tqdm(test_match_result_ftr.iterrows(), ncols=50, total=total_rows):\n",
    "    match_id, win = row[\"match_no\"], row[\"win\"]\n",
    "    if not exists(f\"{route}Flipped_Under_{predict_time}_Test/{match_id}.pkl\"):\n",
    "        continue\n",
    "    features = pd.read_pickle(f\"{route}Flipped_Under_{predict_time}_Test/{match_id}.pkl\")\n",
    "    winner, predict = PASTA.test(features, win, match_id, postfix=f\"spaghettini_{predict_time}\")\n",
    "    correct = 2*winner + predict\n",
    "    confusion_matrix[correct] += 1\n",
    "\n",
    "for idx in range(0, 4):\n",
    "    print(f\"{c_label[idx]}: {confusion_matrix[idx]} / \", end=\"\")"
   ]
  },
  {
   "cell_type": "markdown",
   "metadata": {},
   "source": [
    "# Spaghettini\n",
    "* Prediction at 15 min"
   ]
  },
  {
   "cell_type": "code",
   "execution_count": 5,
   "metadata": {
    "execution": {
     "iopub.execute_input": "2021-08-16T13:39:07.455264Z",
     "iopub.status.busy": "2021-08-16T13:39:07.455090Z",
     "iopub.status.idle": "2021-08-16T13:45:37.474703Z",
     "shell.execute_reply": "2021-08-16T13:45:37.474426Z",
     "shell.execute_reply.started": "2021-08-16T13:39:07.455254Z"
    },
    "tags": []
   },
   "outputs": [
    {
     "name": "stdout",
     "output_type": "stream",
     "text": [
      "--test start--\n"
     ]
    },
    {
     "name": "stderr",
     "output_type": "stream",
     "text": [
      "100%|██████| 45575/45575 [06:29<00:00, 116.86it/s]"
     ]
    },
    {
     "name": "stdout",
     "output_type": "stream",
     "text": [
      "TN: 16259 / FP: 5447 / FN: 6102 / TP: 16527 / "
     ]
    },
    {
     "name": "stderr",
     "output_type": "stream",
     "text": [
      "\n"
     ]
    }
   ],
   "source": [
    "import pasta_spaghettini as spa\n",
    "from tqdm import tqdm\n",
    "import pandas as pd\n",
    "from os.path import exists\n",
    "\n",
    "hp = {\"epochs\": 1, \"learning_rate\": 0.01, \"num_layers\": 1, \"hidden_size\": 8, \"input_size\": 30}\n",
    "predict_time = 900000\n",
    "\n",
    "PASTA = spa.PASTA(hp[\"input_size\"], hp[\"hidden_size\"], hp[\"num_layers\"], hp[\"learning_rate\"])\n",
    "\n",
    "route = \"../../Dataset/League_of_Legends/features_tensor/\"\n",
    "\n",
    "test_match_result_ftr = pd.read_feather(\"./processed_ftr/match_result_test.ftr\")\n",
    "total_rows = test_match_result_ftr.shape[0]\n",
    "\n",
    "PASTA.load_parameter(postfix=\"_spaghettini\")\n",
    "confusion_matrix, c_label = [0, 0, 0, 0], [\"TN\", \"FP\", \"FN\", \"TP\"]\n",
    "\n",
    "print(\"--test start--\")\n",
    "for idx, row in tqdm(test_match_result_ftr.iterrows(), ncols=50, total=total_rows):\n",
    "    match_id, win = row[\"match_no\"], row[\"win\"]\n",
    "    if not exists(f\"{route}Flipped_Under_{predict_time}_Test/{match_id}.pkl\"):\n",
    "        continue\n",
    "    features = pd.read_pickle(f\"{route}Flipped_Under_{predict_time}_Test/{match_id}.pkl\")\n",
    "    winner, predict = PASTA.test(features, win, match_id, postfix=f\"spaghettini_{predict_time}\")\n",
    "    correct = 2*winner + predict\n",
    "    confusion_matrix[correct] += 1\n",
    "\n",
    "for idx in range(0, 4):\n",
    "    print(f\"{c_label[idx]}: {confusion_matrix[idx]} / \", end=\"\")"
   ]
  },
  {
   "cell_type": "markdown",
   "metadata": {},
   "source": [
    "# Spaghettini\n",
    "* Prediction at 20 min"
   ]
  },
  {
   "cell_type": "code",
   "execution_count": 6,
   "metadata": {
    "execution": {
     "iopub.execute_input": "2021-08-16T13:45:37.475642Z",
     "iopub.status.busy": "2021-08-16T13:45:37.475506Z",
     "iopub.status.idle": "2021-08-16T13:52:57.319047Z",
     "shell.execute_reply": "2021-08-16T13:52:57.318807Z",
     "shell.execute_reply.started": "2021-08-16T13:45:37.475628Z"
    },
    "tags": []
   },
   "outputs": [
    {
     "name": "stdout",
     "output_type": "stream",
     "text": [
      "--test start--\n"
     ]
    },
    {
     "name": "stderr",
     "output_type": "stream",
     "text": [
      "100%|██████| 45575/45575 [07:19<00:00, 103.62it/s]"
     ]
    },
    {
     "name": "stdout",
     "output_type": "stream",
     "text": [
      "TN: 15875 / FP: 4255 / FN: 4704 / TP: 16032 / "
     ]
    },
    {
     "name": "stderr",
     "output_type": "stream",
     "text": [
      "\n"
     ]
    }
   ],
   "source": [
    "import pasta_spaghettini as spa\n",
    "from tqdm import tqdm\n",
    "import pandas as pd\n",
    "from os.path import exists\n",
    "\n",
    "hp = {\"epochs\": 1, \"learning_rate\": 0.01, \"num_layers\": 1, \"hidden_size\": 8, \"input_size\": 30}\n",
    "predict_time = 1200000\n",
    "\n",
    "PASTA = spa.PASTA(hp[\"input_size\"], hp[\"hidden_size\"], hp[\"num_layers\"], hp[\"learning_rate\"])\n",
    "\n",
    "route = \"../../Dataset/League_of_Legends/features_tensor/\"\n",
    "\n",
    "test_match_result_ftr = pd.read_feather(\"./processed_ftr/match_result_test.ftr\")\n",
    "total_rows = test_match_result_ftr.shape[0]\n",
    "\n",
    "PASTA.load_parameter(postfix=\"_spaghettini\")\n",
    "confusion_matrix, c_label = [0, 0, 0, 0], [\"TN\", \"FP\", \"FN\", \"TP\"]\n",
    "\n",
    "print(\"--test start--\")\n",
    "for idx, row in tqdm(test_match_result_ftr.iterrows(), ncols=50, total=total_rows):\n",
    "    match_id, win = row[\"match_no\"], row[\"win\"]\n",
    "    if not exists(f\"{route}Flipped_Under_{predict_time}_Test/{match_id}.pkl\"):\n",
    "        continue\n",
    "    features = pd.read_pickle(f\"{route}Flipped_Under_{predict_time}_Test/{match_id}.pkl\")\n",
    "    winner, predict = PASTA.test(features, win, match_id, postfix=f\"spaghettini_{predict_time}\")\n",
    "    correct = 2*winner + predict\n",
    "    confusion_matrix[correct] += 1\n",
    "\n",
    "for idx in range(0, 4):\n",
    "    print(f\"{c_label[idx]}: {confusion_matrix[idx]} / \", end=\"\")"
   ]
  },
  {
   "cell_type": "markdown",
   "metadata": {},
   "source": [
    "# Spaghettini\n",
    "* Prediction at 25 min"
   ]
  },
  {
   "cell_type": "code",
   "execution_count": 7,
   "metadata": {
    "execution": {
     "iopub.execute_input": "2021-08-16T13:52:57.319541Z",
     "iopub.status.busy": "2021-08-16T13:52:57.319420Z",
     "iopub.status.idle": "2021-08-16T13:59:39.860993Z",
     "shell.execute_reply": "2021-08-16T13:59:39.860758Z",
     "shell.execute_reply.started": "2021-08-16T13:52:57.319531Z"
    }
   },
   "outputs": [
    {
     "name": "stdout",
     "output_type": "stream",
     "text": [
      "--test start--\n"
     ]
    },
    {
     "name": "stderr",
     "output_type": "stream",
     "text": [
      "100%|██████| 45575/45575 [06:42<00:00, 113.22it/s]"
     ]
    },
    {
     "name": "stdout",
     "output_type": "stream",
     "text": [
      "TN: 12556 / FP: 3104 / FN: 3389 / TP: 12544 / "
     ]
    },
    {
     "name": "stderr",
     "output_type": "stream",
     "text": [
      "\n"
     ]
    }
   ],
   "source": [
    "import pasta_spaghettini as spa\n",
    "from tqdm import tqdm\n",
    "import pandas as pd\n",
    "from os.path import exists\n",
    "\n",
    "hp = {\"epochs\": 1, \"learning_rate\": 0.01, \"num_layers\": 1, \"hidden_size\": 8, \"input_size\": 30}\n",
    "predict_time = 1500000\n",
    "\n",
    "PASTA = spa.PASTA(hp[\"input_size\"], hp[\"hidden_size\"], hp[\"num_layers\"], hp[\"learning_rate\"])\n",
    "\n",
    "route = \"../../Dataset/League_of_Legends/features_tensor/\"\n",
    "\n",
    "test_match_result_ftr = pd.read_feather(\"./processed_ftr/match_result_test.ftr\")\n",
    "total_rows = test_match_result_ftr.shape[0]\n",
    "\n",
    "PASTA.load_parameter(postfix=\"_spaghettini\")\n",
    "confusion_matrix, c_label = [0, 0, 0, 0], [\"TN\", \"FP\", \"FN\", \"TP\"]\n",
    "\n",
    "print(\"--test start--\")\n",
    "for idx, row in tqdm(test_match_result_ftr.iterrows(), ncols=50, total=total_rows):\n",
    "    match_id, win = row[\"match_no\"], row[\"win\"]\n",
    "    if not exists(f\"{route}Flipped_Under_{predict_time}_Test/{match_id}.pkl\"):\n",
    "        continue\n",
    "    features = pd.read_pickle(f\"{route}Flipped_Under_{predict_time}_Test/{match_id}.pkl\")\n",
    "    winner, predict = PASTA.test(features, win, match_id, postfix=f\"spaghettini_{predict_time}\")\n",
    "    correct = 2*winner + predict\n",
    "    confusion_matrix[correct] += 1\n",
    "\n",
    "for idx in range(0, 4):\n",
    "    print(f\"{c_label[idx]}: {confusion_matrix[idx]} / \", end=\"\")"
   ]
  },
  {
   "cell_type": "markdown",
   "metadata": {},
   "source": [
    "# Spaghettini\n",
    "* Prediction at 30 min"
   ]
  },
  {
   "cell_type": "code",
   "execution_count": 8,
   "metadata": {
    "execution": {
     "iopub.execute_input": "2021-08-16T13:59:39.861465Z",
     "iopub.status.busy": "2021-08-16T13:59:39.861375Z",
     "iopub.status.idle": "2021-08-16T14:04:21.356615Z",
     "shell.execute_reply": "2021-08-16T14:04:21.356356Z",
     "shell.execute_reply.started": "2021-08-16T13:59:39.861455Z"
    }
   },
   "outputs": [
    {
     "name": "stdout",
     "output_type": "stream",
     "text": [
      "--test start--\n"
     ]
    },
    {
     "name": "stderr",
     "output_type": "stream",
     "text": [
      "100%|██████| 45575/45575 [04:41<00:00, 161.91it/s]"
     ]
    },
    {
     "name": "stdout",
     "output_type": "stream",
     "text": [
      "TN: 7677 / FP: 1966 / FN: 2225 / TP: 7333 / "
     ]
    },
    {
     "name": "stderr",
     "output_type": "stream",
     "text": [
      "\n"
     ]
    }
   ],
   "source": [
    "import pasta_spaghettini as spa\n",
    "from tqdm import tqdm\n",
    "import pandas as pd\n",
    "from os.path import exists\n",
    "\n",
    "hp = {\"epochs\": 1, \"learning_rate\": 0.01, \"num_layers\": 1, \"hidden_size\": 8, \"input_size\": 30}\n",
    "predict_time = 1800000\n",
    "\n",
    "PASTA = spa.PASTA(hp[\"input_size\"], hp[\"hidden_size\"], hp[\"num_layers\"], hp[\"learning_rate\"])\n",
    "\n",
    "route = \"../../Dataset/League_of_Legends/features_tensor/\"\n",
    "\n",
    "test_match_result_ftr = pd.read_feather(\"./processed_ftr/match_result_test.ftr\")\n",
    "total_rows = test_match_result_ftr.shape[0]\n",
    "\n",
    "PASTA.load_parameter(postfix=\"_spaghettini\")\n",
    "confusion_matrix, c_label = [0, 0, 0, 0], [\"TN\", \"FP\", \"FN\", \"TP\"]\n",
    "\n",
    "print(\"--test start--\")\n",
    "for idx, row in tqdm(test_match_result_ftr.iterrows(), ncols=50, total=total_rows):\n",
    "    match_id, win = row[\"match_no\"], row[\"win\"]\n",
    "    if not exists(f\"{route}Flipped_Under_{predict_time}_Test/{match_id}.pkl\"):\n",
    "        continue\n",
    "    features = pd.read_pickle(f\"{route}Flipped_Under_{predict_time}_Test/{match_id}.pkl\")\n",
    "    winner, predict = PASTA.test(features, win, match_id, postfix=f\"spaghettini_{predict_time}\")\n",
    "    correct = 2*winner + predict\n",
    "    confusion_matrix[correct] += 1\n",
    "\n",
    "for idx in range(0, 4):\n",
    "    print(f\"{c_label[idx]}: {confusion_matrix[idx]} / \", end=\"\")"
   ]
  },
  {
   "cell_type": "markdown",
   "metadata": {},
   "source": [
    "# Spaghettini\n",
    "* Prediction at 35 min"
   ]
  },
  {
   "cell_type": "code",
   "execution_count": 9,
   "metadata": {
    "execution": {
     "iopub.execute_input": "2021-08-16T14:04:21.357141Z",
     "iopub.status.busy": "2021-08-16T14:04:21.357027Z",
     "iopub.status.idle": "2021-08-16T14:06:38.241721Z",
     "shell.execute_reply": "2021-08-16T14:06:38.241484Z",
     "shell.execute_reply.started": "2021-08-16T14:04:21.357130Z"
    }
   },
   "outputs": [
    {
     "name": "stdout",
     "output_type": "stream",
     "text": [
      "--test start--\n"
     ]
    },
    {
     "name": "stderr",
     "output_type": "stream",
     "text": [
      "100%|██████| 45575/45575 [02:16<00:00, 333.00it/s]"
     ]
    },
    {
     "name": "stdout",
     "output_type": "stream",
     "text": [
      "TN: 3219 / FP: 948 / FN: 1155 / TP: 2959 / "
     ]
    },
    {
     "name": "stderr",
     "output_type": "stream",
     "text": [
      "\n"
     ]
    }
   ],
   "source": [
    "import pasta_spaghettini as spa\n",
    "from tqdm import tqdm\n",
    "import pandas as pd\n",
    "from os.path import exists\n",
    "\n",
    "hp = {\"epochs\": 1, \"learning_rate\": 0.01, \"num_layers\": 1, \"hidden_size\": 8, \"input_size\": 30}\n",
    "predict_time = 2100000\n",
    "\n",
    "PASTA = spa.PASTA(hp[\"input_size\"], hp[\"hidden_size\"], hp[\"num_layers\"], hp[\"learning_rate\"])\n",
    "\n",
    "route = \"../../Dataset/League_of_Legends/features_tensor/\"\n",
    "\n",
    "test_match_result_ftr = pd.read_feather(\"./processed_ftr/match_result_test.ftr\")\n",
    "total_rows = test_match_result_ftr.shape[0]\n",
    "\n",
    "PASTA.load_parameter(postfix=\"_spaghettini\")\n",
    "confusion_matrix, c_label = [0, 0, 0, 0], [\"TN\", \"FP\", \"FN\", \"TP\"]\n",
    "\n",
    "print(\"--test start--\")\n",
    "for idx, row in tqdm(test_match_result_ftr.iterrows(), ncols=50, total=total_rows):\n",
    "    match_id, win = row[\"match_no\"], row[\"win\"]\n",
    "    if not exists(f\"{route}Flipped_Under_{predict_time}_Test/{match_id}.pkl\"):\n",
    "        continue\n",
    "    features = pd.read_pickle(f\"{route}Flipped_Under_{predict_time}_Test/{match_id}.pkl\")\n",
    "    winner, predict = PASTA.test(features, win, match_id, postfix=f\"spaghettini_{predict_time}\")\n",
    "    correct = 2*winner + predict\n",
    "    confusion_matrix[correct] += 1\n",
    "\n",
    "for idx in range(0, 4):\n",
    "    print(f\"{c_label[idx]}: {confusion_matrix[idx]} / \", end=\"\")"
   ]
  },
  {
   "cell_type": "code",
   "execution_count": null,
   "metadata": {},
   "outputs": [],
   "source": []
  }
 ],
 "metadata": {
  "interpreter": {
   "hash": "916dbcbb3f70747c44a77c7bcd40155683ae19c65e1c03b4aa3499c5328201f1"
  },
  "kernelspec": {
   "display_name": "Python 3 (ipykernel)",
   "language": "python",
   "name": "python3"
  },
  "language_info": {
   "codemirror_mode": {
    "name": "ipython",
    "version": 3
   },
   "file_extension": ".py",
   "mimetype": "text/x-python",
   "name": "python",
   "nbconvert_exporter": "python",
   "pygments_lexer": "ipython3",
   "version": "3.8.10"
  }
 },
 "nbformat": 4,
 "nbformat_minor": 4
}
