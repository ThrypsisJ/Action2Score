{
 "cells": [
  {
   "cell_type": "markdown",
   "metadata": {},
   "source": [
    "# Spaghettini\n",
    "* Prediction at 5 min"
   ]
  },
  {
   "cell_type": "code",
   "execution_count": 1,
   "metadata": {
    "execution": {
     "iopub.execute_input": "2021-08-17T00:49:07.287270Z",
     "iopub.status.busy": "2021-08-17T00:49:07.287056Z",
     "iopub.status.idle": "2021-08-17T00:53:25.417449Z",
     "shell.execute_reply": "2021-08-17T00:53:25.417200Z",
     "shell.execute_reply.started": "2021-08-17T00:49:07.287211Z"
    },
    "tags": []
   },
   "outputs": [
    {
     "name": "stdout",
     "output_type": "stream",
     "text": [
      "--test start--\n"
     ]
    },
    {
     "name": "stderr",
     "output_type": "stream",
     "text": [
      "100%|██████| 45575/45575 [04:13<00:00, 179.46it/s]"
     ]
    },
    {
     "name": "stdout",
     "output_type": "stream",
     "text": [
      "TN: 13200 / FP: 8722 / FN: 10985 / TP: 11890 / "
     ]
    },
    {
     "name": "stderr",
     "output_type": "stream",
     "text": [
      "\n"
     ]
    }
   ],
   "source": [
    "import pasta_spaghettini_g2 as spa\n",
    "from tqdm import tqdm\n",
    "import pandas as pd\n",
    "from os.path import exists\n",
    "\n",
    "hp = {\"epochs\": 1, \"learning_rate\": 0.001, \"num_layers\": 2, \"hidden_size\": 8, \"input_size\": 30}\n",
    "predict_time = 300000\n",
    "\n",
    "PASTA = spa.PASTA(hp[\"input_size\"], hp[\"hidden_size\"], hp[\"num_layers\"], hp[\"learning_rate\"])\n",
    "\n",
    "route = \"../../Dataset/League_of_Legends/features_tensor/\"\n",
    "\n",
    "test_match_result_ftr = pd.read_feather(\"./processed_ftr/match_result_test.ftr\")\n",
    "total_rows = test_match_result_ftr.shape[0]\n",
    "\n",
    "PASTA.load_parameter(postfix=\"_spaghettini_g2_lr0001_2layer\")\n",
    "confusion_matrix, c_label = [0, 0, 0, 0], [\"TN\", \"FP\", \"FN\", \"TP\"]\n",
    "\n",
    "print(\"--test start--\")\n",
    "for idx, row in tqdm(test_match_result_ftr.iterrows(), ncols=50, total=total_rows):\n",
    "    match_id, win = row[\"match_no\"], row[\"win\"]\n",
    "    if not exists(f\"{route}Flipped_Under_{predict_time}_Test/{match_id}.pkl\"):\n",
    "        continue\n",
    "    features = pd.read_pickle(f\"{route}Flipped_Under_{predict_time}_Test/{match_id}.pkl\")\n",
    "    winner, predict = PASTA.test(features, win, match_id, postfix=f\"_spaghettini_g2_{predict_time}\")\n",
    "    correct = 2*winner + predict\n",
    "    confusion_matrix[correct] += 1\n",
    "\n",
    "for idx in range(0, 4):\n",
    "    print(f\"{c_label[idx]}: {confusion_matrix[idx]} / \", end=\"\")"
   ]
  },
  {
   "cell_type": "markdown",
   "metadata": {},
   "source": [
    "# Spaghettini\n",
    "* Prediction at 10 min"
   ]
  },
  {
   "cell_type": "code",
   "execution_count": 2,
   "metadata": {
    "execution": {
     "iopub.execute_input": "2021-08-17T00:53:25.418055Z",
     "iopub.status.busy": "2021-08-17T00:53:25.417971Z",
     "iopub.status.idle": "2021-08-17T00:59:49.066188Z",
     "shell.execute_reply": "2021-08-17T00:59:49.065892Z",
     "shell.execute_reply.started": "2021-08-17T00:53:25.418045Z"
    },
    "tags": []
   },
   "outputs": [
    {
     "name": "stdout",
     "output_type": "stream",
     "text": [
      "--test start--\n"
     ]
    },
    {
     "name": "stderr",
     "output_type": "stream",
     "text": [
      "100%|██████| 45575/45575 [06:23<00:00, 118.80it/s]"
     ]
    },
    {
     "name": "stdout",
     "output_type": "stream",
     "text": [
      "TN: 14501 / FP: 7418 / FN: 8342 / TP: 14533 / "
     ]
    },
    {
     "name": "stderr",
     "output_type": "stream",
     "text": [
      "\n"
     ]
    }
   ],
   "source": [
    "import pasta_spaghettini_g2 as spa\n",
    "from tqdm import tqdm\n",
    "import pandas as pd\n",
    "from os.path import exists\n",
    "\n",
    "hp = {\"epochs\": 1, \"learning_rate\": 0.001, \"num_layers\": 2, \"hidden_size\": 8, \"input_size\": 30}\n",
    "predict_time = 600000\n",
    "\n",
    "PASTA = spa.PASTA(hp[\"input_size\"], hp[\"hidden_size\"], hp[\"num_layers\"], hp[\"learning_rate\"])\n",
    "\n",
    "route = \"../../Dataset/League_of_Legends/features_tensor/\"\n",
    "\n",
    "test_match_result_ftr = pd.read_feather(\"./processed_ftr/match_result_test.ftr\")\n",
    "total_rows = test_match_result_ftr.shape[0]\n",
    "\n",
    "PASTA.load_parameter(postfix=\"_spaghettini_g2_lr0001_2layer\")\n",
    "confusion_matrix, c_label = [0, 0, 0, 0], [\"TN\", \"FP\", \"FN\", \"TP\"]\n",
    "\n",
    "print(\"--test start--\")\n",
    "for idx, row in tqdm(test_match_result_ftr.iterrows(), ncols=50, total=total_rows):\n",
    "    match_id, win = row[\"match_no\"], row[\"win\"]\n",
    "    if not exists(f\"{route}Flipped_Under_{predict_time}_Test/{match_id}.pkl\"):\n",
    "        continue\n",
    "    features = pd.read_pickle(f\"{route}Flipped_Under_{predict_time}_Test/{match_id}.pkl\")\n",
    "    winner, predict = PASTA.test(features, win, match_id, postfix=f\"_spaghettini_g2_{predict_time}\")\n",
    "    correct = 2*winner + predict\n",
    "    confusion_matrix[correct] += 1\n",
    "\n",
    "for idx in range(0, 4):\n",
    "    print(f\"{c_label[idx]}: {confusion_matrix[idx]} / \", end=\"\")"
   ]
  },
  {
   "cell_type": "markdown",
   "metadata": {},
   "source": [
    "# Spaghettini\n",
    "* Prediction at 15 min"
   ]
  },
  {
   "cell_type": "code",
   "execution_count": 1,
   "metadata": {
    "execution": {
     "iopub.execute_input": "2021-08-17T01:46:17.500246Z",
     "iopub.status.busy": "2021-08-17T01:46:17.500046Z",
     "iopub.status.idle": "2021-08-17T01:54:37.680957Z",
     "shell.execute_reply": "2021-08-17T01:54:37.680719Z",
     "shell.execute_reply.started": "2021-08-17T01:46:17.500189Z"
    },
    "tags": []
   },
   "outputs": [
    {
     "name": "stdout",
     "output_type": "stream",
     "text": [
      "--test start--\n"
     ]
    },
    {
     "name": "stderr",
     "output_type": "stream",
     "text": [
      "100%|███████| 45575/45575 [08:16<00:00, 91.88it/s]"
     ]
    },
    {
     "name": "stdout",
     "output_type": "stream",
     "text": [
      "TN: 15795 / FP: 5911 / FN: 6238 / TP: 16391 / "
     ]
    },
    {
     "name": "stderr",
     "output_type": "stream",
     "text": [
      "\n"
     ]
    }
   ],
   "source": [
    "import pasta_spaghettini_g2 as spa\n",
    "from tqdm import tqdm\n",
    "import pandas as pd\n",
    "from os.path import exists\n",
    "\n",
    "hp = {\"epochs\": 1, \"learning_rate\": 0.001, \"num_layers\": 2, \"hidden_size\": 8, \"input_size\": 30}\n",
    "predict_time = 900000\n",
    "\n",
    "PASTA = spa.PASTA(hp[\"input_size\"], hp[\"hidden_size\"], hp[\"num_layers\"], hp[\"learning_rate\"])\n",
    "\n",
    "route = \"../../Dataset/League_of_Legends/features_tensor/\"\n",
    "\n",
    "test_match_result_ftr = pd.read_feather(\"./processed_ftr/match_result_test.ftr\")\n",
    "total_rows = test_match_result_ftr.shape[0]\n",
    "\n",
    "PASTA.load_parameter(postfix=\"_spaghettini_g2_lr0001_2layer\")\n",
    "confusion_matrix, c_label = [0, 0, 0, 0], [\"TN\", \"FP\", \"FN\", \"TP\"]\n",
    "\n",
    "print(\"--test start--\")\n",
    "for idx, row in tqdm(test_match_result_ftr.iterrows(), ncols=50, total=total_rows):\n",
    "    match_id, win = row[\"match_no\"], row[\"win\"]\n",
    "    if not exists(f\"{route}Flipped_Under_{predict_time}_Test/{match_id}.pkl\"):\n",
    "        continue\n",
    "    features = pd.read_pickle(f\"{route}Flipped_Under_{predict_time}_Test/{match_id}.pkl\")\n",
    "    winner, predict = PASTA.test(features, win, match_id, postfix=f\"_spaghettini_g2_{predict_time}\")\n",
    "    correct = 2*winner + predict\n",
    "    confusion_matrix[correct] += 1\n",
    "\n",
    "for idx in range(0, 4):\n",
    "    print(f\"{c_label[idx]}: {confusion_matrix[idx]} / \", end=\"\")"
   ]
  },
  {
   "cell_type": "markdown",
   "metadata": {},
   "source": [
    "# Spaghettini\n",
    "* Prediction at 20 min"
   ]
  },
  {
   "cell_type": "code",
   "execution_count": 2,
   "metadata": {
    "execution": {
     "iopub.execute_input": "2021-08-17T01:54:37.681537Z",
     "iopub.status.busy": "2021-08-17T01:54:37.681458Z",
     "iopub.status.idle": "2021-08-17T02:04:11.922612Z",
     "shell.execute_reply": "2021-08-17T02:04:11.922389Z",
     "shell.execute_reply.started": "2021-08-17T01:54:37.681528Z"
    },
    "tags": []
   },
   "outputs": [
    {
     "name": "stdout",
     "output_type": "stream",
     "text": [
      "--test start--\n"
     ]
    },
    {
     "name": "stderr",
     "output_type": "stream",
     "text": [
      "100%|███████| 45575/45575 [09:34<00:00, 79.37it/s]"
     ]
    },
    {
     "name": "stdout",
     "output_type": "stream",
     "text": [
      "TN: 15575 / FP: 4555 / FN: 4592 / TP: 16144 / "
     ]
    },
    {
     "name": "stderr",
     "output_type": "stream",
     "text": [
      "\n"
     ]
    }
   ],
   "source": [
    "import pasta_spaghettini_g2 as spa\n",
    "from tqdm import tqdm\n",
    "import pandas as pd\n",
    "from os.path import exists\n",
    "\n",
    "hp = {\"epochs\": 1, \"learning_rate\": 0.001, \"num_layers\": 2, \"hidden_size\": 8, \"input_size\": 30}\n",
    "predict_time = 1200000\n",
    "\n",
    "PASTA = spa.PASTA(hp[\"input_size\"], hp[\"hidden_size\"], hp[\"num_layers\"], hp[\"learning_rate\"])\n",
    "\n",
    "route = \"../../Dataset/League_of_Legends/features_tensor/\"\n",
    "\n",
    "test_match_result_ftr = pd.read_feather(\"./processed_ftr/match_result_test.ftr\")\n",
    "total_rows = test_match_result_ftr.shape[0]\n",
    "\n",
    "PASTA.load_parameter(postfix=\"_spaghettini_g2_lr0001_2layer\")\n",
    "confusion_matrix, c_label = [0, 0, 0, 0], [\"TN\", \"FP\", \"FN\", \"TP\"]\n",
    "\n",
    "print(\"--test start--\")\n",
    "for idx, row in tqdm(test_match_result_ftr.iterrows(), ncols=50, total=total_rows):\n",
    "    match_id, win = row[\"match_no\"], row[\"win\"]\n",
    "    if not exists(f\"{route}Flipped_Under_{predict_time}_Test/{match_id}.pkl\"):\n",
    "        continue\n",
    "    features = pd.read_pickle(f\"{route}Flipped_Under_{predict_time}_Test/{match_id}.pkl\")\n",
    "    winner, predict = PASTA.test(features, win, match_id, postfix=f\"_spaghettini_g2_{predict_time}\")\n",
    "    correct = 2*winner + predict\n",
    "    confusion_matrix[correct] += 1\n",
    "\n",
    "for idx in range(0, 4):\n",
    "    print(f\"{c_label[idx]}: {confusion_matrix[idx]} / \", end=\"\")"
   ]
  },
  {
   "cell_type": "markdown",
   "metadata": {},
   "source": [
    "# Spaghettini\n",
    "* Prediction at 25 min"
   ]
  },
  {
   "cell_type": "code",
   "execution_count": 3,
   "metadata": {
    "execution": {
     "iopub.execute_input": "2021-08-17T02:04:11.923054Z",
     "iopub.status.busy": "2021-08-17T02:04:11.922979Z",
     "iopub.status.idle": "2021-08-17T02:13:02.796232Z",
     "shell.execute_reply": "2021-08-17T02:13:02.795968Z",
     "shell.execute_reply.started": "2021-08-17T02:04:11.923045Z"
    },
    "tags": []
   },
   "outputs": [
    {
     "name": "stdout",
     "output_type": "stream",
     "text": [
      "--test start--\n"
     ]
    },
    {
     "name": "stderr",
     "output_type": "stream",
     "text": [
      "100%|███████| 45575/45575 [08:50<00:00, 85.85it/s]"
     ]
    },
    {
     "name": "stdout",
     "output_type": "stream",
     "text": [
      "TN: 12248 / FP: 3412 / FN: 3262 / TP: 12671 / "
     ]
    },
    {
     "name": "stderr",
     "output_type": "stream",
     "text": [
      "\n"
     ]
    }
   ],
   "source": [
    "import pasta_spaghettini_g2 as spa\n",
    "from tqdm import tqdm\n",
    "import pandas as pd\n",
    "from os.path import exists\n",
    "\n",
    "hp = {\"epochs\": 1, \"learning_rate\": 0.001, \"num_layers\": 2, \"hidden_size\": 8, \"input_size\": 30}\n",
    "predict_time = 1500000\n",
    "\n",
    "PASTA = spa.PASTA(hp[\"input_size\"], hp[\"hidden_size\"], hp[\"num_layers\"], hp[\"learning_rate\"])\n",
    "\n",
    "route = \"../../Dataset/League_of_Legends/features_tensor/\"\n",
    "\n",
    "test_match_result_ftr = pd.read_feather(\"./processed_ftr/match_result_test.ftr\")\n",
    "total_rows = test_match_result_ftr.shape[0]\n",
    "\n",
    "PASTA.load_parameter(postfix=\"_spaghettini_g2_lr0001_2layer\")\n",
    "confusion_matrix, c_label = [0, 0, 0, 0], [\"TN\", \"FP\", \"FN\", \"TP\"]\n",
    "\n",
    "print(\"--test start--\")\n",
    "for idx, row in tqdm(test_match_result_ftr.iterrows(), ncols=50, total=total_rows):\n",
    "    match_id, win = row[\"match_no\"], row[\"win\"]\n",
    "    if not exists(f\"{route}Flipped_Under_{predict_time}_Test/{match_id}.pkl\"):\n",
    "        continue\n",
    "    features = pd.read_pickle(f\"{route}Flipped_Under_{predict_time}_Test/{match_id}.pkl\")\n",
    "    winner, predict = PASTA.test(features, win, match_id, postfix=f\"_spaghettini_g2_{predict_time}\")\n",
    "    correct = 2*winner + predict\n",
    "    confusion_matrix[correct] += 1\n",
    "\n",
    "for idx in range(0, 4):\n",
    "    print(f\"{c_label[idx]}: {confusion_matrix[idx]} / \", end=\"\")"
   ]
  },
  {
   "cell_type": "markdown",
   "metadata": {},
   "source": [
    "# Spaghettini\n",
    "* Prediction at 30 min"
   ]
  },
  {
   "cell_type": "code",
   "execution_count": 5,
   "metadata": {
    "execution": {
     "iopub.execute_input": "2021-08-17T02:16:06.479703Z",
     "iopub.status.busy": "2021-08-17T02:16:06.479625Z",
     "iopub.status.idle": "2021-08-17T02:22:21.777672Z",
     "shell.execute_reply": "2021-08-17T02:22:21.777438Z",
     "shell.execute_reply.started": "2021-08-17T02:16:06.479694Z"
    }
   },
   "outputs": [
    {
     "name": "stdout",
     "output_type": "stream",
     "text": [
      "--test start--\n"
     ]
    },
    {
     "name": "stderr",
     "output_type": "stream",
     "text": [
      "100%|██████| 45575/45575 [06:15<00:00, 121.45it/s]"
     ]
    },
    {
     "name": "stdout",
     "output_type": "stream",
     "text": [
      "TN: 7472 / FP: 2171 / FN: 2073 / TP: 7485 / "
     ]
    },
    {
     "name": "stderr",
     "output_type": "stream",
     "text": [
      "\n"
     ]
    }
   ],
   "source": [
    "import pasta_spaghettini_g2 as spa\n",
    "from tqdm import tqdm\n",
    "import pandas as pd\n",
    "from os.path import exists\n",
    "\n",
    "hp = {\"epochs\": 1, \"learning_rate\": 0.001, \"num_layers\": 2, \"hidden_size\": 8, \"input_size\": 30}\n",
    "predict_time = 1800000\n",
    "\n",
    "PASTA = spa.PASTA(hp[\"input_size\"], hp[\"hidden_size\"], hp[\"num_layers\"], hp[\"learning_rate\"])\n",
    "\n",
    "route = \"../../Dataset/League_of_Legends/features_tensor/\"\n",
    "\n",
    "test_match_result_ftr = pd.read_feather(\"./processed_ftr/match_result_test.ftr\")\n",
    "total_rows = test_match_result_ftr.shape[0]\n",
    "\n",
    "PASTA.load_parameter(postfix=\"_spaghettini_g2_lr0001_2layer\")\n",
    "confusion_matrix, c_label = [0, 0, 0, 0], [\"TN\", \"FP\", \"FN\", \"TP\"]\n",
    "\n",
    "print(\"--test start--\")\n",
    "for idx, row in tqdm(test_match_result_ftr.iterrows(), ncols=50, total=total_rows):\n",
    "    match_id, win = row[\"match_no\"], row[\"win\"]\n",
    "    if not exists(f\"{route}Flipped_Under_{predict_time}_Test/{match_id}.pkl\"):\n",
    "        continue\n",
    "    features = pd.read_pickle(f\"{route}Flipped_Under_{predict_time}_Test/{match_id}.pkl\")\n",
    "    winner, predict = PASTA.test(features, win, match_id, postfix=f\"_spaghettini_g2_{predict_time}\")\n",
    "    correct = 2*winner + predict\n",
    "    confusion_matrix[correct] += 1\n",
    "\n",
    "for idx in range(0, 4):\n",
    "    print(f\"{c_label[idx]}: {confusion_matrix[idx]} / \", end=\"\")"
   ]
  },
  {
   "cell_type": "markdown",
   "metadata": {},
   "source": [
    "# Spaghettini\n",
    "* Prediction at 35 min"
   ]
  },
  {
   "cell_type": "code",
   "execution_count": 4,
   "metadata": {
    "execution": {
     "iopub.execute_input": "2021-08-17T02:13:02.796934Z",
     "iopub.status.busy": "2021-08-17T02:13:02.796777Z",
     "iopub.status.idle": "2021-08-17T02:16:06.479253Z",
     "shell.execute_reply": "2021-08-17T02:16:06.479023Z",
     "shell.execute_reply.started": "2021-08-17T02:13:02.796924Z"
    }
   },
   "outputs": [
    {
     "name": "stdout",
     "output_type": "stream",
     "text": [
      "--test start--\n"
     ]
    },
    {
     "name": "stderr",
     "output_type": "stream",
     "text": [
      "100%|██████| 45575/45575 [03:03<00:00, 248.15it/s]"
     ]
    },
    {
     "name": "stdout",
     "output_type": "stream",
     "text": [
      "TN: 3125 / FP: 1042 / FN: 1006 / TP: 3108 / "
     ]
    },
    {
     "name": "stderr",
     "output_type": "stream",
     "text": [
      "\n"
     ]
    }
   ],
   "source": [
    "import pasta_spaghettini_g2 as spa\n",
    "from tqdm import tqdm\n",
    "import pandas as pd\n",
    "from os.path import exists\n",
    "\n",
    "hp = {\"epochs\": 1, \"learning_rate\": 0.001, \"num_layers\": 2, \"hidden_size\": 8, \"input_size\": 30}\n",
    "predict_time = 2100000\n",
    "\n",
    "PASTA = spa.PASTA(hp[\"input_size\"], hp[\"hidden_size\"], hp[\"num_layers\"], hp[\"learning_rate\"])\n",
    "\n",
    "route = \"../../Dataset/League_of_Legends/features_tensor/\"\n",
    "\n",
    "test_match_result_ftr = pd.read_feather(\"./processed_ftr/match_result_test.ftr\")\n",
    "total_rows = test_match_result_ftr.shape[0]\n",
    "\n",
    "PASTA.load_parameter(postfix=\"_spaghettini_g2_lr0001_2layer\")\n",
    "confusion_matrix, c_label = [0, 0, 0, 0], [\"TN\", \"FP\", \"FN\", \"TP\"]\n",
    "\n",
    "print(\"--test start--\")\n",
    "for idx, row in tqdm(test_match_result_ftr.iterrows(), ncols=50, total=total_rows):\n",
    "    match_id, win = row[\"match_no\"], row[\"win\"]\n",
    "    if not exists(f\"{route}Flipped_Under_{predict_time}_Test/{match_id}.pkl\"):\n",
    "        continue\n",
    "    features = pd.read_pickle(f\"{route}Flipped_Under_{predict_time}_Test/{match_id}.pkl\")\n",
    "    winner, predict = PASTA.test(features, win, match_id, postfix=f\"_spaghettini_g2_{predict_time}\")\n",
    "    correct = 2*winner + predict\n",
    "    confusion_matrix[correct] += 1\n",
    "\n",
    "for idx in range(0, 4):\n",
    "    print(f\"{c_label[idx]}: {confusion_matrix[idx]} / \", end=\"\")"
   ]
  },
  {
   "cell_type": "code",
   "execution_count": null,
   "metadata": {},
   "outputs": [],
   "source": []
  }
 ],
 "metadata": {
  "interpreter": {
   "hash": "916dbcbb3f70747c44a77c7bcd40155683ae19c65e1c03b4aa3499c5328201f1"
  },
  "kernelspec": {
   "display_name": "Python 3 (ipykernel)",
   "language": "python",
   "name": "python3"
  },
  "language_info": {
   "codemirror_mode": {
    "name": "ipython",
    "version": 3
   },
   "file_extension": ".py",
   "mimetype": "text/x-python",
   "name": "python",
   "nbconvert_exporter": "python",
   "pygments_lexer": "ipython3",
   "version": "3.8.10"
  }
 },
 "nbformat": 4,
 "nbformat_minor": 4
}
