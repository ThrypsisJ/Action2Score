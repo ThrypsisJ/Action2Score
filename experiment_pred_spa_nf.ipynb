{
 "cells": [
  {
   "cell_type": "markdown",
   "metadata": {},
   "source": [
    "# Spaghettini\n",
    "* Prediction at 5 min"
   ]
  },
  {
   "cell_type": "code",
   "execution_count": 1,
   "metadata": {
    "execution": {
     "iopub.execute_input": "2021-08-17T03:23:27.565566Z",
     "iopub.status.busy": "2021-08-17T03:23:27.565314Z",
     "iopub.status.idle": "2021-08-17T03:27:40.746837Z",
     "shell.execute_reply": "2021-08-17T03:27:40.746603Z",
     "shell.execute_reply.started": "2021-08-17T03:23:27.565497Z"
    },
    "tags": []
   },
   "outputs": [
    {
     "name": "stdout",
     "output_type": "stream",
     "text": [
      "--test start--\n"
     ]
    },
    {
     "name": "stderr",
     "output_type": "stream",
     "text": [
      "100%|██████| 45575/45575 [04:11<00:00, 181.57it/s]"
     ]
    },
    {
     "name": "stdout",
     "output_type": "stream",
     "text": [
      "TN: 14572 / FP: 7350 / FN: 11234 / TP: 11641 / "
     ]
    },
    {
     "name": "stderr",
     "output_type": "stream",
     "text": [
      "\n"
     ]
    }
   ],
   "source": [
    "import pasta_spaghettini as spa\n",
    "from tqdm import tqdm\n",
    "import pandas as pd\n",
    "from os.path import exists\n",
    "\n",
    "hp = {\"epochs\": 1, \"learning_rate\": 0.001, \"num_layers\": 2, \"hidden_size\": 8, \"input_size\": 30}\n",
    "predict_time = 300000\n",
    "\n",
    "PASTA = spa.PASTA(hp[\"input_size\"], hp[\"hidden_size\"], hp[\"num_layers\"], hp[\"learning_rate\"])\n",
    "\n",
    "route = \"../../Dataset/League_of_Legends/features_tensor/\"\n",
    "\n",
    "test_match_result_ftr = pd.read_feather(\"./processed_ftr/match_result_test.ftr\")\n",
    "total_rows = test_match_result_ftr.shape[0]\n",
    "\n",
    "PASTA.load_parameter(postfix=\"_spaghettini_nf_lr0001_2layer\")\n",
    "confusion_matrix, c_label = [0, 0, 0, 0], [\"TN\", \"FP\", \"FN\", \"TP\"]\n",
    "\n",
    "print(\"--test start--\")\n",
    "for idx, row in tqdm(test_match_result_ftr.iterrows(), ncols=50, total=total_rows):\n",
    "    match_id, win = row[\"match_no\"], row[\"win\"]\n",
    "    if not exists(f\"{route}Flipped_Under_{predict_time}_Test/{match_id}.pkl\"):\n",
    "        continue\n",
    "    features = pd.read_pickle(f\"{route}Flipped_Under_{predict_time}_Test/{match_id}.pkl\")\n",
    "    winner, predict = PASTA.test(features, win, match_id, postfix=f\"_spaghettini_nf_{predict_time}\")\n",
    "    correct = 2*winner + predict\n",
    "    confusion_matrix[correct] += 1\n",
    "\n",
    "for idx in range(0, 4):\n",
    "    print(f\"{c_label[idx]}: {confusion_matrix[idx]} / \", end=\"\")"
   ]
  },
  {
   "cell_type": "markdown",
   "metadata": {},
   "source": [
    "# Spaghettini\n",
    "* Prediction at 10 min"
   ]
  },
  {
   "cell_type": "code",
   "execution_count": 2,
   "metadata": {
    "execution": {
     "iopub.execute_input": "2021-08-17T03:27:40.747425Z",
     "iopub.status.busy": "2021-08-17T03:27:40.747342Z",
     "iopub.status.idle": "2021-08-17T03:33:59.392058Z",
     "shell.execute_reply": "2021-08-17T03:33:59.391827Z",
     "shell.execute_reply.started": "2021-08-17T03:27:40.747415Z"
    },
    "tags": []
   },
   "outputs": [
    {
     "name": "stdout",
     "output_type": "stream",
     "text": [
      "--test start--\n"
     ]
    },
    {
     "name": "stderr",
     "output_type": "stream",
     "text": [
      "100%|██████| 45575/45575 [06:18<00:00, 120.37it/s]"
     ]
    },
    {
     "name": "stdout",
     "output_type": "stream",
     "text": [
      "TN: 16158 / FP: 5761 / FN: 9588 / TP: 13287 / "
     ]
    },
    {
     "name": "stderr",
     "output_type": "stream",
     "text": [
      "\n"
     ]
    }
   ],
   "source": [
    "import pasta_spaghettini as spa\n",
    "from tqdm import tqdm\n",
    "import pandas as pd\n",
    "from os.path import exists\n",
    "\n",
    "hp = {\"epochs\": 1, \"learning_rate\": 0.001, \"num_layers\": 2, \"hidden_size\": 8, \"input_size\": 30}\n",
    "predict_time = 600000\n",
    "\n",
    "PASTA = spa.PASTA(hp[\"input_size\"], hp[\"hidden_size\"], hp[\"num_layers\"], hp[\"learning_rate\"])\n",
    "\n",
    "route = \"../../Dataset/League_of_Legends/features_tensor/\"\n",
    "\n",
    "test_match_result_ftr = pd.read_feather(\"./processed_ftr/match_result_test.ftr\")\n",
    "total_rows = test_match_result_ftr.shape[0]\n",
    "\n",
    "PASTA.load_parameter(postfix=\"_spaghettini_nf_lr0001_2layer\")\n",
    "confusion_matrix, c_label = [0, 0, 0, 0], [\"TN\", \"FP\", \"FN\", \"TP\"]\n",
    "\n",
    "print(\"--test start--\")\n",
    "for idx, row in tqdm(test_match_result_ftr.iterrows(), ncols=50, total=total_rows):\n",
    "    match_id, win = row[\"match_no\"], row[\"win\"]\n",
    "    if not exists(f\"{route}Flipped_Under_{predict_time}_Test/{match_id}.pkl\"):\n",
    "        continue\n",
    "    features = pd.read_pickle(f\"{route}Flipped_Under_{predict_time}_Test/{match_id}.pkl\")\n",
    "    winner, predict = PASTA.test(features, win, match_id, postfix=f\"_spaghettini_nf_{predict_time}\")\n",
    "    correct = 2*winner + predict\n",
    "    confusion_matrix[correct] += 1\n",
    "\n",
    "for idx in range(0, 4):\n",
    "    print(f\"{c_label[idx]}: {confusion_matrix[idx]} / \", end=\"\")"
   ]
  },
  {
   "cell_type": "markdown",
   "metadata": {},
   "source": [
    "# Spaghettini\n",
    "* Prediction at 15 min"
   ]
  },
  {
   "cell_type": "code",
   "execution_count": 3,
   "metadata": {
    "execution": {
     "iopub.execute_input": "2021-08-17T03:33:59.392516Z",
     "iopub.status.busy": "2021-08-17T03:33:59.392434Z",
     "iopub.status.idle": "2021-08-17T03:42:17.853616Z",
     "shell.execute_reply": "2021-08-17T03:42:17.853348Z",
     "shell.execute_reply.started": "2021-08-17T03:33:59.392506Z"
    },
    "tags": []
   },
   "outputs": [
    {
     "name": "stdout",
     "output_type": "stream",
     "text": [
      "--test start--\n"
     ]
    },
    {
     "name": "stderr",
     "output_type": "stream",
     "text": [
      "100%|███████| 45575/45575 [08:18<00:00, 91.44it/s]"
     ]
    },
    {
     "name": "stdout",
     "output_type": "stream",
     "text": [
      "TN: 17154 / FP: 4552 / FN: 7218 / TP: 15411 / "
     ]
    },
    {
     "name": "stderr",
     "output_type": "stream",
     "text": [
      "\n"
     ]
    }
   ],
   "source": [
    "import pasta_spaghettini as spa\n",
    "from tqdm import tqdm\n",
    "import pandas as pd\n",
    "from os.path import exists\n",
    "\n",
    "hp = {\"epochs\": 1, \"learning_rate\": 0.001, \"num_layers\": 2, \"hidden_size\": 8, \"input_size\": 30}\n",
    "predict_time = 900000\n",
    "\n",
    "PASTA = spa.PASTA(hp[\"input_size\"], hp[\"hidden_size\"], hp[\"num_layers\"], hp[\"learning_rate\"])\n",
    "\n",
    "route = \"../../Dataset/League_of_Legends/features_tensor/\"\n",
    "\n",
    "test_match_result_ftr = pd.read_feather(\"./processed_ftr/match_result_test.ftr\")\n",
    "total_rows = test_match_result_ftr.shape[0]\n",
    "\n",
    "PASTA.load_parameter(postfix=\"_spaghettini_nf_lr0001_2layer\")\n",
    "confusion_matrix, c_label = [0, 0, 0, 0], [\"TN\", \"FP\", \"FN\", \"TP\"]\n",
    "\n",
    "print(\"--test start--\")\n",
    "for idx, row in tqdm(test_match_result_ftr.iterrows(), ncols=50, total=total_rows):\n",
    "    match_id, win = row[\"match_no\"], row[\"win\"]\n",
    "    if not exists(f\"{route}Flipped_Under_{predict_time}_Test/{match_id}.pkl\"):\n",
    "        continue\n",
    "    features = pd.read_pickle(f\"{route}Flipped_Under_{predict_time}_Test/{match_id}.pkl\")\n",
    "    winner, predict = PASTA.test(features, win, match_id, postfix=f\"_spaghettini_nf_{predict_time}\")\n",
    "    correct = 2*winner + predict\n",
    "    confusion_matrix[correct] += 1\n",
    "\n",
    "for idx in range(0, 4):\n",
    "    print(f\"{c_label[idx]}: {confusion_matrix[idx]} / \", end=\"\")"
   ]
  },
  {
   "cell_type": "markdown",
   "metadata": {},
   "source": [
    "# Spaghettini\n",
    "* Prediction at 20 min"
   ]
  },
  {
   "cell_type": "code",
   "execution_count": 4,
   "metadata": {
    "execution": {
     "iopub.execute_input": "2021-08-17T03:42:17.854345Z",
     "iopub.status.busy": "2021-08-17T03:42:17.854265Z",
     "iopub.status.idle": "2021-08-17T03:51:43.096568Z",
     "shell.execute_reply": "2021-08-17T03:51:43.096296Z",
     "shell.execute_reply.started": "2021-08-17T03:42:17.854335Z"
    },
    "tags": []
   },
   "outputs": [
    {
     "name": "stdout",
     "output_type": "stream",
     "text": [
      "--test start--\n"
     ]
    },
    {
     "name": "stderr",
     "output_type": "stream",
     "text": [
      "100%|███████| 45575/45575 [09:25<00:00, 80.63it/s]"
     ]
    },
    {
     "name": "stdout",
     "output_type": "stream",
     "text": [
      "TN: 16470 / FP: 3660 / FN: 5297 / TP: 15439 / "
     ]
    },
    {
     "name": "stderr",
     "output_type": "stream",
     "text": [
      "\n"
     ]
    }
   ],
   "source": [
    "import pasta_spaghettini as spa\n",
    "from tqdm import tqdm\n",
    "import pandas as pd\n",
    "from os.path import exists\n",
    "\n",
    "hp = {\"epochs\": 1, \"learning_rate\": 0.001, \"num_layers\": 2, \"hidden_size\": 8, \"input_size\": 30}\n",
    "predict_time = 1200000\n",
    "\n",
    "PASTA = spa.PASTA(hp[\"input_size\"], hp[\"hidden_size\"], hp[\"num_layers\"], hp[\"learning_rate\"])\n",
    "\n",
    "route = \"../../Dataset/League_of_Legends/features_tensor/\"\n",
    "\n",
    "test_match_result_ftr = pd.read_feather(\"./processed_ftr/match_result_test.ftr\")\n",
    "total_rows = test_match_result_ftr.shape[0]\n",
    "\n",
    "PASTA.load_parameter(postfix=\"_spaghettini_nf_lr0001_2layer\")\n",
    "confusion_matrix, c_label = [0, 0, 0, 0], [\"TN\", \"FP\", \"FN\", \"TP\"]\n",
    "\n",
    "print(\"--test start--\")\n",
    "for idx, row in tqdm(test_match_result_ftr.iterrows(), ncols=50, total=total_rows):\n",
    "    match_id, win = row[\"match_no\"], row[\"win\"]\n",
    "    if not exists(f\"{route}Flipped_Under_{predict_time}_Test/{match_id}.pkl\"):\n",
    "        continue\n",
    "    features = pd.read_pickle(f\"{route}Flipped_Under_{predict_time}_Test/{match_id}.pkl\")\n",
    "    winner, predict = PASTA.test(features, win, match_id, postfix=f\"_spaghettini_nf_{predict_time}\")\n",
    "    correct = 2*winner + predict\n",
    "    confusion_matrix[correct] += 1\n",
    "\n",
    "for idx in range(0, 4):\n",
    "    print(f\"{c_label[idx]}: {confusion_matrix[idx]} / \", end=\"\")"
   ]
  },
  {
   "cell_type": "markdown",
   "metadata": {},
   "source": [
    "# Spaghettini\n",
    "* Prediction at 25 min"
   ]
  },
  {
   "cell_type": "code",
   "execution_count": 5,
   "metadata": {
    "execution": {
     "iopub.execute_input": "2021-08-17T03:51:43.097026Z",
     "iopub.status.busy": "2021-08-17T03:51:43.096947Z",
     "iopub.status.idle": "2021-08-17T04:00:21.988038Z",
     "shell.execute_reply": "2021-08-17T04:00:21.987815Z",
     "shell.execute_reply.started": "2021-08-17T03:51:43.097015Z"
    }
   },
   "outputs": [
    {
     "name": "stdout",
     "output_type": "stream",
     "text": [
      "--test start--\n"
     ]
    },
    {
     "name": "stderr",
     "output_type": "stream",
     "text": [
      "100%|███████| 45575/45575 [08:38<00:00, 87.84it/s]"
     ]
    },
    {
     "name": "stdout",
     "output_type": "stream",
     "text": [
      "TN: 12913 / FP: 2747 / FN: 3712 / TP: 12221 / "
     ]
    },
    {
     "name": "stderr",
     "output_type": "stream",
     "text": [
      "\n"
     ]
    }
   ],
   "source": [
    "import pasta_spaghettini as spa\n",
    "from tqdm import tqdm\n",
    "import pandas as pd\n",
    "from os.path import exists\n",
    "\n",
    "hp = {\"epochs\": 1, \"learning_rate\": 0.001, \"num_layers\": 2, \"hidden_size\": 8, \"input_size\": 30}\n",
    "predict_time = 1500000\n",
    "\n",
    "PASTA = spa.PASTA(hp[\"input_size\"], hp[\"hidden_size\"], hp[\"num_layers\"], hp[\"learning_rate\"])\n",
    "\n",
    "route = \"../../Dataset/League_of_Legends/features_tensor/\"\n",
    "\n",
    "test_match_result_ftr = pd.read_feather(\"./processed_ftr/match_result_test.ftr\")\n",
    "total_rows = test_match_result_ftr.shape[0]\n",
    "\n",
    "PASTA.load_parameter(postfix=\"_spaghettini_nf_lr0001_2layer\")\n",
    "confusion_matrix, c_label = [0, 0, 0, 0], [\"TN\", \"FP\", \"FN\", \"TP\"]\n",
    "\n",
    "print(\"--test start--\")\n",
    "for idx, row in tqdm(test_match_result_ftr.iterrows(), ncols=50, total=total_rows):\n",
    "    match_id, win = row[\"match_no\"], row[\"win\"]\n",
    "    if not exists(f\"{route}Flipped_Under_{predict_time}_Test/{match_id}.pkl\"):\n",
    "        continue\n",
    "    features = pd.read_pickle(f\"{route}Flipped_Under_{predict_time}_Test/{match_id}.pkl\")\n",
    "    winner, predict = PASTA.test(features, win, match_id, postfix=f\"_spaghettini_nf_{predict_time}\")\n",
    "    correct = 2*winner + predict\n",
    "    confusion_matrix[correct] += 1\n",
    "\n",
    "for idx in range(0, 4):\n",
    "    print(f\"{c_label[idx]}: {confusion_matrix[idx]} / \", end=\"\")"
   ]
  },
  {
   "cell_type": "markdown",
   "metadata": {},
   "source": [
    "# Spaghettini\n",
    "* Prediction at 30 min"
   ]
  },
  {
   "cell_type": "code",
   "execution_count": 6,
   "metadata": {
    "execution": {
     "iopub.execute_input": "2021-08-17T04:00:21.988608Z",
     "iopub.status.busy": "2021-08-17T04:00:21.988476Z",
     "iopub.status.idle": "2021-08-17T04:06:25.092324Z",
     "shell.execute_reply": "2021-08-17T04:06:25.092094Z",
     "shell.execute_reply.started": "2021-08-17T04:00:21.988593Z"
    }
   },
   "outputs": [
    {
     "name": "stdout",
     "output_type": "stream",
     "text": [
      "--test start--\n"
     ]
    },
    {
     "name": "stderr",
     "output_type": "stream",
     "text": [
      "100%|██████| 45575/45575 [06:03<00:00, 125.52it/s]"
     ]
    },
    {
     "name": "stdout",
     "output_type": "stream",
     "text": [
      "TN: 7858 / FP: 1785 / FN: 2472 / TP: 7086 / "
     ]
    },
    {
     "name": "stderr",
     "output_type": "stream",
     "text": [
      "\n"
     ]
    }
   ],
   "source": [
    "import pasta_spaghettini as spa\n",
    "from tqdm import tqdm\n",
    "import pandas as pd\n",
    "from os.path import exists\n",
    "\n",
    "hp = {\"epochs\": 1, \"learning_rate\": 0.001, \"num_layers\": 2, \"hidden_size\": 8, \"input_size\": 30}\n",
    "predict_time = 1800000\n",
    "\n",
    "PASTA = spa.PASTA(hp[\"input_size\"], hp[\"hidden_size\"], hp[\"num_layers\"], hp[\"learning_rate\"])\n",
    "\n",
    "route = \"../../Dataset/League_of_Legends/features_tensor/\"\n",
    "\n",
    "test_match_result_ftr = pd.read_feather(\"./processed_ftr/match_result_test.ftr\")\n",
    "total_rows = test_match_result_ftr.shape[0]\n",
    "\n",
    "PASTA.load_parameter(postfix=\"_spaghettini_nf_lr0001_2layer\")\n",
    "confusion_matrix, c_label = [0, 0, 0, 0], [\"TN\", \"FP\", \"FN\", \"TP\"]\n",
    "\n",
    "print(\"--test start--\")\n",
    "for idx, row in tqdm(test_match_result_ftr.iterrows(), ncols=50, total=total_rows):\n",
    "    match_id, win = row[\"match_no\"], row[\"win\"]\n",
    "    if not exists(f\"{route}Flipped_Under_{predict_time}_Test/{match_id}.pkl\"):\n",
    "        continue\n",
    "    features = pd.read_pickle(f\"{route}Flipped_Under_{predict_time}_Test/{match_id}.pkl\")\n",
    "    winner, predict = PASTA.test(features, win, match_id, postfix=f\"_spaghettini_nf_{predict_time}\")\n",
    "    correct = 2*winner + predict\n",
    "    confusion_matrix[correct] += 1\n",
    "\n",
    "for idx in range(0, 4):\n",
    "    print(f\"{c_label[idx]}: {confusion_matrix[idx]} / \", end=\"\")"
   ]
  },
  {
   "cell_type": "markdown",
   "metadata": {},
   "source": [
    "# Spaghettini\n",
    "* Prediction at 35 min"
   ]
  },
  {
   "cell_type": "code",
   "execution_count": 7,
   "metadata": {
    "execution": {
     "iopub.execute_input": "2021-08-17T04:06:25.092775Z",
     "iopub.status.busy": "2021-08-17T04:06:25.092698Z",
     "iopub.status.idle": "2021-08-17T04:09:27.637317Z",
     "shell.execute_reply": "2021-08-17T04:09:27.637056Z",
     "shell.execute_reply.started": "2021-08-17T04:06:25.092765Z"
    }
   },
   "outputs": [
    {
     "name": "stdout",
     "output_type": "stream",
     "text": [
      "--test start--\n"
     ]
    },
    {
     "name": "stderr",
     "output_type": "stream",
     "text": [
      "100%|██████| 45575/45575 [03:02<00:00, 249.69it/s]"
     ]
    },
    {
     "name": "stdout",
     "output_type": "stream",
     "text": [
      "TN: 3284 / FP: 883 / FN: 1292 / TP: 2822 / "
     ]
    },
    {
     "name": "stderr",
     "output_type": "stream",
     "text": [
      "\n"
     ]
    }
   ],
   "source": [
    "import pasta_spaghettini as spa\n",
    "from tqdm import tqdm\n",
    "import pandas as pd\n",
    "from os.path import exists\n",
    "\n",
    "hp = {\"epochs\": 1, \"learning_rate\": 0.001, \"num_layers\": 2, \"hidden_size\": 8, \"input_size\": 30}\n",
    "predict_time = 2100000\n",
    "\n",
    "PASTA = spa.PASTA(hp[\"input_size\"], hp[\"hidden_size\"], hp[\"num_layers\"], hp[\"learning_rate\"])\n",
    "\n",
    "route = \"../../Dataset/League_of_Legends/features_tensor/\"\n",
    "\n",
    "test_match_result_ftr = pd.read_feather(\"./processed_ftr/match_result_test.ftr\")\n",
    "total_rows = test_match_result_ftr.shape[0]\n",
    "\n",
    "PASTA.load_parameter(postfix=\"_spaghettini_nf_lr0001_2layer\")\n",
    "confusion_matrix, c_label = [0, 0, 0, 0], [\"TN\", \"FP\", \"FN\", \"TP\"]\n",
    "\n",
    "print(\"--test start--\")\n",
    "for idx, row in tqdm(test_match_result_ftr.iterrows(), ncols=50, total=total_rows):\n",
    "    match_id, win = row[\"match_no\"], row[\"win\"]\n",
    "    if not exists(f\"{route}Flipped_Under_{predict_time}_Test/{match_id}.pkl\"):\n",
    "        continue\n",
    "    features = pd.read_pickle(f\"{route}Flipped_Under_{predict_time}_Test/{match_id}.pkl\")\n",
    "    winner, predict = PASTA.test(features, win, match_id, postfix=f\"_spaghettini_nf_{predict_time}\")\n",
    "    correct = 2*winner + predict\n",
    "    confusion_matrix[correct] += 1\n",
    "\n",
    "for idx in range(0, 4):\n",
    "    print(f\"{c_label[idx]}: {confusion_matrix[idx]} / \", end=\"\")"
   ]
  },
  {
   "cell_type": "code",
   "execution_count": null,
   "metadata": {},
   "outputs": [],
   "source": []
  }
 ],
 "metadata": {
  "interpreter": {
   "hash": "916dbcbb3f70747c44a77c7bcd40155683ae19c65e1c03b4aa3499c5328201f1"
  },
  "kernelspec": {
   "display_name": "Python 3 (ipykernel)",
   "language": "python",
   "name": "python3"
  },
  "language_info": {
   "codemirror_mode": {
    "name": "ipython",
    "version": 3
   },
   "file_extension": ".py",
   "mimetype": "text/x-python",
   "name": "python",
   "nbconvert_exporter": "python",
   "pygments_lexer": "ipython3",
   "version": "3.8.10"
  }
 },
 "nbformat": 4,
 "nbformat_minor": 4
}
