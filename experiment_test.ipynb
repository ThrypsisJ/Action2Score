{
 "cells": [
  {
   "cell_type": "markdown",
   "metadata": {},
   "source": [
    "# Spaghettini\n",
    "* lr = 0.01\n",
    "*time = reversed"
   ]
  },
  {
   "cell_type": "code",
   "execution_count": 5,
   "metadata": {},
   "outputs": [
    {
     "name": "stdout",
     "output_type": "stream",
     "text": [
      "--test start--\n"
     ]
    },
    {
     "name": "stderr",
     "output_type": "stream",
     "text": [
      "100%|███████| 45575/45575 [10:33<00:00, 71.95it/s]"
     ]
    },
    {
     "name": "stdout",
     "output_type": "stream",
     "text": [
      "TN: 22222 / FP: 79 / FN: 157 / TP: 23117 / "
     ]
    },
    {
     "name": "stderr",
     "output_type": "stream",
     "text": [
      "\n"
     ]
    }
   ],
   "source": [
    "import pasta_spaghettini as spa\n",
    "from tqdm import tqdm\n",
    "import pandas as pd\n",
    "\n",
    "hp = {\"epochs\": 1, \"learning_rate\": 0.01, \"num_layers\": 1, \"hidden_size\": 8, \"input_size\": 30}\n",
    "PASTA = spa.PASTA(hp[\"input_size\"], hp[\"hidden_size\"], hp[\"num_layers\"], hp[\"learning_rate\"])\n",
    "\n",
    "route = \"../../Dataset/League_of_Legends/features_tensor/\"\n",
    "\n",
    "test_match_result_ftr = pd.read_feather(\"./processed_ftr/match_result_test.ftr\")\n",
    "total_rows = test_match_result_ftr.shape[0]\n",
    "\n",
    "PASTA.load_parameter(postfix=\"_spaghettini\")\n",
    "confusion_matrix, c_label = [0, 0, 0, 0], [\"TN\", \"FP\", \"FN\", \"TP\"]\n",
    "\n",
    "print(\"--test start--\")\n",
    "for idx, row in tqdm(test_match_result_ftr.iterrows(), ncols=50, total=total_rows):\n",
    "    match_id, win = row[\"match_no\"], row[\"win\"]\n",
    "    features = pd.read_pickle(f\"{route}Flipped_Test/{match_id}.pkl\")\n",
    "    winner, predict = PASTA.test(features, win, match_id, postfix=\"spaghettini\")\n",
    "    correct = 2*winner + predict\n",
    "    confusion_matrix[correct] += 1\n",
    "\n",
    "for idx in range(0, 4):\n",
    "    print(f\"{c_label[idx]}: {confusion_matrix[idx]} / \", end=\"\")"
   ]
  },
  {
   "cell_type": "markdown",
   "metadata": {},
   "source": [
    "# Spaghettini\n",
    "* lr=0.001\n",
    "* time=reversed"
   ]
  },
  {
   "cell_type": "code",
   "execution_count": 6,
   "metadata": {},
   "outputs": [
    {
     "name": "stdout",
     "output_type": "stream",
     "text": [
      "--test start--\n"
     ]
    },
    {
     "name": "stderr",
     "output_type": "stream",
     "text": [
      "100%|███████| 45575/45575 [13:49<00:00, 54.94it/s]"
     ]
    },
    {
     "name": "stdout",
     "output_type": "stream",
     "text": [
      "TN: 22180 / FP: 121 / FN: 172 / TP: 23102 / "
     ]
    },
    {
     "name": "stderr",
     "output_type": "stream",
     "text": [
      "\n"
     ]
    }
   ],
   "source": [
    "import pasta_spaghettini as spa\n",
    "from tqdm import tqdm\n",
    "import pandas as pd\n",
    "\n",
    "hp = {\"epochs\": 1, \"learning_rate\": 0.001, \"num_layers\": 2, \"hidden_size\": 8, \"input_size\": 30}\n",
    "PASTA = spa.PASTA(hp[\"input_size\"], hp[\"hidden_size\"], hp[\"num_layers\"], hp[\"learning_rate\"])\n",
    "\n",
    "route = \"../../Dataset/League_of_Legends/features_tensor/\"\n",
    "\n",
    "test_match_result_ftr = pd.read_feather(\"./processed_ftr/match_result_test.ftr\")\n",
    "total_rows = test_match_result_ftr.shape[0]\n",
    "\n",
    "PASTA.load_parameter(postfix=\"_spaghettini_lr0001_2layer\")\n",
    "confusion_matrix, c_label = [0, 0, 0, 0], [\"TN\", \"FP\", \"FN\", \"TP\"]\n",
    "\n",
    "print(\"--test start--\")\n",
    "for idx, row in tqdm(test_match_result_ftr.iterrows(), ncols=50, total=total_rows):\n",
    "    match_id, win = row[\"match_no\"], row[\"win\"]\n",
    "    features = pd.read_pickle(f\"{route}Flipped_Test/{match_id}.pkl\")\n",
    "    winner, predict = PASTA.test(features, win, match_id, postfix=\"spaghettini_lr0001_2layer\")\n",
    "    correct = 2*winner + predict\n",
    "    confusion_matrix[correct] += 1\n",
    "\n",
    "for idx in range(0, 4):\n",
    "    print(f\"{c_label[idx]}: {confusion_matrix[idx]} / \", end=\"\")"
   ]
  },
  {
   "cell_type": "markdown",
   "metadata": {},
   "source": [
    "# Spaghettini\n",
    "* lr=0.001\n",
    "* time=normal"
   ]
  },
  {
   "cell_type": "code",
   "execution_count": 7,
   "metadata": {},
   "outputs": [
    {
     "name": "stdout",
     "output_type": "stream",
     "text": [
      "--test start--\n"
     ]
    },
    {
     "name": "stderr",
     "output_type": "stream",
     "text": [
      "100%|███████| 45575/45575 [14:35<00:00, 52.08it/s]"
     ]
    },
    {
     "name": "stdout",
     "output_type": "stream",
     "text": [
      "TN: 22051 / FP: 250 / FN: 439 / TP: 22835 / "
     ]
    },
    {
     "name": "stderr",
     "output_type": "stream",
     "text": [
      "\n"
     ]
    }
   ],
   "source": [
    "import pasta_spaghettini as spa\n",
    "from tqdm import tqdm\n",
    "import pandas as pd\n",
    "\n",
    "hp = {\"epochs\": 1, \"learning_rate\": 0.001, \"num_layers\": 2, \"hidden_size\": 8, \"input_size\": 30}\n",
    "PASTA = spa.PASTA(hp[\"input_size\"], hp[\"hidden_size\"], hp[\"num_layers\"], hp[\"learning_rate\"])\n",
    "\n",
    "route = \"../../Dataset/League_of_Legends/features_tensor/\"\n",
    "\n",
    "test_match_result_ftr = pd.read_feather(\"./processed_ftr/match_result_test.ftr\")\n",
    "total_rows = test_match_result_ftr.shape[0]\n",
    "\n",
    "PASTA.load_parameter(postfix=\"_spaghettini_nf_lr0001_2layer\")\n",
    "confusion_matrix, c_label = [0, 0, 0, 0], [\"TN\", \"FP\", \"FN\", \"TP\"]\n",
    "\n",
    "print(\"--test start--\")\n",
    "for idx, row in tqdm(test_match_result_ftr.iterrows(), ncols=50, total=total_rows):\n",
    "    match_id, win = row[\"match_no\"], row[\"win\"]\n",
    "    features = pd.read_pickle(f\"{route}Normal_Test/{match_id}.pkl\")\n",
    "    winner, predict = PASTA.test(features, win, match_id, postfix=\"spaghettini_nf_lr0001_2layer\")\n",
    "    correct = 2*winner + predict\n",
    "    confusion_matrix[correct] += 1\n",
    "\n",
    "for idx in range(0, 4):\n",
    "    print(f\"{c_label[idx]}: {confusion_matrix[idx]} / \", end=\"\")"
   ]
  },
  {
   "cell_type": "markdown",
   "metadata": {},
   "source": [
    "# Spaghettini - Garnish v.2\n",
    "* lr=0.01\n",
    "* time=reverse"
   ]
  },
  {
   "cell_type": "code",
   "execution_count": 1,
   "metadata": {},
   "outputs": [
    {
     "name": "stdout",
     "output_type": "stream",
     "text": [
      "--test start--\n"
     ]
    },
    {
     "name": "stderr",
     "output_type": "stream",
     "text": [
      "100%|███████| 45575/45575 [09:57<00:00, 76.23it/s]"
     ]
    },
    {
     "name": "stdout",
     "output_type": "stream",
     "text": [
      "TN: 22061 / FP: 240 / FN: 308 / TP: 22966 / "
     ]
    },
    {
     "name": "stderr",
     "output_type": "stream",
     "text": [
      "\n"
     ]
    }
   ],
   "source": [
    "import pasta_spaghettini_g2 as spa\n",
    "from tqdm import tqdm\n",
    "import pandas as pd\n",
    "\n",
    "hp = {\"epochs\": 1, \"learning_rate\": 0.01, \"num_layers\": 1, \"hidden_size\": 8, \"input_size\": 30}\n",
    "PASTA = spa.PASTA(hp[\"input_size\"], hp[\"hidden_size\"], hp[\"num_layers\"], hp[\"learning_rate\"])\n",
    "\n",
    "route = \"../../Dataset/League_of_Legends/features_tensor/\"\n",
    "\n",
    "test_match_result_ftr = pd.read_feather(\"./processed_ftr/match_result_test.ftr\")\n",
    "total_rows = test_match_result_ftr.shape[0]\n",
    "\n",
    "PASTA.load_parameter(postfix=\"_spaghettini_g2\")\n",
    "confusion_matrix, c_label = [0, 0, 0, 0], [\"TN\", \"FP\", \"FN\", \"TP\"]\n",
    "\n",
    "print(\"--test start--\")\n",
    "for idx, row in tqdm(test_match_result_ftr.iterrows(), ncols=50, total=total_rows):\n",
    "    match_id, win = row[\"match_no\"], row[\"win\"]\n",
    "    features = pd.read_pickle(f\"{route}Flipped_Test/{match_id}.pkl\")\n",
    "    winner, predict = PASTA.test(features, win, match_id, postfix=\"spaghettini_g2\")\n",
    "    correct = 2*winner + predict\n",
    "    confusion_matrix[correct] += 1\n",
    "\n",
    "for idx in range(0, 4):\n",
    "    print(f\"{c_label[idx]}: {confusion_matrix[idx]} / \", end=\"\")"
   ]
  },
  {
   "cell_type": "markdown",
   "metadata": {},
   "source": [
    "# Spaghettini - Garnish v.2\n",
    "* lr=0.001\n",
    "* time=reverse"
   ]
  },
  {
   "cell_type": "code",
   "execution_count": 2,
   "metadata": {},
   "outputs": [
    {
     "name": "stdout",
     "output_type": "stream",
     "text": [
      "--test start--\n"
     ]
    },
    {
     "name": "stderr",
     "output_type": "stream",
     "text": [
      "100%|███████| 45575/45575 [13:47<00:00, 55.11it/s]"
     ]
    },
    {
     "name": "stdout",
     "output_type": "stream",
     "text": [
      "TN: 22154 / FP: 147 / FN: 191 / TP: 23083 / "
     ]
    },
    {
     "name": "stderr",
     "output_type": "stream",
     "text": [
      "\n"
     ]
    }
   ],
   "source": [
    "import pasta_spaghettini_g2 as spa\n",
    "from tqdm import tqdm\n",
    "import pandas as pd\n",
    "\n",
    "hp = {\"epochs\": 1, \"learning_rate\": 0.001, \"num_layers\": 2, \"hidden_size\": 8, \"input_size\": 30}\n",
    "PASTA = spa.PASTA(hp[\"input_size\"], hp[\"hidden_size\"], hp[\"num_layers\"], hp[\"learning_rate\"])\n",
    "\n",
    "route = \"../../Dataset/League_of_Legends/features_tensor/\"\n",
    "\n",
    "test_match_result_ftr = pd.read_feather(\"./processed_ftr/match_result_test.ftr\")\n",
    "total_rows = test_match_result_ftr.shape[0]\n",
    "\n",
    "PASTA.load_parameter(postfix=\"_spaghettini_g2_lr0001_2layer\")\n",
    "confusion_matrix, c_label = [0, 0, 0, 0], [\"TN\", \"FP\", \"FN\", \"TP\"]\n",
    "\n",
    "print(\"--test start--\")\n",
    "for idx, row in tqdm(test_match_result_ftr.iterrows(), ncols=50, total=total_rows):\n",
    "    match_id, win = row[\"match_no\"], row[\"win\"]\n",
    "    features = pd.read_pickle(f\"{route}Flipped_Test/{match_id}.pkl\")\n",
    "    winner, predict = PASTA.test(features, win, match_id, postfix=\"spaghettini_g2_lr0001_2layer\")\n",
    "    correct = 2*winner + predict\n",
    "    confusion_matrix[correct] += 1\n",
    "\n",
    "for idx in range(0, 4):\n",
    "    print(f\"{c_label[idx]}: {confusion_matrix[idx]} / \", end=\"\")"
   ]
  },
  {
   "cell_type": "markdown",
   "metadata": {},
   "source": [
    "# Spaghettini - Garnish v.2\n",
    "* lr=0.001\n",
    "* time=normal"
   ]
  },
  {
   "cell_type": "code",
   "execution_count": 3,
   "metadata": {},
   "outputs": [
    {
     "name": "stdout",
     "output_type": "stream",
     "text": [
      "--test start--\n"
     ]
    },
    {
     "name": "stderr",
     "output_type": "stream",
     "text": [
      "100%|███████| 45575/45575 [14:34<00:00, 52.12it/s]"
     ]
    },
    {
     "name": "stdout",
     "output_type": "stream",
     "text": [
      "TN: 22037 / FP: 264 / FN: 330 / TP: 22944 / "
     ]
    },
    {
     "name": "stderr",
     "output_type": "stream",
     "text": [
      "\n"
     ]
    }
   ],
   "source": [
    "import pasta_spaghettini_g2 as spa\n",
    "from tqdm import tqdm\n",
    "import pandas as pd\n",
    "\n",
    "hp = {\"epochs\": 1, \"learning_rate\": 0.001, \"num_layers\": 2, \"hidden_size\": 8, \"input_size\": 30}\n",
    "PASTA = spa.PASTA(hp[\"input_size\"], hp[\"hidden_size\"], hp[\"num_layers\"], hp[\"learning_rate\"])\n",
    "\n",
    "route = \"../../Dataset/League_of_Legends/features_tensor/\"\n",
    "\n",
    "test_match_result_ftr = pd.read_feather(\"./processed_ftr/match_result_test.ftr\")\n",
    "total_rows = test_match_result_ftr.shape[0]\n",
    "\n",
    "PASTA.load_parameter(postfix=\"_spaghettini_nf_g2_lr0001_2layer\")\n",
    "confusion_matrix, c_label = [0, 0, 0, 0], [\"TN\", \"FP\", \"FN\", \"TP\"]\n",
    "\n",
    "print(\"--test start--\")\n",
    "for idx, row in tqdm(test_match_result_ftr.iterrows(), ncols=50, total=total_rows):\n",
    "    match_id, win = row[\"match_no\"], row[\"win\"]\n",
    "    features = pd.read_pickle(f\"{route}Normal_Test/{match_id}.pkl\")\n",
    "    winner, predict = PASTA.test(features, win, match_id, postfix=\"spaghettini_nf_g2_lr0001_2layer\")\n",
    "    correct = 2*winner + predict\n",
    "    confusion_matrix[correct] += 1\n",
    "\n",
    "for idx in range(0, 4):\n",
    "    print(f\"{c_label[idx]}: {confusion_matrix[idx]} / \", end=\"\")"
   ]
  },
  {
   "cell_type": "markdown",
   "metadata": {},
   "source": [
    "# Lasagna"
   ]
  },
  {
   "cell_type": "code",
   "execution_count": 1,
   "metadata": {},
   "outputs": [
    {
     "name": "stdout",
     "output_type": "stream",
     "text": [
      "--test start--\n"
     ]
    },
    {
     "name": "stderr",
     "output_type": "stream",
     "text": [
      "100%|██████| 45575/45575 [06:01<00:00, 126.10it/s]"
     ]
    },
    {
     "name": "stdout",
     "output_type": "stream",
     "text": [
      "TN: 18766 / FP: 3535 / FN: 3814 / TP: 19460 / "
     ]
    },
    {
     "name": "stderr",
     "output_type": "stream",
     "text": [
      "\n"
     ]
    }
   ],
   "source": [
    "import pasta_lasagna as las\n",
    "from tqdm import tqdm\n",
    "import pandas as pd\n",
    "\n",
    "hp = {\"epochs\": 1, \"learning_rate\": 0.001, \"input_size\": 30}\n",
    "PASTA = las.PASTA(hp[\"input_size\"], hp[\"learning_rate\"])\n",
    "\n",
    "route = \"../../Dataset/League_of_Legends/features_tensor/\"\n",
    "\n",
    "test_match_result_ftr = pd.read_feather(\"./processed_ftr/match_result_test.ftr\")\n",
    "total_rows = test_match_result_ftr.shape[0]\n",
    "\n",
    "PASTA.load_parameter(postfix=\"_lasagna\")\n",
    "confusion_matrix, c_label = [0, 0, 0, 0], [\"TN\", \"FP\", \"FN\", \"TP\"]\n",
    "\n",
    "print(\"--test start--\")\n",
    "for idx, row in tqdm(test_match_result_ftr.iterrows(), ncols=50, total=total_rows):\n",
    "    match_id, win = row[\"match_no\"], row[\"win\"]\n",
    "    features = pd.read_pickle(f\"{route}Normal_Test/{match_id}.pkl\")\n",
    "    winner, predict = PASTA.test(features, win, match_id, postfix=\"lasagna\")\n",
    "    correct = 2*winner + predict\n",
    "    confusion_matrix[correct] += 1\n",
    "\n",
    "for idx in range(0, 4):\n",
    "    print(f\"{c_label[idx]}: {confusion_matrix[idx]} / \", end=\"\")"
   ]
  },
  {
   "cell_type": "markdown",
   "metadata": {},
   "source": [
    "# Lasagna - Garnish v.2"
   ]
  },
  {
   "cell_type": "code",
   "execution_count": 2,
   "metadata": {},
   "outputs": [
    {
     "name": "stdout",
     "output_type": "stream",
     "text": [
      "--test start--\n"
     ]
    },
    {
     "name": "stderr",
     "output_type": "stream",
     "text": [
      "100%|██████| 45575/45575 [06:17<00:00, 120.77it/s]"
     ]
    },
    {
     "name": "stdout",
     "output_type": "stream",
     "text": [
      "TN: 21937 / FP: 364 / FN: 331 / TP: 22943 / "
     ]
    },
    {
     "name": "stderr",
     "output_type": "stream",
     "text": [
      "\n"
     ]
    }
   ],
   "source": [
    "import pasta_lasagna_g2 as las\n",
    "from tqdm import tqdm\n",
    "import pandas as pd\n",
    "\n",
    "hp = {\"epochs\": 1, \"learning_rate\": 0.001, \"input_size\": 30}\n",
    "PASTA = las.PASTA(hp[\"input_size\"], hp[\"learning_rate\"])\n",
    "\n",
    "route = \"../../Dataset/League_of_Legends/features_tensor/\"\n",
    "\n",
    "test_match_result_ftr = pd.read_feather(\"./processed_ftr/match_result_test.ftr\")\n",
    "total_rows = test_match_result_ftr.shape[0]\n",
    "\n",
    "PASTA.load_parameter(postfix=\"_lasagna_g2\")\n",
    "confusion_matrix, c_label = [0, 0, 0, 0], [\"TN\", \"FP\", \"FN\", \"TP\"]\n",
    "\n",
    "print(\"--test start--\")\n",
    "for idx, row in tqdm(test_match_result_ftr.iterrows(), ncols=50, total=total_rows):\n",
    "    match_id, win = row[\"match_no\"], row[\"win\"]\n",
    "    features = pd.read_pickle(f\"{route}Normal_Test/{match_id}.pkl\")\n",
    "    winner, predict = PASTA.test(features, win, match_id, postfix=\"lasagna_g2\")\n",
    "    correct = 2*winner + predict\n",
    "    confusion_matrix[correct] += 1\n",
    "\n",
    "for idx in range(0, 4):\n",
    "    print(f\"{c_label[idx]}: {confusion_matrix[idx]} / \", end=\"\")"
   ]
  },
  {
   "cell_type": "markdown",
   "metadata": {
    "tags": []
   },
   "source": [
    "# Lasagna - Garnish v.2\n",
    "* Prediction at 5 min"
   ]
  },
  {
   "cell_type": "code",
   "execution_count": 5,
   "metadata": {
    "execution": {
     "iopub.execute_input": "2021-08-16T12:21:00.715270Z",
     "iopub.status.busy": "2021-08-16T12:21:00.715003Z",
     "iopub.status.idle": "2021-08-16T12:27:30.484907Z",
     "shell.execute_reply": "2021-08-16T12:27:30.484600Z",
     "shell.execute_reply.started": "2021-08-16T12:21:00.715232Z"
    },
    "tags": []
   },
   "outputs": [
    {
     "name": "stdout",
     "output_type": "stream",
     "text": [
      "--test start--\n"
     ]
    },
    {
     "name": "stderr",
     "output_type": "stream",
     "text": [
      "100%|██████| 45575/45575 [06:29<00:00, 116.94it/s]"
     ]
    },
    {
     "name": "stdout",
     "output_type": "stream",
     "text": [
      "TN: 21650 / FP: 269 / FN: 236 / TP: 22639 / "
     ]
    },
    {
     "name": "stderr",
     "output_type": "stream",
     "text": [
      "\n"
     ]
    }
   ],
   "source": [
    "import pasta_lasagna_g2 as las\n",
    "from tqdm import tqdm\n",
    "import pandas as pd\n",
    "from os.path import exists\n",
    "\n",
    "hp = {\"epochs\": 1, \"learning_rate\": 0.001, \"input_size\": 30}\n",
    "predict_time = 300000\n",
    "\n",
    "PASTA = las.PASTA(hp[\"input_size\"], hp[\"learning_rate\"])\n",
    "\n",
    "route = \"../../Dataset/League_of_Legends/features_tensor/\"\n",
    "\n",
    "test_match_result_ftr = pd.read_feather(\"./processed_ftr/match_result_test.ftr\")\n",
    "total_rows = test_match_result_ftr.shape[0]\n",
    "\n",
    "PASTA.load_parameter(postfix=\"_lasagna_g2\")\n",
    "confusion_matrix, c_label = [0, 0, 0, 0], [\"TN\", \"FP\", \"FN\", \"TP\"]\n",
    "\n",
    "print(\"--test start--\")\n",
    "for idx, row in tqdm(test_match_result_ftr.iterrows(), ncols=50, total=total_rows):\n",
    "    match_id, win = row[\"match_no\"], row[\"win\"]\n",
    "    if not exists(f\"{route}Normal_Under_{predict_time}_Test/{match_id}.pkl\"):\n",
    "        continue\n",
    "    features = pd.read_pickle(f\"{route}Normal_Under_{predict_time}_Test/{match_id}.pkl\")\n",
    "    winner, predict = PASTA.test(features, win, match_id, postfix=f\"lasagna_g2_{predict_time}\")\n",
    "    correct = 2*winner + predict\n",
    "    confusion_matrix[correct] += 1\n",
    "\n",
    "for idx in range(0, 4):\n",
    "    print(f\"{c_label[idx]}: {confusion_matrix[idx]} / \", end=\"\")"
   ]
  },
  {
   "cell_type": "markdown",
   "metadata": {},
   "source": [
    "# Lasagna - Garnish v.2\n",
    "* Prediction at 10 min"
   ]
  },
  {
   "cell_type": "code",
   "execution_count": 6,
   "metadata": {
    "execution": {
     "iopub.execute_input": "2021-08-16T12:27:30.485516Z",
     "iopub.status.busy": "2021-08-16T12:27:30.485414Z",
     "iopub.status.idle": "2021-08-16T12:33:59.203892Z",
     "shell.execute_reply": "2021-08-16T12:33:59.203649Z",
     "shell.execute_reply.started": "2021-08-16T12:27:30.485506Z"
    },
    "tags": []
   },
   "outputs": [
    {
     "name": "stdout",
     "output_type": "stream",
     "text": [
      "--test start--\n"
     ]
    },
    {
     "name": "stderr",
     "output_type": "stream",
     "text": [
      "100%|██████| 45575/45575 [06:28<00:00, 117.25it/s]"
     ]
    },
    {
     "name": "stdout",
     "output_type": "stream",
     "text": [
      "TN: 21653 / FP: 269 / FN: 236 / TP: 22639 / "
     ]
    },
    {
     "name": "stderr",
     "output_type": "stream",
     "text": [
      "\n"
     ]
    }
   ],
   "source": [
    "import pasta_lasagna_g2 as las\n",
    "from tqdm import tqdm\n",
    "import pandas as pd\n",
    "from os.path import exists\n",
    "\n",
    "hp = {\"epochs\": 1, \"learning_rate\": 0.001, \"input_size\": 30}\n",
    "predict_time = 600000\n",
    "\n",
    "PASTA = las.PASTA(hp[\"input_size\"], hp[\"learning_rate\"])\n",
    "\n",
    "route = \"../../Dataset/League_of_Legends/features_tensor/\"\n",
    "\n",
    "test_match_result_ftr = pd.read_feather(\"./processed_ftr/match_result_test.ftr\")\n",
    "total_rows = test_match_result_ftr.shape[0]\n",
    "\n",
    "PASTA.load_parameter(postfix=\"_lasagna_g2\")\n",
    "confusion_matrix, c_label = [0, 0, 0, 0], [\"TN\", \"FP\", \"FN\", \"TP\"]\n",
    "\n",
    "print(\"--test start--\")\n",
    "for idx, row in tqdm(test_match_result_ftr.iterrows(), ncols=50, total=total_rows):\n",
    "    match_id, win = row[\"match_no\"], row[\"win\"]\n",
    "    if not exists(f\"{route}Normal_Under_{predict_time}_Test/{match_id}.pkl\"):\n",
    "        continue\n",
    "    features = pd.read_pickle(f\"{route}Normal_Under_{predict_time}_Test/{match_id}.pkl\")\n",
    "    winner, predict = PASTA.test(features, win, match_id, postfix=f\"lasagna_g2_{predict_time}\")\n",
    "    correct = 2*winner + predict\n",
    "    confusion_matrix[correct] += 1\n",
    "\n",
    "for idx in range(0, 4):\n",
    "    print(f\"{c_label[idx]}: {confusion_matrix[idx]} / \", end=\"\")"
   ]
  },
  {
   "cell_type": "code",
   "execution_count": null,
   "metadata": {},
   "outputs": [],
   "source": []
  }
 ],
 "metadata": {
  "interpreter": {
   "hash": "916dbcbb3f70747c44a77c7bcd40155683ae19c65e1c03b4aa3499c5328201f1"
  },
  "kernelspec": {
   "display_name": "Python 3 (ipykernel)",
   "language": "python",
   "name": "python3"
  },
  "language_info": {
   "codemirror_mode": {
    "name": "ipython",
    "version": 3
   },
   "file_extension": ".py",
   "mimetype": "text/x-python",
   "name": "python",
   "nbconvert_exporter": "python",
   "pygments_lexer": "ipython3",
   "version": "3.8.10"
  }
 },
 "nbformat": 4,
 "nbformat_minor": 4
}
