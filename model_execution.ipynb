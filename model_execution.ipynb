{
 "cells": [
  {
   "cell_type": "markdown",
   "metadata": {},
   "source": [
    "# Hyperparameters"
   ]
  },
  {
   "cell_type": "code",
   "execution_count": 1,
   "metadata": {},
   "outputs": [],
   "source": [
    "hparam = {\n",
    "    'epoch': 10,\n",
    "    'hid_dim': 10,\n",
    "    'gru_layers': 1,\n",
    "    'lr': 0.0001,\n",
    "    'report': 1\n",
    "}"
   ]
  },
  {
   "cell_type": "markdown",
   "metadata": {},
   "source": [
    "# Configure Dataset"
   ]
  },
  {
   "cell_type": "code",
   "execution_count": 2,
   "metadata": {},
   "outputs": [],
   "source": [
    "from os import listdir\n",
    "from os.path import exists\n",
    "from itertools import chain\n",
    "from random import shuffle\n",
    "import pandas as pd\n",
    "import pickle\n",
    "\n",
    "# Load tensor file(pickle) list\n",
    "dpath = './Dataset/matches_tensor/legacy/'\n",
    "servers = listdir(dpath)\n",
    "if not exists('./Dataset/match_list.pkl'):\n",
    "    mat_lists = list(chain(*[listdir(dpath+server) for server in servers])) # total match lists\n",
    "else:\n",
    "    with open('./Dataset/match_list.pkl', 'rb') as file:\n",
    "        mat_lists = pickle.load(file)\n",
    "\n",
    "# Divide dataset into 3 (tr, val, te)\n",
    "# shuffle(mat_lists)\n",
    "# with open('./Dataset/match_list.pkl', 'wb') as file:\n",
    "#     pickle.dump(mat_lists, file, pickle.HIGHEST_PROTOCOL)\n",
    "tr_set = mat_lists[:190000]\n",
    "val_set = mat_lists[190000:200000]\n",
    "te_set = mat_lists[200000:]\n",
    "\n",
    "# Load match results as dictionaris\n",
    "rpath = './Dataset/matches_result/'\n",
    "mat_results = {}\n",
    "for server in servers:\n",
    "    fname = rpath + f'{server}_results.csv'\n",
    "    mat_results[server] = pd.read_csv(fname, index_col=0).to_dict('index')"
   ]
  },
  {
   "cell_type": "markdown",
   "metadata": {},
   "source": [
    "# Model"
   ]
  },
  {
   "cell_type": "code",
   "execution_count": 3,
   "metadata": {},
   "outputs": [],
   "source": [
    "from model import Model\n",
    "\n",
    "M = Model(hparam['hid_dim'], hparam['gru_layers'], hparam['lr'])\n",
    "# M.load_parameters('zero_h0_hiddim_1.pkl') # remove comment if you want load parameter file"
   ]
  },
  {
   "cell_type": "markdown",
   "metadata": {},
   "source": [
    "# Train"
   ]
  },
  {
   "cell_type": "code",
   "execution_count": null,
   "metadata": {},
   "outputs": [],
   "source": [
    "for epoch in range(hparam['epoch']):\n",
    "    # training process\n",
    "    for idx, tr_dat in enumerate(tr_set):\n",
    "        for serv in ['kr', 'euw1', 'eun1', 'na1', 'jp1']:\n",
    "            if serv in tr_dat:\n",
    "                server = serv\n",
    "                continue\n",
    "        mat = tr_dat[:-4]\n",
    "\n",
    "        # print training progress\n",
    "        print(f'[Epoch {epoch+1:3d}] ({idx+1:6d}/{len(tr_set)}) processing {mat:<30s}', end='\\r')\n",
    "\n",
    "        with open(f'{dpath}{server}/{tr_dat}', 'rb') as feat_file:\n",
    "            features = pickle.load(feat_file)\n",
    "        winner = mat_results[server][mat]['win']\n",
    "\n",
    "        # train\n",
    "        M.train(features, winner)\n",
    "    \n",
    "    # validation process\n",
    "    if (epoch+1)%hparam['report'] == 0: # execute validation in {hparam['report']} epoch interval\n",
    "        M.reset_result()\n",
    "        for idx, val_dat in enumerate(val_set):\n",
    "            for serv in ['kr', 'euw1', 'eun1', 'na1', 'jp1']:\n",
    "                if serv in val_dat:\n",
    "                    server = serv\n",
    "                    continue\n",
    "            mat = val_dat[:-4]\n",
    "\n",
    "            # print validation progress\n",
    "            print(f'[Validation for epoch {epoch+1:3d}] ({idx+1:6d}/{len(val_set)}) processing {mat:<30s}', end='\\r') \n",
    "\n",
    "            with open(f'{dpath}{server}/{val_dat}', 'rb') as feat_file:\n",
    "                features = pickle.load(feat_file)\n",
    "            winner = mat_results[server][mat]['win']\n",
    "            \n",
    "            # validate\n",
    "            M.validate(features, winner)\n",
    "\n",
    "        acc, pre, rec, f1, loss = M.get_result()\n",
    "        print(f'[Validation for epoch {epoch+1:3d}] Accuracy: {acc:5.4f} / Precision: {pre:5.4f} / Recall: {rec:5.4f} / F1 score: {f1:5.4f} / loss: {loss:5.4f}')\n",
    "        M.save_parameters('normal.pkl')"
   ]
  },
  {
   "cell_type": "markdown",
   "metadata": {},
   "source": [
    "# Test"
   ]
  },
  {
   "cell_type": "code",
   "execution_count": 4,
   "metadata": {},
   "outputs": [
    {
     "name": "stdout",
     "output_type": "stream",
     "text": [
      "[Test result] Accuracy: 0.9946 / Precision: 0.9951 / Recall: 0.9943 / F1 score: 0.9947 / loss: 20.7400\n"
     ]
    }
   ],
   "source": [
    "from torch import cuda\n",
    "\n",
    "cuda.empty_cache()\n",
    "M.reset_result()\n",
    "for idx, te_dat in enumerate(te_set):\n",
    "    save_path = './experiment/matches_scores/normal/'\n",
    "    for serv in ['kr', 'euw1', 'eun1', 'na1', 'jp1']:\n",
    "        if serv in te_dat:\n",
    "            server = serv\n",
    "            break\n",
    "    mat = te_dat[:-4]\n",
    "\n",
    "    # print training progress\n",
    "    print(f'[Testing] ({idx+1:6d}/{len(te_set)}) processing {mat:<30s}', end='\\r')\n",
    "\n",
    "    with open(f'{dpath}{server}/{te_dat}', 'rb') as feat_file:\n",
    "        features = pickle.load(feat_file)\n",
    "    winner = mat_results[server][mat]['win']\n",
    "\n",
    "    M.test(features, winner, save_path, mat)\n",
    "\n",
    "acc, pre, rec, f1, loss = M.get_result()\n",
    "print(f'[Test result] Accuracy: {acc:5.4f} / Precision: {pre:5.4f} / Recall: {rec:5.4f} / F1 score: {f1:5.4f} / loss: {loss:5.4f}')"
   ]
  }
 ],
 "metadata": {
  "interpreter": {
   "hash": "31f2aee4e71d21fbe5cf8b01ff0e069b9275f58929596ceb00d14d90e3e16cd6"
  },
  "kernelspec": {
   "display_name": "Python 3.8.10 64-bit",
   "language": "python",
   "name": "python3"
  },
  "language_info": {
   "codemirror_mode": {
    "name": "ipython",
    "version": 3
   },
   "file_extension": ".py",
   "mimetype": "text/x-python",
   "name": "python",
   "nbconvert_exporter": "python",
   "pygments_lexer": "ipython3",
   "version": "3.8.10"
  },
  "orig_nbformat": 4
 },
 "nbformat": 4,
 "nbformat_minor": 2
}
