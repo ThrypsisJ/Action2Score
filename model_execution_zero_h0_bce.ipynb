{
 "cells": [
  {
   "cell_type": "markdown",
   "metadata": {},
   "source": [
    "# Hyperparameters"
   ]
  },
  {
   "cell_type": "code",
   "execution_count": 1,
   "metadata": {},
   "outputs": [],
   "source": [
    "hparam = {\n",
    "    'epoch': 10,\n",
    "    'hid_dim': 15,\n",
    "    'gru_layers': 2,\n",
    "    'lr': 0.0001,\n",
    "    'report': 1,\n",
    "    'zero_h0': True,\n",
    "    'train': True\n",
    "}"
   ]
  },
  {
   "cell_type": "markdown",
   "metadata": {},
   "source": [
    "# Configure Dataset"
   ]
  },
  {
   "cell_type": "code",
   "execution_count": 2,
   "metadata": {},
   "outputs": [],
   "source": [
    "from pathlib import Path\n",
    "from random import shuffle\n",
    "import pandas as pd\n",
    "import pickle\n",
    "\n",
    "# Load tensor file(pickle) list\n",
    "dpath = Path('./Dataset/matches_tensor')\n",
    "mlist = Path('./Dataset/match_list.pkl')\n",
    "if not mlist.exists():\n",
    "    mat_lists = shuffle(list(dpath.glob('*')))\n",
    "    with mlist.open('wb') as file: pickle.dump(mat_lists, mlist)\n",
    "else:\n",
    "    with mlist.open('rb') as file: mat_lists = pickle.load(file)\n",
    "\n",
    "tr_set = mat_lists[:190000]\n",
    "val_set = mat_lists[190000:200000]\n",
    "te_set = mat_lists[200000:]\n",
    "\n",
    "# Load match results as dictionaris\n",
    "mat_results = pd.read_csv('./Dataset/results.csv', index_col=0).to_dict('index')"
   ]
  },
  {
   "cell_type": "markdown",
   "metadata": {},
   "source": [
    "# Model"
   ]
  },
  {
   "cell_type": "code",
   "execution_count": 3,
   "metadata": {},
   "outputs": [],
   "source": [
    "from model import BCEModel\n",
    "\n",
    "M = BCEModel(hparam['hid_dim'], hparam['gru_layers'], hparam['lr'], hparam['zero_h0'])\n",
    "param = 'normal_bce.pkl' if not hparam['zero_h0'] else 'zero_h0_bce.pkl'"
   ]
  },
  {
   "cell_type": "markdown",
   "metadata": {},
   "source": [
    "# Train"
   ]
  },
  {
   "cell_type": "code",
   "execution_count": 4,
   "metadata": {},
   "outputs": [
    {
     "name": "stdout",
     "output_type": "stream",
     "text": [
      "[Validation for epoch   1] Accuracy: 0.9927 / Precision: 0.9927 / Recall: 0.9929 / F1 score: 0.9928 / loss: 248.6164\n",
      "[Validation for epoch   2] Accuracy: 0.9939 / Precision: 0.9939 / Recall: 0.9941 / F1 score: 0.9940 / loss: 198.1456\n",
      "[Validation for epoch   3] Accuracy: 0.9947 / Precision: 0.9945 / Recall: 0.9951 / F1 score: 0.9948 / loss: 182.9660\n",
      "[Validation for epoch   4] Accuracy: 0.9953 / Precision: 0.9959 / Recall: 0.9949 / F1 score: 0.9954 / loss: 172.6773\n",
      "[Validation for epoch   5] Accuracy: 0.9956 / Precision: 0.9959 / Recall: 0.9955 / F1 score: 0.9957 / loss: 165.9045\n",
      "[Validation for epoch   6] Accuracy: 0.9959 / Precision: 0.9961 / Recall: 0.9959 / F1 score: 0.9960 / loss: 162.0687\n",
      "[Validation for epoch   7] Accuracy: 0.9958 / Precision: 0.9961 / Recall: 0.9957 / F1 score: 0.9959 / loss: 159.2313\n",
      "[Validation for epoch   8] Accuracy: 0.9958 / Precision: 0.9963 / Recall: 0.9955 / F1 score: 0.9959 / loss: 155.0785\n",
      "[Validation for epoch   9] Accuracy: 0.9961 / Precision: 0.9965 / Recall: 0.9959 / F1 score: 0.9962 / loss: 151.8897\n",
      "[Validation for epoch  10] Accuracy: 0.9962 / Precision: 0.9967 / Recall: 0.9959 / F1 score: 0.9963 / loss: 150.6246\n"
     ]
    }
   ],
   "source": [
    "if hparam['train']:\n",
    "    for epoch in range(hparam['epoch']):\n",
    "        for idx, tr_dat in enumerate(tr_set):\n",
    "            # print training progress\n",
    "            print(f'[Epoch {epoch+1:3d}] ({idx+1:6d}/{len(tr_set)}) processing {tr_dat[:-4]:<30s}', end='\\r')\n",
    "\n",
    "            with open(f'{dpath}/{tr_dat}', 'rb') as feat_file:\n",
    "                features = pickle.load(feat_file)\n",
    "            winner = mat_results[tr_dat[:-4]]['win']\n",
    "\n",
    "            # train\n",
    "            M.train(features, winner)\n",
    "\n",
    "        # validation process\n",
    "        if (epoch+1)%hparam['report'] == 0: # execute validation in {hparam['report']} epoch interval\n",
    "            M.reset_result()\n",
    "            for idx, val_dat in enumerate(val_set):\n",
    "                # print validation progress\n",
    "                print(f'[Validation for epoch {epoch+1:3d}] ({idx+1:6d}/{len(val_set)}) processing {val_dat[:-4]:<30s}', end='\\r') \n",
    "\n",
    "                with open(f'{dpath}/{val_dat}', 'rb') as feat_file:\n",
    "                    features = pickle.load(feat_file)\n",
    "                winner = mat_results[val_dat[:-4]]['win']\n",
    "                \n",
    "                # validate\n",
    "                M.validate(features, winner)\n",
    "\n",
    "            acc, pre, rec, f1, loss = M.get_result()\n",
    "            print(f'[Validation for epoch {epoch+1:3d}] Accuracy: {acc:5.4f} / Precision: {pre:5.4f} / Recall: {rec:5.4f} / F1 score: {f1:5.4f} / loss: {loss:5.4f}')\n",
    "            M.save_parameters(param)"
   ]
  },
  {
   "cell_type": "markdown",
   "metadata": {},
   "source": [
    "# Test"
   ]
  },
  {
   "cell_type": "code",
   "execution_count": 5,
   "metadata": {},
   "outputs": [
    {
     "name": "stdout",
     "output_type": "stream",
     "text": [
      "[Test result] Accuracy: 0.9956 / Precision: 0.9961 / Recall: 0.9954 / F1 score: 0.9957 / loss: 729.9032\n"
     ]
    }
   ],
   "source": [
    "from torch import cuda\n",
    "\n",
    "M.load_parameters(param)\n",
    "M.reset_result()\n",
    "for idx, te_dat in enumerate(te_set):\n",
    "    cuda.empty_cache()\n",
    "    if not hparam['zero_h0']: save_path = './experiment/matches_scores/normal_bce/'\n",
    "    else                    : save_path = './experiment/matches_scores/zero_h0_bce/'\n",
    "\n",
    "    # print training progress\n",
    "    print(f'[Testing] ({idx+1:6d}/{len(te_set)}) processing {te_dat[:-4]:<30s}', end='\\r')\n",
    "\n",
    "    with open(f'{dpath}/{te_dat}', 'rb') as feat_file:\n",
    "        features = pickle.load(feat_file)\n",
    "    winner = mat_results[te_dat[:-4]]['win']\n",
    "\n",
    "    M.test(features, winner, save_path, te_dat[:-4])\n",
    "\n",
    "acc, pre, rec, f1, loss = M.get_result()\n",
    "print(f'[Test result] Accuracy: {acc:5.4f} / Precision: {pre:5.4f} / Recall: {rec:5.4f} / F1 score: {f1:5.4f} / loss: {loss:5.4f}')"
   ]
  }
 ],
 "metadata": {
  "interpreter": {
   "hash": "31f2aee4e71d21fbe5cf8b01ff0e069b9275f58929596ceb00d14d90e3e16cd6"
  },
  "kernelspec": {
   "display_name": "Python 3.8.10 64-bit",
   "language": "python",
   "name": "python3"
  },
  "language_info": {
   "codemirror_mode": {
    "name": "ipython",
    "version": 3
   },
   "file_extension": ".py",
   "mimetype": "text/x-python",
   "name": "python",
   "nbconvert_exporter": "python",
   "pygments_lexer": "ipython3",
   "version": "3.9.9"
  },
  "orig_nbformat": 4
 },
 "nbformat": 4,
 "nbformat_minor": 2
}
