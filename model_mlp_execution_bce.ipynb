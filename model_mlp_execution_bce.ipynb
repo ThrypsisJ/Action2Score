{
 "cells": [
  {
   "cell_type": "markdown",
   "metadata": {},
   "source": [
    "# Hyperparameters"
   ]
  },
  {
   "cell_type": "code",
   "execution_count": null,
   "metadata": {},
   "outputs": [],
   "source": [
    "hparam = {\n",
    "    'epoch': 10,\n",
    "    'hid_dim': 10,\n",
    "    'linear_dims': [30, 16, 8],\n",
    "    'report': 1,\n",
    "    'lr': 0.0001,\n",
    "    'train': True\n",
    "}"
   ]
  },
  {
   "cell_type": "markdown",
   "metadata": {},
   "source": [
    "# Configure Dataset"
   ]
  },
  {
   "cell_type": "code",
   "execution_count": null,
   "metadata": {},
   "outputs": [],
   "source": [
    "from pathlib import Path\n",
    "from random import shuffle\n",
    "import pandas as pd\n",
    "import pickle\n",
    "\n",
    "# Load tensor file(pickle) list\n",
    "dpath = Path('./Dataset/matches_tensor')\n",
    "mlist = Path('./Dataset/match_list.pkl')\n",
    "if not mlist.exists():\n",
    "    mat_lists = shuffle(list(dpath.glob('*')))\n",
    "    with mlist.open('wb') as file: pickle.dump(mat_lists, mlist)\n",
    "else:\n",
    "    with mlist.open('rb') as file: mat_lists = pickle.load(file)\n",
    "\n",
    "tr_set = mat_lists[:190000]\n",
    "val_set = mat_lists[190000:200000]\n",
    "te_set = mat_lists[200000:]\n",
    "\n",
    "# Load match results as dictionaris\n",
    "mat_results = pd.read_csv('./Dataset/results.csv', index_col=0).to_dict('index')"
   ]
  },
  {
   "cell_type": "markdown",
   "metadata": {},
   "source": [
    "# Model"
   ]
  },
  {
   "cell_type": "code",
   "execution_count": null,
   "metadata": {},
   "outputs": [],
   "source": [
    "from model_mlp import BCEModel\n",
    "\n",
    "M = BCEModel(hparam['linear_dims'], hparam['lr'])\n",
    "param = f'mlp_{len(hparam[\"linear_dims\"])}_layers_BCE.pkl'"
   ]
  },
  {
   "cell_type": "markdown",
   "metadata": {},
   "source": [
    "# Train"
   ]
  },
  {
   "cell_type": "code",
   "execution_count": null,
   "metadata": {},
   "outputs": [],
   "source": [
    "if hparam['train']:\n",
    "    for epoch in range(hparam['epoch']):\n",
    "        # training process\n",
    "        for idx, tr_dat in enumerate(tr_set):\n",
    "            # print training progress\n",
    "            print(f'[Epoch {epoch+1:3d}] ({idx+1:6d}/{len(tr_set)}) processing {tr_dat[:-4]:<30s}', end='\\r')\n",
    "\n",
    "            with open(f'{dpath}/{tr_dat}', 'rb') as feat_file:\n",
    "                features = pickle.load(feat_file)\n",
    "            winner = mat_results[tr_dat[:-4]]['win']\n",
    "\n",
    "            # train\n",
    "            M.train(features, winner)\n",
    "        \n",
    "        # validation process\n",
    "        if (epoch+1)%hparam['report'] == 0: # execute validation in {hparam['report']} epoch interval\n",
    "            M.reset_result()\n",
    "            for idx, val_dat in enumerate(val_set):\n",
    "                # print validation progress\n",
    "                print(f'[Validation for epoch {epoch+1:3d}] ({idx+1:6d}/{len(val_set)}) processing {val_dat[:-4]:<30s}', end='\\r') \n",
    "\n",
    "                with open(f'{dpath}/{val_dat}', 'rb') as feat_file:\n",
    "                    features = pickle.load(feat_file)\n",
    "                winner = mat_results[val_dat[:-4]]['win']\n",
    "                \n",
    "                # validate\n",
    "                M.validate(features, winner)\n",
    "\n",
    "            acc, pre, rec, f1, loss = M.get_result()\n",
    "            print(f'[Validation for epoch {epoch+1:3d}] Accuracy: {acc:5.4f} / Precision: {pre:5.4f} / Recall: {rec:5.4f} / F1 score: {f1:5.4f} / loss: {loss:5.4f}')\n",
    "            M.save_parameters(param)"
   ]
  },
  {
   "cell_type": "markdown",
   "metadata": {},
   "source": [
    "# Test"
   ]
  },
  {
   "cell_type": "code",
   "execution_count": null,
   "metadata": {},
   "outputs": [],
   "source": [
    "from torch import cuda\n",
    "\n",
    "M.load_parameters(param)\n",
    "M.reset_result()\n",
    "for idx, te_dat in enumerate(te_set):\n",
    "    cuda.empty_cache()\n",
    "    save_path = './experiment/matches_scores/mlp_bce/'\n",
    "\n",
    "    # print training progress\n",
    "    print(f'[Testing] ({idx+1:6d}/{len(te_set)}) processing {te_dat[:-4]:<30s}', end='\\r')\n",
    "\n",
    "    with open(f'{dpath}/{te_dat}', 'rb') as feat_file:\n",
    "        features = pickle.load(feat_file)\n",
    "    winner = mat_results[te_dat[:-4]]['win']\n",
    "\n",
    "    M.test(features, winner, save_path, te_dat[:-4])\n",
    "\n",
    "acc, pre, rec, f1, loss = M.get_result()\n",
    "print(f'[Test result] Accuracy: {acc:5.4f} / Precision: {pre:5.4f} / Recall: {rec:5.4f} / F1 score: {f1:5.4f} / loss: {loss:5.4f}')"
   ]
  }
 ],
 "metadata": {
  "interpreter": {
   "hash": "31f2aee4e71d21fbe5cf8b01ff0e069b9275f58929596ceb00d14d90e3e16cd6"
  },
  "kernelspec": {
   "display_name": "Python 3.8.10 64-bit",
   "language": "python",
   "name": "python3"
  },
  "language_info": {
   "codemirror_mode": {
    "name": "ipython",
    "version": 3
   },
   "file_extension": ".py",
   "mimetype": "text/x-python",
   "name": "python",
   "nbconvert_exporter": "python",
   "pygments_lexer": "ipython3",
   "version": "3.8.10"
  },
  "orig_nbformat": 4
 },
 "nbformat": 4,
 "nbformat_minor": 2
}
