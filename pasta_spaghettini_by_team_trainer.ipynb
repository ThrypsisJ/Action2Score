{
 "cells": [
  {
   "cell_type": "markdown",
   "metadata": {},
   "source": [
    "# Train"
   ]
  },
  {
   "cell_type": "code",
   "execution_count": 1,
   "metadata": {},
   "outputs": [
    {
     "name": "stdout",
     "output_type": "stream",
     "text": [
      "--Train start--\n"
     ]
    },
    {
     "name": "stderr",
     "output_type": "stream",
     "text": [
      "[Epoch 1] :  11%|█         | 22270/200000 [10:23<1:22:58, 35.70it/s]\n"
     ]
    },
    {
     "ename": "KeyboardInterrupt",
     "evalue": "",
     "output_type": "error",
     "traceback": [
      "\u001b[0;31m---------------------------------------------------------------------------\u001b[0m",
      "\u001b[0;31mKeyboardInterrupt\u001b[0m                         Traceback (most recent call last)",
      "\u001b[0;32m/tmp/ipykernel_137229/1986890152.py\u001b[0m in \u001b[0;36m<module>\u001b[0;34m\u001b[0m\n\u001b[1;32m     45\u001b[0m         \u001b[0mfeatures\u001b[0m \u001b[0;34m=\u001b[0m \u001b[0mpd\u001b[0m\u001b[0;34m.\u001b[0m\u001b[0mread_pickle\u001b[0m\u001b[0;34m(\u001b[0m\u001b[0;34mf\"{pickle_path}{match_id}.pkl\"\u001b[0m\u001b[0;34m)\u001b[0m\u001b[0;34m\u001b[0m\u001b[0;34m\u001b[0m\u001b[0m\n\u001b[1;32m     46\u001b[0m \u001b[0;34m\u001b[0m\u001b[0m\n\u001b[0;32m---> 47\u001b[0;31m         \u001b[0mwinner\u001b[0m\u001b[0;34m,\u001b[0m \u001b[0mpredict\u001b[0m \u001b[0;34m=\u001b[0m \u001b[0mPASTA\u001b[0m\u001b[0;34m.\u001b[0m\u001b[0mtrain\u001b[0m\u001b[0;34m(\u001b[0m\u001b[0mfeatures\u001b[0m\u001b[0;34m,\u001b[0m \u001b[0mwin\u001b[0m\u001b[0;34m,\u001b[0m \u001b[0mbce\u001b[0m\u001b[0;34m)\u001b[0m\u001b[0;34m\u001b[0m\u001b[0;34m\u001b[0m\u001b[0m\n\u001b[0m\u001b[1;32m     48\u001b[0m         \u001b[0mcorrect\u001b[0m \u001b[0;34m=\u001b[0m \u001b[0;36m2\u001b[0m\u001b[0;34m*\u001b[0m\u001b[0mwinner\u001b[0m \u001b[0;34m+\u001b[0m \u001b[0mpredict\u001b[0m\u001b[0;34m\u001b[0m\u001b[0;34m\u001b[0m\u001b[0m\n\u001b[1;32m     49\u001b[0m         \u001b[0mconfusion_matrix\u001b[0m\u001b[0;34m[\u001b[0m\u001b[0mcorrect\u001b[0m\u001b[0;34m]\u001b[0m \u001b[0;34m+=\u001b[0m \u001b[0;36m1\u001b[0m\u001b[0;34m\u001b[0m\u001b[0;34m\u001b[0m\u001b[0m\n",
      "\u001b[0;32m/mnt/devStorage/Projects/PASTA/pasta_spaghettini_g3.py\u001b[0m in \u001b[0;36mtrain\u001b[0;34m(self, features, winner, bce)\u001b[0m\n\u001b[1;32m     33\u001b[0m \u001b[0;34m\u001b[0m\u001b[0m\n\u001b[1;32m     34\u001b[0m         \u001b[0;32mfor\u001b[0m \u001b[0midx\u001b[0m \u001b[0;32min\u001b[0m \u001b[0mrange\u001b[0m\u001b[0;34m(\u001b[0m\u001b[0;36m2\u001b[0m\u001b[0;34m)\u001b[0m\u001b[0;34m:\u001b[0m \u001b[0mself\u001b[0m\u001b[0;34m.\u001b[0m\u001b[0mnoodle_optims\u001b[0m\u001b[0;34m[\u001b[0m\u001b[0midx\u001b[0m\u001b[0;34m]\u001b[0m\u001b[0;34m.\u001b[0m\u001b[0mzero_grad\u001b[0m\u001b[0;34m(\u001b[0m\u001b[0;34m)\u001b[0m\u001b[0;34m\u001b[0m\u001b[0;34m\u001b[0m\u001b[0m\n\u001b[0;32m---> 35\u001b[0;31m         \u001b[0mloss\u001b[0m\u001b[0;34m.\u001b[0m\u001b[0mbackward\u001b[0m\u001b[0;34m(\u001b[0m\u001b[0;34m)\u001b[0m\u001b[0;34m\u001b[0m\u001b[0;34m\u001b[0m\u001b[0m\n\u001b[0m\u001b[1;32m     36\u001b[0m \u001b[0;34m\u001b[0m\u001b[0m\n\u001b[1;32m     37\u001b[0m         \u001b[0;32mfor\u001b[0m \u001b[0midx\u001b[0m \u001b[0;32min\u001b[0m \u001b[0mrange\u001b[0m\u001b[0;34m(\u001b[0m\u001b[0;36m2\u001b[0m\u001b[0;34m)\u001b[0m\u001b[0;34m:\u001b[0m \u001b[0mself\u001b[0m\u001b[0;34m.\u001b[0m\u001b[0mnoodle_optims\u001b[0m\u001b[0;34m[\u001b[0m\u001b[0midx\u001b[0m\u001b[0;34m]\u001b[0m\u001b[0;34m.\u001b[0m\u001b[0mstep\u001b[0m\u001b[0;34m(\u001b[0m\u001b[0;34m)\u001b[0m\u001b[0;34m\u001b[0m\u001b[0;34m\u001b[0m\u001b[0m\n",
      "\u001b[0;32m~/.local/lib/python3.8/site-packages/torch/_tensor.py\u001b[0m in \u001b[0;36mbackward\u001b[0;34m(self, gradient, retain_graph, create_graph, inputs)\u001b[0m\n\u001b[1;32m    253\u001b[0m                 \u001b[0mcreate_graph\u001b[0m\u001b[0;34m=\u001b[0m\u001b[0mcreate_graph\u001b[0m\u001b[0;34m,\u001b[0m\u001b[0;34m\u001b[0m\u001b[0;34m\u001b[0m\u001b[0m\n\u001b[1;32m    254\u001b[0m                 inputs=inputs)\n\u001b[0;32m--> 255\u001b[0;31m         \u001b[0mtorch\u001b[0m\u001b[0;34m.\u001b[0m\u001b[0mautograd\u001b[0m\u001b[0;34m.\u001b[0m\u001b[0mbackward\u001b[0m\u001b[0;34m(\u001b[0m\u001b[0mself\u001b[0m\u001b[0;34m,\u001b[0m \u001b[0mgradient\u001b[0m\u001b[0;34m,\u001b[0m \u001b[0mretain_graph\u001b[0m\u001b[0;34m,\u001b[0m \u001b[0mcreate_graph\u001b[0m\u001b[0;34m,\u001b[0m \u001b[0minputs\u001b[0m\u001b[0;34m=\u001b[0m\u001b[0minputs\u001b[0m\u001b[0;34m)\u001b[0m\u001b[0;34m\u001b[0m\u001b[0;34m\u001b[0m\u001b[0m\n\u001b[0m\u001b[1;32m    256\u001b[0m \u001b[0;34m\u001b[0m\u001b[0m\n\u001b[1;32m    257\u001b[0m     \u001b[0;32mdef\u001b[0m \u001b[0mregister_hook\u001b[0m\u001b[0;34m(\u001b[0m\u001b[0mself\u001b[0m\u001b[0;34m,\u001b[0m \u001b[0mhook\u001b[0m\u001b[0;34m)\u001b[0m\u001b[0;34m:\u001b[0m\u001b[0;34m\u001b[0m\u001b[0;34m\u001b[0m\u001b[0m\n",
      "\u001b[0;32m~/.local/lib/python3.8/site-packages/torch/autograd/__init__.py\u001b[0m in \u001b[0;36mbackward\u001b[0;34m(tensors, grad_tensors, retain_graph, create_graph, grad_variables, inputs)\u001b[0m\n\u001b[1;32m    145\u001b[0m         \u001b[0mretain_graph\u001b[0m \u001b[0;34m=\u001b[0m \u001b[0mcreate_graph\u001b[0m\u001b[0;34m\u001b[0m\u001b[0;34m\u001b[0m\u001b[0m\n\u001b[1;32m    146\u001b[0m \u001b[0;34m\u001b[0m\u001b[0m\n\u001b[0;32m--> 147\u001b[0;31m     Variable._execution_engine.run_backward(\n\u001b[0m\u001b[1;32m    148\u001b[0m         \u001b[0mtensors\u001b[0m\u001b[0;34m,\u001b[0m \u001b[0mgrad_tensors_\u001b[0m\u001b[0;34m,\u001b[0m \u001b[0mretain_graph\u001b[0m\u001b[0;34m,\u001b[0m \u001b[0mcreate_graph\u001b[0m\u001b[0;34m,\u001b[0m \u001b[0minputs\u001b[0m\u001b[0;34m,\u001b[0m\u001b[0;34m\u001b[0m\u001b[0;34m\u001b[0m\u001b[0m\n\u001b[1;32m    149\u001b[0m         allow_unreachable=True, accumulate_grad=True)  # allow_unreachable flag\n",
      "\u001b[0;31mKeyboardInterrupt\u001b[0m: "
     ]
    }
   ],
   "source": [
    "import pasta_spaghettini_by_team as spa\n",
    "#import pasta_spaghettini as spa\n",
    "import pandas as pd\n",
    "from tqdm import tqdm\n",
    "import torch\n",
    "\n",
    "data_route = '../../Dataset/League_of_Legends/features_tensor/'\n",
    "match_list = pd.read_feather('./processed_ftr/match_result_train.ftr')\n",
    "total_rows = match_list.shape[0]\n",
    "\n",
    "model = 1 # 0: time-reversed // 1: time_reversed(bce) // 2: chronological // 3: chronological(bce)\n",
    "\n",
    "if model == 0:\n",
    "    highest_acc = 0.992985\n",
    "    param_path = './parameters/param_spa_g3'\n",
    "    pickle_path = f'{data_route}by_team_train/'\n",
    "    bce = False\n",
    "elif model == 1:\n",
    "    highest_acc = 0.0\n",
    "    param_path = './parameters/param_spa_g3_bce'\n",
    "    pickle_path = f'{data_route}by_team_train/'\n",
    "    bce = True\n",
    "elif model == 2:\n",
    "    highest_acc = 0.990500\n",
    "    param_path = './parameters/param_spa_g3_ch'\n",
    "    pickle_path = f'{data_route}by_team_train_ch/'\n",
    "    bce = False\n",
    "else:\n",
    "    highest_acc = 0.0\n",
    "    param_path = './parameters/param_spa_g3_ch_bce'\n",
    "    pickle_path = f'{data_route}by_team_train_ch/'\n",
    "    bce = True\n",
    "\n",
    "PASTA = spa.PASTA(input_size=30, hidden_size=8, num_layers=2, learning_rate=0.001)\n",
    "PASTA.load_parameter(param_path)\n",
    "\n",
    "print(\"--Train start--\")\n",
    "for epoch in range(10):\n",
    "    confusion_matrix, c_label = [0, 0, 0, 0], [\"TN\", \"FP\", \"FN\", \"TP\"]\n",
    "    match_list = match_list.sample(frac=1).reset_index(drop=True)\n",
    "    \n",
    "    for idx in tqdm(range(total_rows), desc='[Epoch %1d] '%(epoch+1)):\n",
    "        row = match_list.iloc[idx]\n",
    "        match_id, win = row['match_no'], row['win']\n",
    "        features = pd.read_pickle(f\"{pickle_path}{match_id}.pkl\")\n",
    "\n",
    "        winner, predict = PASTA.train(features, win, bce)\n",
    "        correct = 2*winner + predict\n",
    "        confusion_matrix[correct] += 1\n",
    "\n",
    "    tn, fp, fn, tp = confusion_matrix[0], confusion_matrix[1], confusion_matrix[2], confusion_matrix[3]\n",
    "    acc = (tp+tn)/(tn+fp+fn+tp)\n",
    "    pre = tp/(tp+fp) if (tp+fp) != 0 else 0\n",
    "    rec = tp/(tp+fn) if (tp+fn) != 0 else 0\n",
    "    f1 = 2 * (pre * rec) / (pre + rec)\n",
    "\n",
    "    for idx in range(0, 4):\n",
    "        print(f'{c_label[idx]}: {confusion_matrix[idx]} / ', end='')\n",
    "    print('\\n' + 'Accuracy: %.6f / Precision: %.6f / Recall: %.6f / f1 score: %.6f'%(acc, pre, rec, f1))\n",
    "\n",
    "    if acc > highest_acc:\n",
    "        print(f\"New record. Saving parameters...\\n\")\n",
    "        PASTA.save_parameter(param_path)\n",
    "        highest_acc = acc\n",
    "    else:\n",
    "        print('Save temporary parameters...\\n')\n",
    "        PASTA.save_parameter('./parameters/tmp')\n",
    "    \n",
    "    torch.cuda.empty_cache()\n",
    "torch.cuda.empty_cache()"
   ]
  },
  {
   "cell_type": "markdown",
   "metadata": {},
   "source": [
    "# Test"
   ]
  },
  {
   "cell_type": "code",
   "execution_count": null,
   "metadata": {},
   "outputs": [],
   "source": [
    "import pasta_spaghettini_by_team as spa\n",
    "# import pasta_spaghettini as spa\n",
    "import pandas as pd\n",
    "from tqdm import tqdm\n",
    "import torch\n",
    "\n",
    "data_route = '../../Dataset/League_of_Legends/features_tensor/'\n",
    "match_list = pd.read_feather('./processed_ftr/match_result_test.ftr')\n",
    "total_rows = match_list.shape[0]\n",
    "\n",
    "model = 1 # 0: time-reversed // 1: time_reversed(bce) // 2: chronological // 3: chronological(bce)\n",
    "\n",
    "if model == 0:\n",
    "    highest_acc = 0.992985\n",
    "    param_path = './parameters/param_spa_g3'\n",
    "    pickle_path = f'{data_route}by_team_test/'\n",
    "    bce = False\n",
    "elif model == 1:\n",
    "    highest_acc = 0.0\n",
    "    param_path = './parameters/param_spa_g3_bce'\n",
    "    pickle_path = f'{data_route}by_team_test/'\n",
    "    bce = True\n",
    "elif model == 2:\n",
    "    highest_acc = 0.988595\n",
    "    param_path = './parameters/param_spa_g3_ch'\n",
    "    pickle_path = f'{data_route}by_team_test_ch/'\n",
    "    bce = False\n",
    "else:\n",
    "    highest_acc = 0.0\n",
    "    param_path = './parameters/param_spa_g3_ch_bce'\n",
    "    pickle_path = f'{data_route}by_team_test_ch/'\n",
    "    bce = True\n",
    "\n",
    "PASTA = spa.PASTA(input_size=30, hidden_size=8, num_layers=1, learning_rate=0.01)\n",
    "\n",
    "print(\"--Test start--\")\n",
    "PASTA.load_parameter(param_path)\n",
    "confusion_matrix, c_label = [0, 0, 0, 0], [\"TN\", \"FP\", \"FN\", \"TP\"]\n",
    "\n",
    "for idx in tqdm(range(total_rows), desc='[Epoch %1d] '%(epoch+1)):\n",
    "    row = match_list.iloc[idx]\n",
    "    match_id, win = row['match_no'], row['win']\n",
    "    features = pd.read_pickle(f\"{pickle_path}{match_id}.pkl\")\n",
    "\n",
    "    winner, predict = PASTA.test(features, win, bce)\n",
    "    correct = 2*winner + predict\n",
    "    confusion_matrix[correct] += 1\n",
    "\n",
    "tn, fp, fn, tp = confusion_matrix[0], confusion_matrix[1], confusion_matrix[2], confusion_matrix[3]\n",
    "acc = (tp+tn)/(tn+fp+fn+tp) * 100\n",
    "pre = tp/(tp+fp) * 100 if (tp+fp) != 0 else 0\n",
    "rec = tp/(tp+fn) * 100 if (tp+fn) != 0 else 0\n",
    "f1 = 2 * (pre * rec) / (pre + rec)\n",
    "\n",
    "for idx in range(0, 4):\n",
    "    print(f'{c_label[idx]}: {confusion_matrix[idx]} / ', end='')\n",
    "print('\\n' + 'Accuracy: %4.2f / Precision: %.4f / Recall: %.4f / f1 score: %.4f'%(acc, pre, rec, f1))\n",
    "\n",
    "torch.cuda.empty_cache()"
   ]
  }
 ],
 "metadata": {
  "interpreter": {
   "hash": "916dbcbb3f70747c44a77c7bcd40155683ae19c65e1c03b4aa3499c5328201f1"
  },
  "kernelspec": {
   "display_name": "Python 3.8.10 64-bit",
   "language": "python",
   "name": "python3"
  },
  "language_info": {
   "codemirror_mode": {
    "name": "ipython",
    "version": 3
   },
   "file_extension": ".py",
   "mimetype": "text/x-python",
   "name": "python",
   "nbconvert_exporter": "python",
   "pygments_lexer": "ipython3",
   "version": "3.8.10"
  },
  "orig_nbformat": 4
 },
 "nbformat": 4,
 "nbformat_minor": 2
}
