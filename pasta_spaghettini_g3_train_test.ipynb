{
 "cells": [
  {
   "cell_type": "markdown",
   "metadata": {},
   "source": [
    "# Train"
   ]
  },
  {
   "cell_type": "code",
   "execution_count": 2,
   "metadata": {},
   "outputs": [
    {
     "name": "stdout",
     "output_type": "stream",
     "text": [
      "--Train start--\n"
     ]
    },
    {
     "name": "stderr",
     "output_type": "stream",
     "text": [
      "[Epoch 1] : 100%|██████████| 200000/200000 [1:34:54<00:00, 35.12it/s]\n"
     ]
    },
    {
     "name": "stdout",
     "output_type": "stream",
     "text": [
      "TN: 96797 / FP: 1066 / FN: 1096 / TP: 101041 / \n",
      "Accuracy: 0.989190 / Precision: 0.989560 / Recall: 0.989269 / f1 score: 0.989415\n",
      "New record. Saving parameters...\n",
      "\n"
     ]
    },
    {
     "name": "stderr",
     "output_type": "stream",
     "text": [
      "[Epoch 2] : 100%|██████████| 200000/200000 [1:34:31<00:00, 35.26it/s]\n"
     ]
    },
    {
     "name": "stdout",
     "output_type": "stream",
     "text": [
      "TN: 96841 / FP: 1022 / FN: 1065 / TP: 101072 / \n",
      "Accuracy: 0.989565 / Precision: 0.989990 / Recall: 0.989573 / f1 score: 0.989781\n",
      "New record. Saving parameters...\n",
      "\n"
     ]
    },
    {
     "name": "stderr",
     "output_type": "stream",
     "text": [
      "[Epoch 3] : 100%|██████████| 200000/200000 [1:33:46<00:00, 35.55it/s]\n"
     ]
    },
    {
     "name": "stdout",
     "output_type": "stream",
     "text": [
      "TN: 96891 / FP: 972 / FN: 998 / TP: 101139 / \n",
      "Accuracy: 0.990150 / Precision: 0.990481 / Recall: 0.990229 / f1 score: 0.990355\n",
      "New record. Saving parameters...\n",
      "\n"
     ]
    },
    {
     "name": "stderr",
     "output_type": "stream",
     "text": [
      "[Epoch 4] :  71%|███████   | 141203/200000 [1:05:56<28:28, 34.42it/s]"
     ]
    }
   ],
   "source": [
    "import pasta_spaghettini_g3 as spa_g3\n",
    "import pandas as pd\n",
    "from tqdm import tqdm\n",
    "import torch\n",
    "\n",
    "PASTA = spa_g3.PASTA(input_size=30, hidden_size=8, num_layers=2, learning_rate=0.001)\n",
    "PASTA.load_parameter('./parameters/param_spa_g3_ch')\n",
    "\n",
    "data_route = '../../Dataset/League_of_Legends/features_tensor/'\n",
    "match_list = pd.read_feather('./processed_ftr/match_result_train.ftr')\n",
    "total_rows = match_list.shape[0]\n",
    "# highest_acc = 0.992985 # time-reversed\n",
    "highest_acc = 0.988595 # chronological\n",
    "# highest_acc = 0.0 # time-reversed bce\n",
    "# highest_acc = 0.0 # chronological bce\n",
    "\n",
    "print(\"--Train start--\")\n",
    "for epoch in range(10):\n",
    "    confusion_matrix, c_label = [0, 0, 0, 0], [\"TN\", \"FP\", \"FN\", \"TP\"]\n",
    "    match_list = match_list.sample(frac=1).reset_index(drop=True)\n",
    "    \n",
    "    for idx in tqdm(range(total_rows), desc='[Epoch %1d] '%(epoch+1)):\n",
    "        row = match_list.iloc[idx]\n",
    "        match_id, win = row['match_no'], row['win']\n",
    "        features = pd.read_pickle(f\"{data_route}by_team_train_ch/{match_id}.pkl\")\n",
    "\n",
    "        winner, predict = PASTA.train(features, win)\n",
    "        correct = 2*winner + predict\n",
    "        confusion_matrix[correct] += 1\n",
    "\n",
    "    tn, fp, fn, tp = confusion_matrix[0], confusion_matrix[1], confusion_matrix[2], confusion_matrix[3]\n",
    "    acc = (tp+tn)/(tn+fp+fn+tp)\n",
    "    pre = tp/(tp+fp) if (tp+fp) != 0 else 0\n",
    "    rec = tp/(tp+fn) if (tp+fn) != 0 else 0\n",
    "    f1 = 2 * (pre * rec) / (pre + rec)\n",
    "\n",
    "    for idx in range(0, 4):\n",
    "        print(f'{c_label[idx]}: {confusion_matrix[idx]} / ', end='')\n",
    "    print('\\n' + 'Accuracy: %.6f / Precision: %.6f / Recall: %.6f / f1 score: %.6f'%(acc, pre, rec, f1))\n",
    "\n",
    "    if acc > highest_acc:\n",
    "        print(f\"New record. Saving parameters...\\n\")\n",
    "        PASTA.save_parameter('./parameters/param_spa_g3_ch')\n",
    "        highest_acc = acc\n",
    "    else:\n",
    "        print('Save temporary parameters...\\n')\n",
    "        PASTA.save_parameter('./parameters/tmp')\n",
    "    \n",
    "    torch.cuda.empty_cache()"
   ]
  },
  {
   "cell_type": "markdown",
   "metadata": {},
   "source": [
    "# Test"
   ]
  },
  {
   "cell_type": "code",
   "execution_count": null,
   "metadata": {},
   "outputs": [],
   "source": [
    "import pasta_spaghettini_g3 as spa_g3\n",
    "import pandas as pd\n",
    "from tqdm import tqdm\n",
    "import torch\n",
    "\n",
    "PASTA = spa_g3.PASTA(input_size=30, hidden_size=8, num_layers=1, learning_rate=0.01)\n",
    "\n",
    "data_route = '../../Dataset/League_of_Legends/features_tensor/'\n",
    "match_list = pd.read_feather('./processed_ftr/match_result_test.ftr')\n",
    "total_rows = match_list.shape[0]\n",
    "\n",
    "print(\"--Test start--\")\n",
    "PASTA.load_parameter()\n",
    "confusion_matrix, c_label = [0, 0, 0, 0], [\"TN\", \"FP\", \"FN\", \"TP\"]\n",
    "\n",
    "for idx in tqdm(range(total_rows), desc='[Epoch %1d] '%(epoch+1)):\n",
    "    row = match_list.iloc[idx]\n",
    "    match_id, win = row['match_no'], row['win']\n",
    "    features = pd.read_pickle(f\"{data_route}by_team_train/{match_id}.pkl\")\n",
    "\n",
    "    winner, predict = PASTA.test(features, win)\n",
    "    correct = 2*winner + predict\n",
    "    confusion_matrix[correct] += 1\n",
    "\n",
    "tn, fp, fn, tp = confusion_matrix[0], confusion_matrix[1], confusion_matrix[2], confusion_matrix[3]\n",
    "acc = (tp+tn)/(tn+fp+fn+tp) * 100\n",
    "pre = tp/(tp+fp) * 100 if (tp+fp) != 0 else 0\n",
    "rec = tp/(tp+fn) * 100 if (tp+fn) != 0 else 0\n",
    "f1 = 2 * (pre * rec) / (pre + rec)\n",
    "\n",
    "for idx in range(0, 4):\n",
    "    print(f'{c_label[idx]}: {confusion_matrix[idx]} / ', end='')\n",
    "print('\\n' + 'Accuracy: %4.2f / Precision: %.4f / Recall: %.4f / f1 score: %.4f'%(acc, pre, rec, f1))\n",
    "\n",
    "torch.cuda.empty_cache()"
   ]
  }
 ],
 "metadata": {
  "interpreter": {
   "hash": "916dbcbb3f70747c44a77c7bcd40155683ae19c65e1c03b4aa3499c5328201f1"
  },
  "kernelspec": {
   "display_name": "Python 3.8.10 64-bit",
   "language": "python",
   "name": "python3"
  },
  "language_info": {
   "codemirror_mode": {
    "name": "ipython",
    "version": 3
   },
   "file_extension": ".py",
   "mimetype": "text/x-python",
   "name": "python",
   "nbconvert_exporter": "python",
   "pygments_lexer": "ipython3",
   "version": "3.8.10"
  },
  "orig_nbformat": 4
 },
 "nbformat": 4,
 "nbformat_minor": 2
}
